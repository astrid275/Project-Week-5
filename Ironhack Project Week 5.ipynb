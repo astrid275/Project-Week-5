{
 "cells": [
  {
   "cell_type": "code",
   "execution_count": 4,
   "id": "fe4c953a-067a-45b6-a245-a5bc028ea031",
   "metadata": {},
   "outputs": [],
   "source": [
    "import pandas as pd\n",
    "import matplotlib.pyplot as plt\n",
    "import seaborn as sns\n",
    "import numpy as np\n",
    "\n",
    "%matplotlib inline"
   ]
  },
  {
   "cell_type": "code",
   "execution_count": null,
   "id": "fa3fc4b6-178b-4a3c-9667-f89b59975996",
   "metadata": {},
   "outputs": [],
   "source": []
  },
  {
   "cell_type": "code",
   "execution_count": 11,
   "id": "28d50adc-f262-495c-8e5a-554a3bfbe187",
   "metadata": {},
   "outputs": [
    {
     "ename": "SyntaxError",
     "evalue": "invalid syntax (750066293.py, line 1)",
     "output_type": "error",
     "traceback": [
      "\u001b[0;36m  Cell \u001b[0;32mIn[11], line 1\u001b[0;36m\u001b[0m\n\u001b[0;31m    import r\"Desktop/Ironhack Project Week 5/functions.py\"\u001b[0m\n\u001b[0m           ^\u001b[0m\n\u001b[0;31mSyntaxError\u001b[0m\u001b[0;31m:\u001b[0m invalid syntax\n"
     ]
    }
   ],
   "source": [
    "import "
   ]
  },
  {
   "cell_type": "code",
   "execution_count": 49,
   "id": "ef212da7-c25b-4cb9-8c44-1072fe82df22",
   "metadata": {},
   "outputs": [
    {
     "ename": "ModuleNotFoundError",
     "evalue": "No module named 'functions'",
     "output_type": "error",
     "traceback": [
      "\u001b[0;31m---------------------------------------------------------------------------\u001b[0m",
      "\u001b[0;31mModuleNotFoundError\u001b[0m                       Traceback (most recent call last)",
      "Cell \u001b[0;32mIn[49], line 1\u001b[0m\n\u001b[0;32m----> 1\u001b[0m \u001b[38;5;28;01mfrom\u001b[39;00m\u001b[38;5;250m \u001b[39m\u001b[38;5;21;01mfunctions\u001b[39;00m\u001b[38;5;250m \u001b[39m\u001b[38;5;28;01mimport\u001b[39;00m clean_column_names\n\u001b[1;32m      2\u001b[0m \u001b[38;5;66;03m# Example: assuming your datasets are df1, df2, ..., df14\u001b[39;00m\n\u001b[1;32m      3\u001b[0m datasets \u001b[38;5;241m=\u001b[39m [circuits_df, constructor_results_df, constructor_standings_df, constructors_df, driver_standings_df, drivers_df, lap_times_df, pit_stops_df, qualifying_df, races_df, results_df, seasons_df, sprint_results_df, status_df]\n",
      "\u001b[0;31mModuleNotFoundError\u001b[0m: No module named 'functions'"
     ]
    }
   ],
   "source": [
    "\n",
    "# Example: assuming your datasets are df1, df2, ..., df14\n",
    "datasets = [circuits_df, constructor_results_df, constructor_standings_df, constructors_df, driver_standings_df, drivers_df, lap_times_df, pit_stops_df, qualifying_df, races_df, results_df, seasons_df, sprint_results_df, status_df]\n",
    "\n",
    "# Loop through each dataset and clean column names\n",
    "datasets = [clean_column_names(df) for df in datasets]\n",
    "#clean_column_names(dataframe)"
   ]
  },
  {
   "cell_type": "code",
   "execution_count": null,
   "id": "b49dc0c0-d402-4cf1-96e5-3d3c42eebe0e",
   "metadata": {},
   "outputs": [],
   "source": []
  },
  {
   "cell_type": "code",
   "execution_count": 2,
   "id": "d6f21d1f-667b-460d-94db-e30b2ac1228e",
   "metadata": {},
   "outputs": [],
   "source": [
    "circuits_df = pd.read_csv(r'/Users/astridrestupersonal/Desktop/Ironhack Project Week 5/Formula 1 Datasets/circuits.csv')"
   ]
  },
  {
   "cell_type": "code",
   "execution_count": 3,
   "id": "b3383331-11c0-4091-84d2-d638548e17bf",
   "metadata": {},
   "outputs": [
    {
     "data": {
      "text/html": [
       "<div>\n",
       "<style scoped>\n",
       "    .dataframe tbody tr th:only-of-type {\n",
       "        vertical-align: middle;\n",
       "    }\n",
       "\n",
       "    .dataframe tbody tr th {\n",
       "        vertical-align: top;\n",
       "    }\n",
       "\n",
       "    .dataframe thead th {\n",
       "        text-align: right;\n",
       "    }\n",
       "</style>\n",
       "<table border=\"1\" class=\"dataframe\">\n",
       "  <thead>\n",
       "    <tr style=\"text-align: right;\">\n",
       "      <th></th>\n",
       "      <th>circuitId</th>\n",
       "      <th>circuitRef</th>\n",
       "      <th>name</th>\n",
       "      <th>location</th>\n",
       "      <th>country</th>\n",
       "      <th>lat</th>\n",
       "      <th>lng</th>\n",
       "      <th>alt</th>\n",
       "      <th>url</th>\n",
       "    </tr>\n",
       "  </thead>\n",
       "  <tbody>\n",
       "    <tr>\n",
       "      <th>0</th>\n",
       "      <td>1</td>\n",
       "      <td>albert_park</td>\n",
       "      <td>Albert Park Grand Prix Circuit</td>\n",
       "      <td>Melbourne</td>\n",
       "      <td>Australia</td>\n",
       "      <td>-37.84970</td>\n",
       "      <td>144.96800</td>\n",
       "      <td>10</td>\n",
       "      <td>http://en.wikipedia.org/wiki/Melbourne_Grand_P...</td>\n",
       "    </tr>\n",
       "    <tr>\n",
       "      <th>1</th>\n",
       "      <td>2</td>\n",
       "      <td>sepang</td>\n",
       "      <td>Sepang International Circuit</td>\n",
       "      <td>Kuala Lumpur</td>\n",
       "      <td>Malaysia</td>\n",
       "      <td>2.76083</td>\n",
       "      <td>101.73800</td>\n",
       "      <td>18</td>\n",
       "      <td>http://en.wikipedia.org/wiki/Sepang_Internatio...</td>\n",
       "    </tr>\n",
       "    <tr>\n",
       "      <th>2</th>\n",
       "      <td>3</td>\n",
       "      <td>bahrain</td>\n",
       "      <td>Bahrain International Circuit</td>\n",
       "      <td>Sakhir</td>\n",
       "      <td>Bahrain</td>\n",
       "      <td>26.03250</td>\n",
       "      <td>50.51060</td>\n",
       "      <td>7</td>\n",
       "      <td>http://en.wikipedia.org/wiki/Bahrain_Internati...</td>\n",
       "    </tr>\n",
       "    <tr>\n",
       "      <th>3</th>\n",
       "      <td>4</td>\n",
       "      <td>catalunya</td>\n",
       "      <td>Circuit de Barcelona-Catalunya</td>\n",
       "      <td>Montmeló</td>\n",
       "      <td>Spain</td>\n",
       "      <td>41.57000</td>\n",
       "      <td>2.26111</td>\n",
       "      <td>109</td>\n",
       "      <td>http://en.wikipedia.org/wiki/Circuit_de_Barcel...</td>\n",
       "    </tr>\n",
       "    <tr>\n",
       "      <th>4</th>\n",
       "      <td>5</td>\n",
       "      <td>istanbul</td>\n",
       "      <td>Istanbul Park</td>\n",
       "      <td>Istanbul</td>\n",
       "      <td>Turkey</td>\n",
       "      <td>40.95170</td>\n",
       "      <td>29.40500</td>\n",
       "      <td>130</td>\n",
       "      <td>http://en.wikipedia.org/wiki/Istanbul_Park</td>\n",
       "    </tr>\n",
       "  </tbody>\n",
       "</table>\n",
       "</div>"
      ],
      "text/plain": [
       "   circuitId   circuitRef                            name      location  \\\n",
       "0          1  albert_park  Albert Park Grand Prix Circuit     Melbourne   \n",
       "1          2       sepang    Sepang International Circuit  Kuala Lumpur   \n",
       "2          3      bahrain   Bahrain International Circuit        Sakhir   \n",
       "3          4    catalunya  Circuit de Barcelona-Catalunya      Montmeló   \n",
       "4          5     istanbul                   Istanbul Park      Istanbul   \n",
       "\n",
       "     country       lat        lng  alt  \\\n",
       "0  Australia -37.84970  144.96800   10   \n",
       "1   Malaysia   2.76083  101.73800   18   \n",
       "2    Bahrain  26.03250   50.51060    7   \n",
       "3      Spain  41.57000    2.26111  109   \n",
       "4     Turkey  40.95170   29.40500  130   \n",
       "\n",
       "                                                 url  \n",
       "0  http://en.wikipedia.org/wiki/Melbourne_Grand_P...  \n",
       "1  http://en.wikipedia.org/wiki/Sepang_Internatio...  \n",
       "2  http://en.wikipedia.org/wiki/Bahrain_Internati...  \n",
       "3  http://en.wikipedia.org/wiki/Circuit_de_Barcel...  \n",
       "4         http://en.wikipedia.org/wiki/Istanbul_Park  "
      ]
     },
     "execution_count": 3,
     "metadata": {},
     "output_type": "execute_result"
    }
   ],
   "source": [
    "circuits_df.head()"
   ]
  },
  {
   "cell_type": "code",
   "execution_count": 4,
   "id": "dc9a55ba-e217-443e-ad34-be5545ac3858",
   "metadata": {},
   "outputs": [
    {
     "data": {
      "text/plain": [
       "circuitId     0\n",
       "circuitRef    0\n",
       "name          0\n",
       "location      0\n",
       "country       0\n",
       "lat           0\n",
       "lng           0\n",
       "alt           0\n",
       "url           0\n",
       "dtype: int64"
      ]
     },
     "execution_count": 4,
     "metadata": {},
     "output_type": "execute_result"
    }
   ],
   "source": [
    "circuits_df.isnull().sum()\n",
    "# no nulls in the data"
   ]
  },
  {
   "cell_type": "code",
   "execution_count": 5,
   "id": "e4bd7ac9-631d-4f3d-b6f9-7b33568663c1",
   "metadata": {},
   "outputs": [],
   "source": [
    "constructor_results_df = pd.read_csv(r'/Users/astridrestupersonal/Desktop/Ironhack Project Week 5/Formula 1 Datasets/constructor_results.csv')"
   ]
  },
  {
   "cell_type": "code",
   "execution_count": 6,
   "id": "b7c36fd9-a8c4-4957-9064-5afa705d9758",
   "metadata": {},
   "outputs": [
    {
     "data": {
      "text/html": [
       "<div>\n",
       "<style scoped>\n",
       "    .dataframe tbody tr th:only-of-type {\n",
       "        vertical-align: middle;\n",
       "    }\n",
       "\n",
       "    .dataframe tbody tr th {\n",
       "        vertical-align: top;\n",
       "    }\n",
       "\n",
       "    .dataframe thead th {\n",
       "        text-align: right;\n",
       "    }\n",
       "</style>\n",
       "<table border=\"1\" class=\"dataframe\">\n",
       "  <thead>\n",
       "    <tr style=\"text-align: right;\">\n",
       "      <th></th>\n",
       "      <th>constructorResultsId</th>\n",
       "      <th>raceId</th>\n",
       "      <th>constructorId</th>\n",
       "      <th>points</th>\n",
       "      <th>status</th>\n",
       "    </tr>\n",
       "  </thead>\n",
       "  <tbody>\n",
       "    <tr>\n",
       "      <th>0</th>\n",
       "      <td>1</td>\n",
       "      <td>18</td>\n",
       "      <td>1</td>\n",
       "      <td>14.0</td>\n",
       "      <td>\\N</td>\n",
       "    </tr>\n",
       "    <tr>\n",
       "      <th>1</th>\n",
       "      <td>2</td>\n",
       "      <td>18</td>\n",
       "      <td>2</td>\n",
       "      <td>8.0</td>\n",
       "      <td>\\N</td>\n",
       "    </tr>\n",
       "    <tr>\n",
       "      <th>2</th>\n",
       "      <td>3</td>\n",
       "      <td>18</td>\n",
       "      <td>3</td>\n",
       "      <td>9.0</td>\n",
       "      <td>\\N</td>\n",
       "    </tr>\n",
       "    <tr>\n",
       "      <th>3</th>\n",
       "      <td>4</td>\n",
       "      <td>18</td>\n",
       "      <td>4</td>\n",
       "      <td>5.0</td>\n",
       "      <td>\\N</td>\n",
       "    </tr>\n",
       "    <tr>\n",
       "      <th>4</th>\n",
       "      <td>5</td>\n",
       "      <td>18</td>\n",
       "      <td>5</td>\n",
       "      <td>2.0</td>\n",
       "      <td>\\N</td>\n",
       "    </tr>\n",
       "  </tbody>\n",
       "</table>\n",
       "</div>"
      ],
      "text/plain": [
       "   constructorResultsId  raceId  constructorId  points status\n",
       "0                     1      18              1    14.0     \\N\n",
       "1                     2      18              2     8.0     \\N\n",
       "2                     3      18              3     9.0     \\N\n",
       "3                     4      18              4     5.0     \\N\n",
       "4                     5      18              5     2.0     \\N"
      ]
     },
     "execution_count": 6,
     "metadata": {},
     "output_type": "execute_result"
    }
   ],
   "source": [
    "constructor_results_df.head()"
   ]
  },
  {
   "cell_type": "code",
   "execution_count": 7,
   "id": "76e12ece-0e00-44ab-9074-70d211d5da43",
   "metadata": {},
   "outputs": [
    {
     "data": {
      "text/plain": [
       "constructorResultsId    0\n",
       "raceId                  0\n",
       "constructorId           0\n",
       "points                  0\n",
       "status                  0\n",
       "dtype: int64"
      ]
     },
     "execution_count": 7,
     "metadata": {},
     "output_type": "execute_result"
    }
   ],
   "source": [
    "constructor_results_df.isnull().sum()"
   ]
  },
  {
   "cell_type": "code",
   "execution_count": 8,
   "id": "eacc5638-333f-4a27-8869-b0a8fa35e1f7",
   "metadata": {},
   "outputs": [],
   "source": [
    "constructor_standings_df = pd.read_csv(r'/Users/astridrestupersonal/Desktop/Ironhack Project Week 5/Formula 1 Datasets/constructor_standings.csv')"
   ]
  },
  {
   "cell_type": "code",
   "execution_count": 9,
   "id": "35dc9142-7fae-4863-8b6a-22418fe4112c",
   "metadata": {},
   "outputs": [
    {
     "data": {
      "text/html": [
       "<div>\n",
       "<style scoped>\n",
       "    .dataframe tbody tr th:only-of-type {\n",
       "        vertical-align: middle;\n",
       "    }\n",
       "\n",
       "    .dataframe tbody tr th {\n",
       "        vertical-align: top;\n",
       "    }\n",
       "\n",
       "    .dataframe thead th {\n",
       "        text-align: right;\n",
       "    }\n",
       "</style>\n",
       "<table border=\"1\" class=\"dataframe\">\n",
       "  <thead>\n",
       "    <tr style=\"text-align: right;\">\n",
       "      <th></th>\n",
       "      <th>constructorStandingsId</th>\n",
       "      <th>raceId</th>\n",
       "      <th>constructorId</th>\n",
       "      <th>points</th>\n",
       "      <th>position</th>\n",
       "      <th>positionText</th>\n",
       "      <th>wins</th>\n",
       "    </tr>\n",
       "  </thead>\n",
       "  <tbody>\n",
       "    <tr>\n",
       "      <th>0</th>\n",
       "      <td>1</td>\n",
       "      <td>18</td>\n",
       "      <td>1</td>\n",
       "      <td>14.0</td>\n",
       "      <td>1</td>\n",
       "      <td>1</td>\n",
       "      <td>1</td>\n",
       "    </tr>\n",
       "    <tr>\n",
       "      <th>1</th>\n",
       "      <td>2</td>\n",
       "      <td>18</td>\n",
       "      <td>2</td>\n",
       "      <td>8.0</td>\n",
       "      <td>3</td>\n",
       "      <td>3</td>\n",
       "      <td>0</td>\n",
       "    </tr>\n",
       "    <tr>\n",
       "      <th>2</th>\n",
       "      <td>3</td>\n",
       "      <td>18</td>\n",
       "      <td>3</td>\n",
       "      <td>9.0</td>\n",
       "      <td>2</td>\n",
       "      <td>2</td>\n",
       "      <td>0</td>\n",
       "    </tr>\n",
       "    <tr>\n",
       "      <th>3</th>\n",
       "      <td>4</td>\n",
       "      <td>18</td>\n",
       "      <td>4</td>\n",
       "      <td>5.0</td>\n",
       "      <td>4</td>\n",
       "      <td>4</td>\n",
       "      <td>0</td>\n",
       "    </tr>\n",
       "    <tr>\n",
       "      <th>4</th>\n",
       "      <td>5</td>\n",
       "      <td>18</td>\n",
       "      <td>5</td>\n",
       "      <td>2.0</td>\n",
       "      <td>5</td>\n",
       "      <td>5</td>\n",
       "      <td>0</td>\n",
       "    </tr>\n",
       "  </tbody>\n",
       "</table>\n",
       "</div>"
      ],
      "text/plain": [
       "   constructorStandingsId  raceId  constructorId  points  position  \\\n",
       "0                       1      18              1    14.0         1   \n",
       "1                       2      18              2     8.0         3   \n",
       "2                       3      18              3     9.0         2   \n",
       "3                       4      18              4     5.0         4   \n",
       "4                       5      18              5     2.0         5   \n",
       "\n",
       "  positionText  wins  \n",
       "0            1     1  \n",
       "1            3     0  \n",
       "2            2     0  \n",
       "3            4     0  \n",
       "4            5     0  "
      ]
     },
     "execution_count": 9,
     "metadata": {},
     "output_type": "execute_result"
    }
   ],
   "source": [
    "constructor_standings_df.head()"
   ]
  },
  {
   "cell_type": "code",
   "execution_count": 10,
   "id": "44dbc9e1-3ff7-4f6e-9af9-93dcabf0941c",
   "metadata": {},
   "outputs": [
    {
     "data": {
      "text/plain": [
       "constructorStandingsId    0\n",
       "raceId                    0\n",
       "constructorId             0\n",
       "points                    0\n",
       "position                  0\n",
       "positionText              0\n",
       "wins                      0\n",
       "dtype: int64"
      ]
     },
     "execution_count": 10,
     "metadata": {},
     "output_type": "execute_result"
    }
   ],
   "source": [
    "constructor_standings_df.isnull().sum()"
   ]
  },
  {
   "cell_type": "code",
   "execution_count": 11,
   "id": "13fa369b-0374-4cf4-9bda-0bdbc84ee28c",
   "metadata": {},
   "outputs": [],
   "source": [
    "constructors_df = pd.read_csv(r'/Users/astridrestupersonal/Desktop/Ironhack Project Week 5/Formula 1 Datasets/constructors.csv')"
   ]
  },
  {
   "cell_type": "code",
   "execution_count": 12,
   "id": "ebebf519-9b23-4d79-9004-44e896837d3c",
   "metadata": {},
   "outputs": [
    {
     "data": {
      "text/html": [
       "<div>\n",
       "<style scoped>\n",
       "    .dataframe tbody tr th:only-of-type {\n",
       "        vertical-align: middle;\n",
       "    }\n",
       "\n",
       "    .dataframe tbody tr th {\n",
       "        vertical-align: top;\n",
       "    }\n",
       "\n",
       "    .dataframe thead th {\n",
       "        text-align: right;\n",
       "    }\n",
       "</style>\n",
       "<table border=\"1\" class=\"dataframe\">\n",
       "  <thead>\n",
       "    <tr style=\"text-align: right;\">\n",
       "      <th></th>\n",
       "      <th>constructorId</th>\n",
       "      <th>constructorRef</th>\n",
       "      <th>name</th>\n",
       "      <th>nationality</th>\n",
       "      <th>url</th>\n",
       "    </tr>\n",
       "  </thead>\n",
       "  <tbody>\n",
       "    <tr>\n",
       "      <th>0</th>\n",
       "      <td>1</td>\n",
       "      <td>mclaren</td>\n",
       "      <td>McLaren</td>\n",
       "      <td>British</td>\n",
       "      <td>http://en.wikipedia.org/wiki/McLaren</td>\n",
       "    </tr>\n",
       "    <tr>\n",
       "      <th>1</th>\n",
       "      <td>2</td>\n",
       "      <td>bmw_sauber</td>\n",
       "      <td>BMW Sauber</td>\n",
       "      <td>German</td>\n",
       "      <td>http://en.wikipedia.org/wiki/BMW_Sauber</td>\n",
       "    </tr>\n",
       "    <tr>\n",
       "      <th>2</th>\n",
       "      <td>3</td>\n",
       "      <td>williams</td>\n",
       "      <td>Williams</td>\n",
       "      <td>British</td>\n",
       "      <td>http://en.wikipedia.org/wiki/Williams_Grand_Pr...</td>\n",
       "    </tr>\n",
       "    <tr>\n",
       "      <th>3</th>\n",
       "      <td>4</td>\n",
       "      <td>renault</td>\n",
       "      <td>Renault</td>\n",
       "      <td>French</td>\n",
       "      <td>http://en.wikipedia.org/wiki/Renault_in_Formul...</td>\n",
       "    </tr>\n",
       "    <tr>\n",
       "      <th>4</th>\n",
       "      <td>5</td>\n",
       "      <td>toro_rosso</td>\n",
       "      <td>Toro Rosso</td>\n",
       "      <td>Italian</td>\n",
       "      <td>http://en.wikipedia.org/wiki/Scuderia_Toro_Rosso</td>\n",
       "    </tr>\n",
       "  </tbody>\n",
       "</table>\n",
       "</div>"
      ],
      "text/plain": [
       "   constructorId constructorRef        name nationality  \\\n",
       "0              1        mclaren     McLaren     British   \n",
       "1              2     bmw_sauber  BMW Sauber      German   \n",
       "2              3       williams    Williams     British   \n",
       "3              4        renault     Renault      French   \n",
       "4              5     toro_rosso  Toro Rosso     Italian   \n",
       "\n",
       "                                                 url  \n",
       "0               http://en.wikipedia.org/wiki/McLaren  \n",
       "1            http://en.wikipedia.org/wiki/BMW_Sauber  \n",
       "2  http://en.wikipedia.org/wiki/Williams_Grand_Pr...  \n",
       "3  http://en.wikipedia.org/wiki/Renault_in_Formul...  \n",
       "4   http://en.wikipedia.org/wiki/Scuderia_Toro_Rosso  "
      ]
     },
     "execution_count": 12,
     "metadata": {},
     "output_type": "execute_result"
    }
   ],
   "source": [
    "constructors_df.head()"
   ]
  },
  {
   "cell_type": "code",
   "execution_count": 13,
   "id": "7108bbb4-5e54-4d0a-90c2-0b962a0002e4",
   "metadata": {},
   "outputs": [
    {
     "data": {
      "text/plain": [
       "constructorId     0\n",
       "constructorRef    0\n",
       "name              0\n",
       "nationality       0\n",
       "url               0\n",
       "dtype: int64"
      ]
     },
     "execution_count": 13,
     "metadata": {},
     "output_type": "execute_result"
    }
   ],
   "source": [
    "constructors_df.isnull().sum()"
   ]
  },
  {
   "cell_type": "code",
   "execution_count": 14,
   "id": "1c5cacd8-2750-4287-97a8-d5908f40e30f",
   "metadata": {},
   "outputs": [],
   "source": [
    "driver_standings_df = pd.read_csv(r'/Users/astridrestupersonal/Desktop/Ironhack Project Week 5/Formula 1 Datasets/driver_standings.csv')"
   ]
  },
  {
   "cell_type": "code",
   "execution_count": 15,
   "id": "d972d3c0-00b4-4765-8814-9371eb29bf22",
   "metadata": {},
   "outputs": [
    {
     "data": {
      "text/html": [
       "<div>\n",
       "<style scoped>\n",
       "    .dataframe tbody tr th:only-of-type {\n",
       "        vertical-align: middle;\n",
       "    }\n",
       "\n",
       "    .dataframe tbody tr th {\n",
       "        vertical-align: top;\n",
       "    }\n",
       "\n",
       "    .dataframe thead th {\n",
       "        text-align: right;\n",
       "    }\n",
       "</style>\n",
       "<table border=\"1\" class=\"dataframe\">\n",
       "  <thead>\n",
       "    <tr style=\"text-align: right;\">\n",
       "      <th></th>\n",
       "      <th>driverStandingsId</th>\n",
       "      <th>raceId</th>\n",
       "      <th>driverId</th>\n",
       "      <th>points</th>\n",
       "      <th>position</th>\n",
       "      <th>positionText</th>\n",
       "      <th>wins</th>\n",
       "    </tr>\n",
       "  </thead>\n",
       "  <tbody>\n",
       "    <tr>\n",
       "      <th>0</th>\n",
       "      <td>1</td>\n",
       "      <td>18</td>\n",
       "      <td>1</td>\n",
       "      <td>10.0</td>\n",
       "      <td>1</td>\n",
       "      <td>1</td>\n",
       "      <td>1</td>\n",
       "    </tr>\n",
       "    <tr>\n",
       "      <th>1</th>\n",
       "      <td>2</td>\n",
       "      <td>18</td>\n",
       "      <td>2</td>\n",
       "      <td>8.0</td>\n",
       "      <td>2</td>\n",
       "      <td>2</td>\n",
       "      <td>0</td>\n",
       "    </tr>\n",
       "    <tr>\n",
       "      <th>2</th>\n",
       "      <td>3</td>\n",
       "      <td>18</td>\n",
       "      <td>3</td>\n",
       "      <td>6.0</td>\n",
       "      <td>3</td>\n",
       "      <td>3</td>\n",
       "      <td>0</td>\n",
       "    </tr>\n",
       "    <tr>\n",
       "      <th>3</th>\n",
       "      <td>4</td>\n",
       "      <td>18</td>\n",
       "      <td>4</td>\n",
       "      <td>5.0</td>\n",
       "      <td>4</td>\n",
       "      <td>4</td>\n",
       "      <td>0</td>\n",
       "    </tr>\n",
       "    <tr>\n",
       "      <th>4</th>\n",
       "      <td>5</td>\n",
       "      <td>18</td>\n",
       "      <td>5</td>\n",
       "      <td>4.0</td>\n",
       "      <td>5</td>\n",
       "      <td>5</td>\n",
       "      <td>0</td>\n",
       "    </tr>\n",
       "  </tbody>\n",
       "</table>\n",
       "</div>"
      ],
      "text/plain": [
       "   driverStandingsId  raceId  driverId  points  position positionText  wins\n",
       "0                  1      18         1    10.0         1            1     1\n",
       "1                  2      18         2     8.0         2            2     0\n",
       "2                  3      18         3     6.0         3            3     0\n",
       "3                  4      18         4     5.0         4            4     0\n",
       "4                  5      18         5     4.0         5            5     0"
      ]
     },
     "execution_count": 15,
     "metadata": {},
     "output_type": "execute_result"
    }
   ],
   "source": [
    "driver_standings_df.head()"
   ]
  },
  {
   "cell_type": "code",
   "execution_count": 16,
   "id": "6fff4b6b-367e-4a46-a793-95906e24628e",
   "metadata": {},
   "outputs": [
    {
     "data": {
      "text/plain": [
       "driverStandingsId    0\n",
       "raceId               0\n",
       "driverId             0\n",
       "points               0\n",
       "position             0\n",
       "positionText         0\n",
       "wins                 0\n",
       "dtype: int64"
      ]
     },
     "execution_count": 16,
     "metadata": {},
     "output_type": "execute_result"
    }
   ],
   "source": [
    "driver_standings_df.isnull().sum()"
   ]
  },
  {
   "cell_type": "code",
   "execution_count": 17,
   "id": "160304bc-0a40-4f01-9e8a-b1dddec74fd3",
   "metadata": {},
   "outputs": [],
   "source": [
    "drivers_df = pd.read_csv(r'/Users/astridrestupersonal/Desktop/Ironhack Project Week 5/Formula 1 Datasets/drivers.csv')"
   ]
  },
  {
   "cell_type": "code",
   "execution_count": 18,
   "id": "f4582edc-d7a3-4b46-96a8-3e15a861c9ff",
   "metadata": {},
   "outputs": [
    {
     "data": {
      "text/html": [
       "<div>\n",
       "<style scoped>\n",
       "    .dataframe tbody tr th:only-of-type {\n",
       "        vertical-align: middle;\n",
       "    }\n",
       "\n",
       "    .dataframe tbody tr th {\n",
       "        vertical-align: top;\n",
       "    }\n",
       "\n",
       "    .dataframe thead th {\n",
       "        text-align: right;\n",
       "    }\n",
       "</style>\n",
       "<table border=\"1\" class=\"dataframe\">\n",
       "  <thead>\n",
       "    <tr style=\"text-align: right;\">\n",
       "      <th></th>\n",
       "      <th>driverId</th>\n",
       "      <th>driverRef</th>\n",
       "      <th>number</th>\n",
       "      <th>code</th>\n",
       "      <th>forename</th>\n",
       "      <th>surname</th>\n",
       "      <th>dob</th>\n",
       "      <th>nationality</th>\n",
       "      <th>url</th>\n",
       "    </tr>\n",
       "  </thead>\n",
       "  <tbody>\n",
       "    <tr>\n",
       "      <th>0</th>\n",
       "      <td>1</td>\n",
       "      <td>hamilton</td>\n",
       "      <td>44</td>\n",
       "      <td>HAM</td>\n",
       "      <td>Lewis</td>\n",
       "      <td>Hamilton</td>\n",
       "      <td>1985-01-07</td>\n",
       "      <td>British</td>\n",
       "      <td>http://en.wikipedia.org/wiki/Lewis_Hamilton</td>\n",
       "    </tr>\n",
       "    <tr>\n",
       "      <th>1</th>\n",
       "      <td>2</td>\n",
       "      <td>heidfeld</td>\n",
       "      <td>\\N</td>\n",
       "      <td>HEI</td>\n",
       "      <td>Nick</td>\n",
       "      <td>Heidfeld</td>\n",
       "      <td>1977-05-10</td>\n",
       "      <td>German</td>\n",
       "      <td>http://en.wikipedia.org/wiki/Nick_Heidfeld</td>\n",
       "    </tr>\n",
       "    <tr>\n",
       "      <th>2</th>\n",
       "      <td>3</td>\n",
       "      <td>rosberg</td>\n",
       "      <td>6</td>\n",
       "      <td>ROS</td>\n",
       "      <td>Nico</td>\n",
       "      <td>Rosberg</td>\n",
       "      <td>1985-06-27</td>\n",
       "      <td>German</td>\n",
       "      <td>http://en.wikipedia.org/wiki/Nico_Rosberg</td>\n",
       "    </tr>\n",
       "    <tr>\n",
       "      <th>3</th>\n",
       "      <td>4</td>\n",
       "      <td>alonso</td>\n",
       "      <td>14</td>\n",
       "      <td>ALO</td>\n",
       "      <td>Fernando</td>\n",
       "      <td>Alonso</td>\n",
       "      <td>1981-07-29</td>\n",
       "      <td>Spanish</td>\n",
       "      <td>http://en.wikipedia.org/wiki/Fernando_Alonso</td>\n",
       "    </tr>\n",
       "    <tr>\n",
       "      <th>4</th>\n",
       "      <td>5</td>\n",
       "      <td>kovalainen</td>\n",
       "      <td>\\N</td>\n",
       "      <td>KOV</td>\n",
       "      <td>Heikki</td>\n",
       "      <td>Kovalainen</td>\n",
       "      <td>1981-10-19</td>\n",
       "      <td>Finnish</td>\n",
       "      <td>http://en.wikipedia.org/wiki/Heikki_Kovalainen</td>\n",
       "    </tr>\n",
       "  </tbody>\n",
       "</table>\n",
       "</div>"
      ],
      "text/plain": [
       "   driverId   driverRef number code  forename     surname         dob  \\\n",
       "0         1    hamilton     44  HAM     Lewis    Hamilton  1985-01-07   \n",
       "1         2    heidfeld     \\N  HEI      Nick    Heidfeld  1977-05-10   \n",
       "2         3     rosberg      6  ROS      Nico     Rosberg  1985-06-27   \n",
       "3         4      alonso     14  ALO  Fernando      Alonso  1981-07-29   \n",
       "4         5  kovalainen     \\N  KOV    Heikki  Kovalainen  1981-10-19   \n",
       "\n",
       "  nationality                                             url  \n",
       "0     British     http://en.wikipedia.org/wiki/Lewis_Hamilton  \n",
       "1      German      http://en.wikipedia.org/wiki/Nick_Heidfeld  \n",
       "2      German       http://en.wikipedia.org/wiki/Nico_Rosberg  \n",
       "3     Spanish    http://en.wikipedia.org/wiki/Fernando_Alonso  \n",
       "4     Finnish  http://en.wikipedia.org/wiki/Heikki_Kovalainen  "
      ]
     },
     "execution_count": 18,
     "metadata": {},
     "output_type": "execute_result"
    }
   ],
   "source": [
    "drivers_df.head()"
   ]
  },
  {
   "cell_type": "code",
   "execution_count": 19,
   "id": "f3f1afc2-cfed-453d-b5b9-308caf83c232",
   "metadata": {},
   "outputs": [
    {
     "data": {
      "text/plain": [
       "driverId       0\n",
       "driverRef      0\n",
       "number         0\n",
       "code           0\n",
       "forename       0\n",
       "surname        0\n",
       "dob            0\n",
       "nationality    0\n",
       "url            0\n",
       "dtype: int64"
      ]
     },
     "execution_count": 19,
     "metadata": {},
     "output_type": "execute_result"
    }
   ],
   "source": [
    "drivers_df.isnull().sum()"
   ]
  },
  {
   "cell_type": "code",
   "execution_count": 20,
   "id": "e77087c1-da81-42fb-9547-de9d126276db",
   "metadata": {},
   "outputs": [],
   "source": [
    "lap_times_df = pd.read_csv(r'/Users/astridrestupersonal/Desktop/Ironhack Project Week 5/Formula 1 Datasets/lap_times.csv')"
   ]
  },
  {
   "cell_type": "code",
   "execution_count": 21,
   "id": "d147b757-af6b-40ee-bafb-5c653e63258f",
   "metadata": {},
   "outputs": [
    {
     "data": {
      "text/html": [
       "<div>\n",
       "<style scoped>\n",
       "    .dataframe tbody tr th:only-of-type {\n",
       "        vertical-align: middle;\n",
       "    }\n",
       "\n",
       "    .dataframe tbody tr th {\n",
       "        vertical-align: top;\n",
       "    }\n",
       "\n",
       "    .dataframe thead th {\n",
       "        text-align: right;\n",
       "    }\n",
       "</style>\n",
       "<table border=\"1\" class=\"dataframe\">\n",
       "  <thead>\n",
       "    <tr style=\"text-align: right;\">\n",
       "      <th></th>\n",
       "      <th>raceId</th>\n",
       "      <th>driverId</th>\n",
       "      <th>lap</th>\n",
       "      <th>position</th>\n",
       "      <th>time</th>\n",
       "      <th>milliseconds</th>\n",
       "    </tr>\n",
       "  </thead>\n",
       "  <tbody>\n",
       "    <tr>\n",
       "      <th>0</th>\n",
       "      <td>841</td>\n",
       "      <td>20</td>\n",
       "      <td>1</td>\n",
       "      <td>1</td>\n",
       "      <td>1:38.109</td>\n",
       "      <td>98109</td>\n",
       "    </tr>\n",
       "    <tr>\n",
       "      <th>1</th>\n",
       "      <td>841</td>\n",
       "      <td>20</td>\n",
       "      <td>2</td>\n",
       "      <td>1</td>\n",
       "      <td>1:33.006</td>\n",
       "      <td>93006</td>\n",
       "    </tr>\n",
       "    <tr>\n",
       "      <th>2</th>\n",
       "      <td>841</td>\n",
       "      <td>20</td>\n",
       "      <td>3</td>\n",
       "      <td>1</td>\n",
       "      <td>1:32.713</td>\n",
       "      <td>92713</td>\n",
       "    </tr>\n",
       "    <tr>\n",
       "      <th>3</th>\n",
       "      <td>841</td>\n",
       "      <td>20</td>\n",
       "      <td>4</td>\n",
       "      <td>1</td>\n",
       "      <td>1:32.803</td>\n",
       "      <td>92803</td>\n",
       "    </tr>\n",
       "    <tr>\n",
       "      <th>4</th>\n",
       "      <td>841</td>\n",
       "      <td>20</td>\n",
       "      <td>5</td>\n",
       "      <td>1</td>\n",
       "      <td>1:32.342</td>\n",
       "      <td>92342</td>\n",
       "    </tr>\n",
       "  </tbody>\n",
       "</table>\n",
       "</div>"
      ],
      "text/plain": [
       "   raceId  driverId  lap  position      time  milliseconds\n",
       "0     841        20    1         1  1:38.109         98109\n",
       "1     841        20    2         1  1:33.006         93006\n",
       "2     841        20    3         1  1:32.713         92713\n",
       "3     841        20    4         1  1:32.803         92803\n",
       "4     841        20    5         1  1:32.342         92342"
      ]
     },
     "execution_count": 21,
     "metadata": {},
     "output_type": "execute_result"
    }
   ],
   "source": [
    "lap_times_df.head()"
   ]
  },
  {
   "cell_type": "code",
   "execution_count": 22,
   "id": "041dbd03-581d-4e6b-92e7-1bec3a38d109",
   "metadata": {},
   "outputs": [
    {
     "data": {
      "text/plain": [
       "raceId          0\n",
       "driverId        0\n",
       "lap             0\n",
       "position        0\n",
       "time            0\n",
       "milliseconds    0\n",
       "dtype: int64"
      ]
     },
     "execution_count": 22,
     "metadata": {},
     "output_type": "execute_result"
    }
   ],
   "source": [
    "lap_times_df.isnull().sum()"
   ]
  },
  {
   "cell_type": "code",
   "execution_count": 23,
   "id": "1f19be25-0ca2-4957-9712-1fa9e3367707",
   "metadata": {},
   "outputs": [],
   "source": [
    "pit_stops_df = pd.read_csv(r'/Users/astridrestupersonal/Desktop/Ironhack Project Week 5/Formula 1 Datasets/pit_stops.csv') "
   ]
  },
  {
   "cell_type": "code",
   "execution_count": 24,
   "id": "bf86d251-8d5b-41cc-931d-7d7da5e669ee",
   "metadata": {},
   "outputs": [
    {
     "data": {
      "text/html": [
       "<div>\n",
       "<style scoped>\n",
       "    .dataframe tbody tr th:only-of-type {\n",
       "        vertical-align: middle;\n",
       "    }\n",
       "\n",
       "    .dataframe tbody tr th {\n",
       "        vertical-align: top;\n",
       "    }\n",
       "\n",
       "    .dataframe thead th {\n",
       "        text-align: right;\n",
       "    }\n",
       "</style>\n",
       "<table border=\"1\" class=\"dataframe\">\n",
       "  <thead>\n",
       "    <tr style=\"text-align: right;\">\n",
       "      <th></th>\n",
       "      <th>raceId</th>\n",
       "      <th>driverId</th>\n",
       "      <th>stop</th>\n",
       "      <th>lap</th>\n",
       "      <th>time</th>\n",
       "      <th>duration</th>\n",
       "      <th>milliseconds</th>\n",
       "    </tr>\n",
       "  </thead>\n",
       "  <tbody>\n",
       "    <tr>\n",
       "      <th>0</th>\n",
       "      <td>841</td>\n",
       "      <td>153</td>\n",
       "      <td>1</td>\n",
       "      <td>1</td>\n",
       "      <td>17:05:23</td>\n",
       "      <td>26.898</td>\n",
       "      <td>26898</td>\n",
       "    </tr>\n",
       "    <tr>\n",
       "      <th>1</th>\n",
       "      <td>841</td>\n",
       "      <td>30</td>\n",
       "      <td>1</td>\n",
       "      <td>1</td>\n",
       "      <td>17:05:52</td>\n",
       "      <td>25.021</td>\n",
       "      <td>25021</td>\n",
       "    </tr>\n",
       "    <tr>\n",
       "      <th>2</th>\n",
       "      <td>841</td>\n",
       "      <td>17</td>\n",
       "      <td>1</td>\n",
       "      <td>11</td>\n",
       "      <td>17:20:48</td>\n",
       "      <td>23.426</td>\n",
       "      <td>23426</td>\n",
       "    </tr>\n",
       "    <tr>\n",
       "      <th>3</th>\n",
       "      <td>841</td>\n",
       "      <td>4</td>\n",
       "      <td>1</td>\n",
       "      <td>12</td>\n",
       "      <td>17:22:34</td>\n",
       "      <td>23.251</td>\n",
       "      <td>23251</td>\n",
       "    </tr>\n",
       "    <tr>\n",
       "      <th>4</th>\n",
       "      <td>841</td>\n",
       "      <td>13</td>\n",
       "      <td>1</td>\n",
       "      <td>13</td>\n",
       "      <td>17:24:10</td>\n",
       "      <td>23.842</td>\n",
       "      <td>23842</td>\n",
       "    </tr>\n",
       "  </tbody>\n",
       "</table>\n",
       "</div>"
      ],
      "text/plain": [
       "   raceId  driverId  stop  lap      time duration  milliseconds\n",
       "0     841       153     1    1  17:05:23   26.898         26898\n",
       "1     841        30     1    1  17:05:52   25.021         25021\n",
       "2     841        17     1   11  17:20:48   23.426         23426\n",
       "3     841         4     1   12  17:22:34   23.251         23251\n",
       "4     841        13     1   13  17:24:10   23.842         23842"
      ]
     },
     "execution_count": 24,
     "metadata": {},
     "output_type": "execute_result"
    }
   ],
   "source": [
    "pit_stops_df.head()"
   ]
  },
  {
   "cell_type": "code",
   "execution_count": 25,
   "id": "98760157-945a-426d-9c25-ad1a1679be48",
   "metadata": {},
   "outputs": [
    {
     "data": {
      "text/plain": [
       "raceId          0\n",
       "driverId        0\n",
       "stop            0\n",
       "lap             0\n",
       "time            0\n",
       "duration        0\n",
       "milliseconds    0\n",
       "dtype: int64"
      ]
     },
     "execution_count": 25,
     "metadata": {},
     "output_type": "execute_result"
    }
   ],
   "source": [
    "pit_stops_df.isnull().sum()"
   ]
  },
  {
   "cell_type": "code",
   "execution_count": 26,
   "id": "e1c9e988-70d1-4f4d-95b9-bdec64b25d17",
   "metadata": {},
   "outputs": [],
   "source": [
    "qualifying_df = pd.read_csv(r'/Users/astridrestupersonal/Desktop/Ironhack Project Week 5/Formula 1 Datasets/qualifying.csv')"
   ]
  },
  {
   "cell_type": "code",
   "execution_count": 27,
   "id": "514f527f-64a3-46db-b8cd-2cd1802566a8",
   "metadata": {},
   "outputs": [
    {
     "data": {
      "text/html": [
       "<div>\n",
       "<style scoped>\n",
       "    .dataframe tbody tr th:only-of-type {\n",
       "        vertical-align: middle;\n",
       "    }\n",
       "\n",
       "    .dataframe tbody tr th {\n",
       "        vertical-align: top;\n",
       "    }\n",
       "\n",
       "    .dataframe thead th {\n",
       "        text-align: right;\n",
       "    }\n",
       "</style>\n",
       "<table border=\"1\" class=\"dataframe\">\n",
       "  <thead>\n",
       "    <tr style=\"text-align: right;\">\n",
       "      <th></th>\n",
       "      <th>qualifyId</th>\n",
       "      <th>raceId</th>\n",
       "      <th>driverId</th>\n",
       "      <th>constructorId</th>\n",
       "      <th>number</th>\n",
       "      <th>position</th>\n",
       "      <th>q1</th>\n",
       "      <th>q2</th>\n",
       "      <th>q3</th>\n",
       "    </tr>\n",
       "  </thead>\n",
       "  <tbody>\n",
       "    <tr>\n",
       "      <th>0</th>\n",
       "      <td>1</td>\n",
       "      <td>18</td>\n",
       "      <td>1</td>\n",
       "      <td>1</td>\n",
       "      <td>22</td>\n",
       "      <td>1</td>\n",
       "      <td>1:26.572</td>\n",
       "      <td>1:25.187</td>\n",
       "      <td>1:26.714</td>\n",
       "    </tr>\n",
       "    <tr>\n",
       "      <th>1</th>\n",
       "      <td>2</td>\n",
       "      <td>18</td>\n",
       "      <td>9</td>\n",
       "      <td>2</td>\n",
       "      <td>4</td>\n",
       "      <td>2</td>\n",
       "      <td>1:26.103</td>\n",
       "      <td>1:25.315</td>\n",
       "      <td>1:26.869</td>\n",
       "    </tr>\n",
       "    <tr>\n",
       "      <th>2</th>\n",
       "      <td>3</td>\n",
       "      <td>18</td>\n",
       "      <td>5</td>\n",
       "      <td>1</td>\n",
       "      <td>23</td>\n",
       "      <td>3</td>\n",
       "      <td>1:25.664</td>\n",
       "      <td>1:25.452</td>\n",
       "      <td>1:27.079</td>\n",
       "    </tr>\n",
       "    <tr>\n",
       "      <th>3</th>\n",
       "      <td>4</td>\n",
       "      <td>18</td>\n",
       "      <td>13</td>\n",
       "      <td>6</td>\n",
       "      <td>2</td>\n",
       "      <td>4</td>\n",
       "      <td>1:25.994</td>\n",
       "      <td>1:25.691</td>\n",
       "      <td>1:27.178</td>\n",
       "    </tr>\n",
       "    <tr>\n",
       "      <th>4</th>\n",
       "      <td>5</td>\n",
       "      <td>18</td>\n",
       "      <td>2</td>\n",
       "      <td>2</td>\n",
       "      <td>3</td>\n",
       "      <td>5</td>\n",
       "      <td>1:25.960</td>\n",
       "      <td>1:25.518</td>\n",
       "      <td>1:27.236</td>\n",
       "    </tr>\n",
       "  </tbody>\n",
       "</table>\n",
       "</div>"
      ],
      "text/plain": [
       "   qualifyId  raceId  driverId  constructorId  number  position        q1  \\\n",
       "0          1      18         1              1      22         1  1:26.572   \n",
       "1          2      18         9              2       4         2  1:26.103   \n",
       "2          3      18         5              1      23         3  1:25.664   \n",
       "3          4      18        13              6       2         4  1:25.994   \n",
       "4          5      18         2              2       3         5  1:25.960   \n",
       "\n",
       "         q2        q3  \n",
       "0  1:25.187  1:26.714  \n",
       "1  1:25.315  1:26.869  \n",
       "2  1:25.452  1:27.079  \n",
       "3  1:25.691  1:27.178  \n",
       "4  1:25.518  1:27.236  "
      ]
     },
     "execution_count": 27,
     "metadata": {},
     "output_type": "execute_result"
    }
   ],
   "source": [
    "qualifying_df.head()"
   ]
  },
  {
   "cell_type": "code",
   "execution_count": 28,
   "id": "21cbea62-f56d-492a-a67d-02d4b6be88d9",
   "metadata": {},
   "outputs": [
    {
     "data": {
      "text/plain": [
       "qualifyId         0\n",
       "raceId            0\n",
       "driverId          0\n",
       "constructorId     0\n",
       "number            0\n",
       "position          0\n",
       "q1                0\n",
       "q2               22\n",
       "q3               46\n",
       "dtype: int64"
      ]
     },
     "execution_count": 28,
     "metadata": {},
     "output_type": "execute_result"
    }
   ],
   "source": [
    "qualifying_df.isnull().sum()"
   ]
  },
  {
   "cell_type": "code",
   "execution_count": 29,
   "id": "ea39f901-cb68-4ee3-bd1f-2d6aa022fe99",
   "metadata": {},
   "outputs": [],
   "source": [
    "races_df = pd.read_csv(r'/Users/astridrestupersonal/Desktop/Ironhack Project Week 5/Formula 1 Datasets/races.csv')"
   ]
  },
  {
   "cell_type": "code",
   "execution_count": 30,
   "id": "a3c879fb-4d39-4ecb-a80b-8d78cf1decf2",
   "metadata": {},
   "outputs": [
    {
     "data": {
      "text/html": [
       "<div>\n",
       "<style scoped>\n",
       "    .dataframe tbody tr th:only-of-type {\n",
       "        vertical-align: middle;\n",
       "    }\n",
       "\n",
       "    .dataframe tbody tr th {\n",
       "        vertical-align: top;\n",
       "    }\n",
       "\n",
       "    .dataframe thead th {\n",
       "        text-align: right;\n",
       "    }\n",
       "</style>\n",
       "<table border=\"1\" class=\"dataframe\">\n",
       "  <thead>\n",
       "    <tr style=\"text-align: right;\">\n",
       "      <th></th>\n",
       "      <th>raceId</th>\n",
       "      <th>year</th>\n",
       "      <th>round</th>\n",
       "      <th>circuitId</th>\n",
       "      <th>name</th>\n",
       "      <th>date</th>\n",
       "      <th>time</th>\n",
       "      <th>url</th>\n",
       "      <th>fp1_date</th>\n",
       "      <th>fp1_time</th>\n",
       "      <th>fp2_date</th>\n",
       "      <th>fp2_time</th>\n",
       "      <th>fp3_date</th>\n",
       "      <th>fp3_time</th>\n",
       "      <th>quali_date</th>\n",
       "      <th>quali_time</th>\n",
       "      <th>sprint_date</th>\n",
       "      <th>sprint_time</th>\n",
       "    </tr>\n",
       "  </thead>\n",
       "  <tbody>\n",
       "    <tr>\n",
       "      <th>0</th>\n",
       "      <td>1</td>\n",
       "      <td>2009</td>\n",
       "      <td>1</td>\n",
       "      <td>1</td>\n",
       "      <td>Australian Grand Prix</td>\n",
       "      <td>2009-03-29</td>\n",
       "      <td>06:00:00</td>\n",
       "      <td>http://en.wikipedia.org/wiki/2009_Australian_G...</td>\n",
       "      <td>\\N</td>\n",
       "      <td>\\N</td>\n",
       "      <td>\\N</td>\n",
       "      <td>\\N</td>\n",
       "      <td>\\N</td>\n",
       "      <td>\\N</td>\n",
       "      <td>\\N</td>\n",
       "      <td>\\N</td>\n",
       "      <td>\\N</td>\n",
       "      <td>\\N</td>\n",
       "    </tr>\n",
       "    <tr>\n",
       "      <th>1</th>\n",
       "      <td>2</td>\n",
       "      <td>2009</td>\n",
       "      <td>2</td>\n",
       "      <td>2</td>\n",
       "      <td>Malaysian Grand Prix</td>\n",
       "      <td>2009-04-05</td>\n",
       "      <td>09:00:00</td>\n",
       "      <td>http://en.wikipedia.org/wiki/2009_Malaysian_Gr...</td>\n",
       "      <td>\\N</td>\n",
       "      <td>\\N</td>\n",
       "      <td>\\N</td>\n",
       "      <td>\\N</td>\n",
       "      <td>\\N</td>\n",
       "      <td>\\N</td>\n",
       "      <td>\\N</td>\n",
       "      <td>\\N</td>\n",
       "      <td>\\N</td>\n",
       "      <td>\\N</td>\n",
       "    </tr>\n",
       "    <tr>\n",
       "      <th>2</th>\n",
       "      <td>3</td>\n",
       "      <td>2009</td>\n",
       "      <td>3</td>\n",
       "      <td>17</td>\n",
       "      <td>Chinese Grand Prix</td>\n",
       "      <td>2009-04-19</td>\n",
       "      <td>07:00:00</td>\n",
       "      <td>http://en.wikipedia.org/wiki/2009_Chinese_Gran...</td>\n",
       "      <td>\\N</td>\n",
       "      <td>\\N</td>\n",
       "      <td>\\N</td>\n",
       "      <td>\\N</td>\n",
       "      <td>\\N</td>\n",
       "      <td>\\N</td>\n",
       "      <td>\\N</td>\n",
       "      <td>\\N</td>\n",
       "      <td>\\N</td>\n",
       "      <td>\\N</td>\n",
       "    </tr>\n",
       "    <tr>\n",
       "      <th>3</th>\n",
       "      <td>4</td>\n",
       "      <td>2009</td>\n",
       "      <td>4</td>\n",
       "      <td>3</td>\n",
       "      <td>Bahrain Grand Prix</td>\n",
       "      <td>2009-04-26</td>\n",
       "      <td>12:00:00</td>\n",
       "      <td>http://en.wikipedia.org/wiki/2009_Bahrain_Gran...</td>\n",
       "      <td>\\N</td>\n",
       "      <td>\\N</td>\n",
       "      <td>\\N</td>\n",
       "      <td>\\N</td>\n",
       "      <td>\\N</td>\n",
       "      <td>\\N</td>\n",
       "      <td>\\N</td>\n",
       "      <td>\\N</td>\n",
       "      <td>\\N</td>\n",
       "      <td>\\N</td>\n",
       "    </tr>\n",
       "    <tr>\n",
       "      <th>4</th>\n",
       "      <td>5</td>\n",
       "      <td>2009</td>\n",
       "      <td>5</td>\n",
       "      <td>4</td>\n",
       "      <td>Spanish Grand Prix</td>\n",
       "      <td>2009-05-10</td>\n",
       "      <td>12:00:00</td>\n",
       "      <td>http://en.wikipedia.org/wiki/2009_Spanish_Gran...</td>\n",
       "      <td>\\N</td>\n",
       "      <td>\\N</td>\n",
       "      <td>\\N</td>\n",
       "      <td>\\N</td>\n",
       "      <td>\\N</td>\n",
       "      <td>\\N</td>\n",
       "      <td>\\N</td>\n",
       "      <td>\\N</td>\n",
       "      <td>\\N</td>\n",
       "      <td>\\N</td>\n",
       "    </tr>\n",
       "  </tbody>\n",
       "</table>\n",
       "</div>"
      ],
      "text/plain": [
       "   raceId  year  round  circuitId                   name        date  \\\n",
       "0       1  2009      1          1  Australian Grand Prix  2009-03-29   \n",
       "1       2  2009      2          2   Malaysian Grand Prix  2009-04-05   \n",
       "2       3  2009      3         17     Chinese Grand Prix  2009-04-19   \n",
       "3       4  2009      4          3     Bahrain Grand Prix  2009-04-26   \n",
       "4       5  2009      5          4     Spanish Grand Prix  2009-05-10   \n",
       "\n",
       "       time                                                url fp1_date  \\\n",
       "0  06:00:00  http://en.wikipedia.org/wiki/2009_Australian_G...       \\N   \n",
       "1  09:00:00  http://en.wikipedia.org/wiki/2009_Malaysian_Gr...       \\N   \n",
       "2  07:00:00  http://en.wikipedia.org/wiki/2009_Chinese_Gran...       \\N   \n",
       "3  12:00:00  http://en.wikipedia.org/wiki/2009_Bahrain_Gran...       \\N   \n",
       "4  12:00:00  http://en.wikipedia.org/wiki/2009_Spanish_Gran...       \\N   \n",
       "\n",
       "  fp1_time fp2_date fp2_time fp3_date fp3_time quali_date quali_time  \\\n",
       "0       \\N       \\N       \\N       \\N       \\N         \\N         \\N   \n",
       "1       \\N       \\N       \\N       \\N       \\N         \\N         \\N   \n",
       "2       \\N       \\N       \\N       \\N       \\N         \\N         \\N   \n",
       "3       \\N       \\N       \\N       \\N       \\N         \\N         \\N   \n",
       "4       \\N       \\N       \\N       \\N       \\N         \\N         \\N   \n",
       "\n",
       "  sprint_date sprint_time  \n",
       "0          \\N          \\N  \n",
       "1          \\N          \\N  \n",
       "2          \\N          \\N  \n",
       "3          \\N          \\N  \n",
       "4          \\N          \\N  "
      ]
     },
     "execution_count": 30,
     "metadata": {},
     "output_type": "execute_result"
    }
   ],
   "source": [
    "races_df.head()"
   ]
  },
  {
   "cell_type": "code",
   "execution_count": 31,
   "id": "26b8d762-727b-4fd4-b748-1f9923078f44",
   "metadata": {},
   "outputs": [
    {
     "data": {
      "text/plain": [
       "raceId         0\n",
       "year           0\n",
       "round          0\n",
       "circuitId      0\n",
       "name           0\n",
       "date           0\n",
       "time           0\n",
       "url            0\n",
       "fp1_date       0\n",
       "fp1_time       0\n",
       "fp2_date       0\n",
       "fp2_time       0\n",
       "fp3_date       0\n",
       "fp3_time       0\n",
       "quali_date     0\n",
       "quali_time     0\n",
       "sprint_date    0\n",
       "sprint_time    0\n",
       "dtype: int64"
      ]
     },
     "execution_count": 31,
     "metadata": {},
     "output_type": "execute_result"
    }
   ],
   "source": [
    "races_df.isnull().sum()"
   ]
  },
  {
   "cell_type": "code",
   "execution_count": 32,
   "id": "d6fec7a1-87bd-4e6b-afa5-fb5cadf95481",
   "metadata": {},
   "outputs": [],
   "source": [
    "results_df = pd.read_csv(r'/Users/astridrestupersonal/Desktop/Ironhack Project Week 5/Formula 1 Datasets/results.csv')"
   ]
  },
  {
   "cell_type": "code",
   "execution_count": 33,
   "id": "660ff202-f213-448c-b6bf-6b6b2c5dbb5c",
   "metadata": {},
   "outputs": [
    {
     "data": {
      "text/html": [
       "<div>\n",
       "<style scoped>\n",
       "    .dataframe tbody tr th:only-of-type {\n",
       "        vertical-align: middle;\n",
       "    }\n",
       "\n",
       "    .dataframe tbody tr th {\n",
       "        vertical-align: top;\n",
       "    }\n",
       "\n",
       "    .dataframe thead th {\n",
       "        text-align: right;\n",
       "    }\n",
       "</style>\n",
       "<table border=\"1\" class=\"dataframe\">\n",
       "  <thead>\n",
       "    <tr style=\"text-align: right;\">\n",
       "      <th></th>\n",
       "      <th>resultId</th>\n",
       "      <th>raceId</th>\n",
       "      <th>driverId</th>\n",
       "      <th>constructorId</th>\n",
       "      <th>number</th>\n",
       "      <th>grid</th>\n",
       "      <th>position</th>\n",
       "      <th>positionText</th>\n",
       "      <th>positionOrder</th>\n",
       "      <th>points</th>\n",
       "      <th>laps</th>\n",
       "      <th>time</th>\n",
       "      <th>milliseconds</th>\n",
       "      <th>fastestLap</th>\n",
       "      <th>rank</th>\n",
       "      <th>fastestLapTime</th>\n",
       "      <th>fastestLapSpeed</th>\n",
       "      <th>statusId</th>\n",
       "    </tr>\n",
       "  </thead>\n",
       "  <tbody>\n",
       "    <tr>\n",
       "      <th>0</th>\n",
       "      <td>1</td>\n",
       "      <td>18</td>\n",
       "      <td>1</td>\n",
       "      <td>1</td>\n",
       "      <td>22</td>\n",
       "      <td>1</td>\n",
       "      <td>1</td>\n",
       "      <td>1</td>\n",
       "      <td>1</td>\n",
       "      <td>10.0</td>\n",
       "      <td>58</td>\n",
       "      <td>1:34:50.616</td>\n",
       "      <td>5690616</td>\n",
       "      <td>39</td>\n",
       "      <td>2</td>\n",
       "      <td>1:27.452</td>\n",
       "      <td>218.300</td>\n",
       "      <td>1</td>\n",
       "    </tr>\n",
       "    <tr>\n",
       "      <th>1</th>\n",
       "      <td>2</td>\n",
       "      <td>18</td>\n",
       "      <td>2</td>\n",
       "      <td>2</td>\n",
       "      <td>3</td>\n",
       "      <td>5</td>\n",
       "      <td>2</td>\n",
       "      <td>2</td>\n",
       "      <td>2</td>\n",
       "      <td>8.0</td>\n",
       "      <td>58</td>\n",
       "      <td>+5.478</td>\n",
       "      <td>5696094</td>\n",
       "      <td>41</td>\n",
       "      <td>3</td>\n",
       "      <td>1:27.739</td>\n",
       "      <td>217.586</td>\n",
       "      <td>1</td>\n",
       "    </tr>\n",
       "    <tr>\n",
       "      <th>2</th>\n",
       "      <td>3</td>\n",
       "      <td>18</td>\n",
       "      <td>3</td>\n",
       "      <td>3</td>\n",
       "      <td>7</td>\n",
       "      <td>7</td>\n",
       "      <td>3</td>\n",
       "      <td>3</td>\n",
       "      <td>3</td>\n",
       "      <td>6.0</td>\n",
       "      <td>58</td>\n",
       "      <td>+8.163</td>\n",
       "      <td>5698779</td>\n",
       "      <td>41</td>\n",
       "      <td>5</td>\n",
       "      <td>1:28.090</td>\n",
       "      <td>216.719</td>\n",
       "      <td>1</td>\n",
       "    </tr>\n",
       "    <tr>\n",
       "      <th>3</th>\n",
       "      <td>4</td>\n",
       "      <td>18</td>\n",
       "      <td>4</td>\n",
       "      <td>4</td>\n",
       "      <td>5</td>\n",
       "      <td>11</td>\n",
       "      <td>4</td>\n",
       "      <td>4</td>\n",
       "      <td>4</td>\n",
       "      <td>5.0</td>\n",
       "      <td>58</td>\n",
       "      <td>+17.181</td>\n",
       "      <td>5707797</td>\n",
       "      <td>58</td>\n",
       "      <td>7</td>\n",
       "      <td>1:28.603</td>\n",
       "      <td>215.464</td>\n",
       "      <td>1</td>\n",
       "    </tr>\n",
       "    <tr>\n",
       "      <th>4</th>\n",
       "      <td>5</td>\n",
       "      <td>18</td>\n",
       "      <td>5</td>\n",
       "      <td>1</td>\n",
       "      <td>23</td>\n",
       "      <td>3</td>\n",
       "      <td>5</td>\n",
       "      <td>5</td>\n",
       "      <td>5</td>\n",
       "      <td>4.0</td>\n",
       "      <td>58</td>\n",
       "      <td>+18.014</td>\n",
       "      <td>5708630</td>\n",
       "      <td>43</td>\n",
       "      <td>1</td>\n",
       "      <td>1:27.418</td>\n",
       "      <td>218.385</td>\n",
       "      <td>1</td>\n",
       "    </tr>\n",
       "  </tbody>\n",
       "</table>\n",
       "</div>"
      ],
      "text/plain": [
       "   resultId  raceId  driverId  constructorId number  grid position  \\\n",
       "0         1      18         1              1     22     1        1   \n",
       "1         2      18         2              2      3     5        2   \n",
       "2         3      18         3              3      7     7        3   \n",
       "3         4      18         4              4      5    11        4   \n",
       "4         5      18         5              1     23     3        5   \n",
       "\n",
       "  positionText  positionOrder  points  laps         time milliseconds  \\\n",
       "0            1              1    10.0    58  1:34:50.616      5690616   \n",
       "1            2              2     8.0    58       +5.478      5696094   \n",
       "2            3              3     6.0    58       +8.163      5698779   \n",
       "3            4              4     5.0    58      +17.181      5707797   \n",
       "4            5              5     4.0    58      +18.014      5708630   \n",
       "\n",
       "  fastestLap rank fastestLapTime fastestLapSpeed  statusId  \n",
       "0         39    2       1:27.452         218.300         1  \n",
       "1         41    3       1:27.739         217.586         1  \n",
       "2         41    5       1:28.090         216.719         1  \n",
       "3         58    7       1:28.603         215.464         1  \n",
       "4         43    1       1:27.418         218.385         1  "
      ]
     },
     "execution_count": 33,
     "metadata": {},
     "output_type": "execute_result"
    }
   ],
   "source": [
    "results_df.head()"
   ]
  },
  {
   "cell_type": "code",
   "execution_count": 34,
   "id": "c4a42fd3-2719-4b56-bc8d-c7917b501ac8",
   "metadata": {},
   "outputs": [
    {
     "data": {
      "text/plain": [
       "resultId           0\n",
       "raceId             0\n",
       "driverId           0\n",
       "constructorId      0\n",
       "number             0\n",
       "grid               0\n",
       "position           0\n",
       "positionText       0\n",
       "positionOrder      0\n",
       "points             0\n",
       "laps               0\n",
       "time               0\n",
       "milliseconds       0\n",
       "fastestLap         0\n",
       "rank               0\n",
       "fastestLapTime     0\n",
       "fastestLapSpeed    0\n",
       "statusId           0\n",
       "dtype: int64"
      ]
     },
     "execution_count": 34,
     "metadata": {},
     "output_type": "execute_result"
    }
   ],
   "source": [
    "results_df.isnull().sum()"
   ]
  },
  {
   "cell_type": "code",
   "execution_count": 35,
   "id": "a7dcff16-5fc6-476b-8cbb-4f9ef16b7e73",
   "metadata": {},
   "outputs": [],
   "source": [
    "seasons_df = pd.read_csv(r'/Users/astridrestupersonal/Desktop/Ironhack Project Week 5/Formula 1 Datasets/seasons.csv')"
   ]
  },
  {
   "cell_type": "code",
   "execution_count": 36,
   "id": "325a57dc-4dc4-4a8f-8896-7ef047ae93d5",
   "metadata": {},
   "outputs": [
    {
     "data": {
      "text/html": [
       "<div>\n",
       "<style scoped>\n",
       "    .dataframe tbody tr th:only-of-type {\n",
       "        vertical-align: middle;\n",
       "    }\n",
       "\n",
       "    .dataframe tbody tr th {\n",
       "        vertical-align: top;\n",
       "    }\n",
       "\n",
       "    .dataframe thead th {\n",
       "        text-align: right;\n",
       "    }\n",
       "</style>\n",
       "<table border=\"1\" class=\"dataframe\">\n",
       "  <thead>\n",
       "    <tr style=\"text-align: right;\">\n",
       "      <th></th>\n",
       "      <th>year</th>\n",
       "      <th>url</th>\n",
       "    </tr>\n",
       "  </thead>\n",
       "  <tbody>\n",
       "    <tr>\n",
       "      <th>0</th>\n",
       "      <td>2009</td>\n",
       "      <td>http://en.wikipedia.org/wiki/2009_Formula_One_...</td>\n",
       "    </tr>\n",
       "    <tr>\n",
       "      <th>1</th>\n",
       "      <td>2008</td>\n",
       "      <td>http://en.wikipedia.org/wiki/2008_Formula_One_...</td>\n",
       "    </tr>\n",
       "    <tr>\n",
       "      <th>2</th>\n",
       "      <td>2007</td>\n",
       "      <td>http://en.wikipedia.org/wiki/2007_Formula_One_...</td>\n",
       "    </tr>\n",
       "    <tr>\n",
       "      <th>3</th>\n",
       "      <td>2006</td>\n",
       "      <td>http://en.wikipedia.org/wiki/2006_Formula_One_...</td>\n",
       "    </tr>\n",
       "    <tr>\n",
       "      <th>4</th>\n",
       "      <td>2005</td>\n",
       "      <td>http://en.wikipedia.org/wiki/2005_Formula_One_...</td>\n",
       "    </tr>\n",
       "  </tbody>\n",
       "</table>\n",
       "</div>"
      ],
      "text/plain": [
       "   year                                                url\n",
       "0  2009  http://en.wikipedia.org/wiki/2009_Formula_One_...\n",
       "1  2008  http://en.wikipedia.org/wiki/2008_Formula_One_...\n",
       "2  2007  http://en.wikipedia.org/wiki/2007_Formula_One_...\n",
       "3  2006  http://en.wikipedia.org/wiki/2006_Formula_One_...\n",
       "4  2005  http://en.wikipedia.org/wiki/2005_Formula_One_..."
      ]
     },
     "execution_count": 36,
     "metadata": {},
     "output_type": "execute_result"
    }
   ],
   "source": [
    "seasons_df.head()"
   ]
  },
  {
   "cell_type": "code",
   "execution_count": 37,
   "id": "5a871eee-485d-4754-9b67-77aadd3488d7",
   "metadata": {},
   "outputs": [
    {
     "data": {
      "text/plain": [
       "year    0\n",
       "url     0\n",
       "dtype: int64"
      ]
     },
     "execution_count": 37,
     "metadata": {},
     "output_type": "execute_result"
    }
   ],
   "source": [
    "seasons_df.isnull().sum()"
   ]
  },
  {
   "cell_type": "code",
   "execution_count": 38,
   "id": "15b70b99-c0e8-46d8-99b9-e2ee899af614",
   "metadata": {},
   "outputs": [],
   "source": [
    "sprint_results_df = pd.read_csv(r'/Users/astridrestupersonal/Desktop/Ironhack Project Week 5/Formula 1 Datasets/sprint_results.csv')"
   ]
  },
  {
   "cell_type": "code",
   "execution_count": 39,
   "id": "4ec1cf81-ba88-4ae0-ac5f-66bfb8daee6e",
   "metadata": {},
   "outputs": [
    {
     "data": {
      "text/html": [
       "<div>\n",
       "<style scoped>\n",
       "    .dataframe tbody tr th:only-of-type {\n",
       "        vertical-align: middle;\n",
       "    }\n",
       "\n",
       "    .dataframe tbody tr th {\n",
       "        vertical-align: top;\n",
       "    }\n",
       "\n",
       "    .dataframe thead th {\n",
       "        text-align: right;\n",
       "    }\n",
       "</style>\n",
       "<table border=\"1\" class=\"dataframe\">\n",
       "  <thead>\n",
       "    <tr style=\"text-align: right;\">\n",
       "      <th></th>\n",
       "      <th>resultId</th>\n",
       "      <th>raceId</th>\n",
       "      <th>driverId</th>\n",
       "      <th>constructorId</th>\n",
       "      <th>number</th>\n",
       "      <th>grid</th>\n",
       "      <th>position</th>\n",
       "      <th>positionText</th>\n",
       "      <th>positionOrder</th>\n",
       "      <th>points</th>\n",
       "      <th>laps</th>\n",
       "      <th>time</th>\n",
       "      <th>milliseconds</th>\n",
       "      <th>fastestLap</th>\n",
       "      <th>fastestLapTime</th>\n",
       "      <th>statusId</th>\n",
       "    </tr>\n",
       "  </thead>\n",
       "  <tbody>\n",
       "    <tr>\n",
       "      <th>0</th>\n",
       "      <td>1</td>\n",
       "      <td>1061</td>\n",
       "      <td>830</td>\n",
       "      <td>9</td>\n",
       "      <td>33</td>\n",
       "      <td>2</td>\n",
       "      <td>1</td>\n",
       "      <td>1</td>\n",
       "      <td>1</td>\n",
       "      <td>3</td>\n",
       "      <td>17</td>\n",
       "      <td>25:38.426</td>\n",
       "      <td>1538426</td>\n",
       "      <td>14</td>\n",
       "      <td>1:30.013</td>\n",
       "      <td>1</td>\n",
       "    </tr>\n",
       "    <tr>\n",
       "      <th>1</th>\n",
       "      <td>2</td>\n",
       "      <td>1061</td>\n",
       "      <td>1</td>\n",
       "      <td>131</td>\n",
       "      <td>44</td>\n",
       "      <td>1</td>\n",
       "      <td>2</td>\n",
       "      <td>2</td>\n",
       "      <td>2</td>\n",
       "      <td>2</td>\n",
       "      <td>17</td>\n",
       "      <td>+1.430</td>\n",
       "      <td>1539856</td>\n",
       "      <td>17</td>\n",
       "      <td>1:29.937</td>\n",
       "      <td>1</td>\n",
       "    </tr>\n",
       "    <tr>\n",
       "      <th>2</th>\n",
       "      <td>3</td>\n",
       "      <td>1061</td>\n",
       "      <td>822</td>\n",
       "      <td>131</td>\n",
       "      <td>77</td>\n",
       "      <td>3</td>\n",
       "      <td>3</td>\n",
       "      <td>3</td>\n",
       "      <td>3</td>\n",
       "      <td>1</td>\n",
       "      <td>17</td>\n",
       "      <td>+7.502</td>\n",
       "      <td>1545928</td>\n",
       "      <td>17</td>\n",
       "      <td>1:29.958</td>\n",
       "      <td>1</td>\n",
       "    </tr>\n",
       "    <tr>\n",
       "      <th>3</th>\n",
       "      <td>4</td>\n",
       "      <td>1061</td>\n",
       "      <td>844</td>\n",
       "      <td>6</td>\n",
       "      <td>16</td>\n",
       "      <td>4</td>\n",
       "      <td>4</td>\n",
       "      <td>4</td>\n",
       "      <td>4</td>\n",
       "      <td>0</td>\n",
       "      <td>17</td>\n",
       "      <td>+11.278</td>\n",
       "      <td>1549704</td>\n",
       "      <td>16</td>\n",
       "      <td>1:30.163</td>\n",
       "      <td>1</td>\n",
       "    </tr>\n",
       "    <tr>\n",
       "      <th>4</th>\n",
       "      <td>5</td>\n",
       "      <td>1061</td>\n",
       "      <td>846</td>\n",
       "      <td>1</td>\n",
       "      <td>4</td>\n",
       "      <td>6</td>\n",
       "      <td>5</td>\n",
       "      <td>5</td>\n",
       "      <td>5</td>\n",
       "      <td>0</td>\n",
       "      <td>17</td>\n",
       "      <td>+24.111</td>\n",
       "      <td>1562537</td>\n",
       "      <td>16</td>\n",
       "      <td>1:30.566</td>\n",
       "      <td>1</td>\n",
       "    </tr>\n",
       "  </tbody>\n",
       "</table>\n",
       "</div>"
      ],
      "text/plain": [
       "   resultId  raceId  driverId  constructorId  number  grid position  \\\n",
       "0         1    1061       830              9      33     2        1   \n",
       "1         2    1061         1            131      44     1        2   \n",
       "2         3    1061       822            131      77     3        3   \n",
       "3         4    1061       844              6      16     4        4   \n",
       "4         5    1061       846              1       4     6        5   \n",
       "\n",
       "  positionText  positionOrder  points  laps       time milliseconds  \\\n",
       "0            1              1       3    17  25:38.426      1538426   \n",
       "1            2              2       2    17     +1.430      1539856   \n",
       "2            3              3       1    17     +7.502      1545928   \n",
       "3            4              4       0    17    +11.278      1549704   \n",
       "4            5              5       0    17    +24.111      1562537   \n",
       "\n",
       "  fastestLap fastestLapTime  statusId  \n",
       "0         14       1:30.013         1  \n",
       "1         17       1:29.937         1  \n",
       "2         17       1:29.958         1  \n",
       "3         16       1:30.163         1  \n",
       "4         16       1:30.566         1  "
      ]
     },
     "execution_count": 39,
     "metadata": {},
     "output_type": "execute_result"
    }
   ],
   "source": [
    "sprint_results_df.head()"
   ]
  },
  {
   "cell_type": "code",
   "execution_count": 40,
   "id": "aeee638e-5d30-4b1e-a50a-12a2f27abb4d",
   "metadata": {},
   "outputs": [
    {
     "data": {
      "text/plain": [
       "resultId          0\n",
       "raceId            0\n",
       "driverId          0\n",
       "constructorId     0\n",
       "number            0\n",
       "grid              0\n",
       "position          0\n",
       "positionText      0\n",
       "positionOrder     0\n",
       "points            0\n",
       "laps              0\n",
       "time              0\n",
       "milliseconds      0\n",
       "fastestLap        0\n",
       "fastestLapTime    0\n",
       "statusId          0\n",
       "dtype: int64"
      ]
     },
     "execution_count": 40,
     "metadata": {},
     "output_type": "execute_result"
    }
   ],
   "source": [
    "sprint_results_df.isnull().sum()"
   ]
  },
  {
   "cell_type": "code",
   "execution_count": 41,
   "id": "f004fd1a-4023-4bc7-b979-656bde934c6c",
   "metadata": {},
   "outputs": [],
   "source": [
    "status_df = pd.read_csv(r'/Users/astridrestupersonal/Desktop/Ironhack Project Week 5/Formula 1 Datasets/status.csv')"
   ]
  },
  {
   "cell_type": "code",
   "execution_count": 42,
   "id": "5d0cf951-32cd-4316-b8fe-44906d55507b",
   "metadata": {},
   "outputs": [
    {
     "data": {
      "text/html": [
       "<div>\n",
       "<style scoped>\n",
       "    .dataframe tbody tr th:only-of-type {\n",
       "        vertical-align: middle;\n",
       "    }\n",
       "\n",
       "    .dataframe tbody tr th {\n",
       "        vertical-align: top;\n",
       "    }\n",
       "\n",
       "    .dataframe thead th {\n",
       "        text-align: right;\n",
       "    }\n",
       "</style>\n",
       "<table border=\"1\" class=\"dataframe\">\n",
       "  <thead>\n",
       "    <tr style=\"text-align: right;\">\n",
       "      <th></th>\n",
       "      <th>statusId</th>\n",
       "      <th>status</th>\n",
       "    </tr>\n",
       "  </thead>\n",
       "  <tbody>\n",
       "    <tr>\n",
       "      <th>0</th>\n",
       "      <td>1</td>\n",
       "      <td>Finished</td>\n",
       "    </tr>\n",
       "    <tr>\n",
       "      <th>1</th>\n",
       "      <td>2</td>\n",
       "      <td>Disqualified</td>\n",
       "    </tr>\n",
       "    <tr>\n",
       "      <th>2</th>\n",
       "      <td>3</td>\n",
       "      <td>Accident</td>\n",
       "    </tr>\n",
       "    <tr>\n",
       "      <th>3</th>\n",
       "      <td>4</td>\n",
       "      <td>Collision</td>\n",
       "    </tr>\n",
       "    <tr>\n",
       "      <th>4</th>\n",
       "      <td>5</td>\n",
       "      <td>Engine</td>\n",
       "    </tr>\n",
       "    <tr>\n",
       "      <th>...</th>\n",
       "      <td>...</td>\n",
       "      <td>...</td>\n",
       "    </tr>\n",
       "    <tr>\n",
       "      <th>134</th>\n",
       "      <td>137</td>\n",
       "      <td>Damage</td>\n",
       "    </tr>\n",
       "    <tr>\n",
       "      <th>135</th>\n",
       "      <td>138</td>\n",
       "      <td>Debris</td>\n",
       "    </tr>\n",
       "    <tr>\n",
       "      <th>136</th>\n",
       "      <td>139</td>\n",
       "      <td>Illness</td>\n",
       "    </tr>\n",
       "    <tr>\n",
       "      <th>137</th>\n",
       "      <td>140</td>\n",
       "      <td>Undertray</td>\n",
       "    </tr>\n",
       "    <tr>\n",
       "      <th>138</th>\n",
       "      <td>141</td>\n",
       "      <td>Cooling system</td>\n",
       "    </tr>\n",
       "  </tbody>\n",
       "</table>\n",
       "<p>139 rows × 2 columns</p>\n",
       "</div>"
      ],
      "text/plain": [
       "     statusId          status\n",
       "0           1        Finished\n",
       "1           2    Disqualified\n",
       "2           3        Accident\n",
       "3           4       Collision\n",
       "4           5          Engine\n",
       "..        ...             ...\n",
       "134       137          Damage\n",
       "135       138          Debris\n",
       "136       139         Illness\n",
       "137       140       Undertray\n",
       "138       141  Cooling system\n",
       "\n",
       "[139 rows x 2 columns]"
      ]
     },
     "execution_count": 42,
     "metadata": {},
     "output_type": "execute_result"
    }
   ],
   "source": [
    "status_df"
   ]
  },
  {
   "cell_type": "code",
   "execution_count": 43,
   "id": "f9c9abb5-bfc7-479e-a902-43e1ef4c3ab5",
   "metadata": {},
   "outputs": [
    {
     "data": {
      "text/plain": [
       "statusId    0\n",
       "status      0\n",
       "dtype: int64"
      ]
     },
     "execution_count": 43,
     "metadata": {},
     "output_type": "execute_result"
    }
   ],
   "source": [
    "status_df.isnull().sum()"
   ]
  },
  {
   "cell_type": "code",
   "execution_count": 44,
   "id": "1b3fead8-dc8d-4cb8-8a69-419ee00f9645",
   "metadata": {},
   "outputs": [
    {
     "data": {
      "text/plain": [
       "array(['Finished', 'Disqualified', 'Accident', 'Collision', 'Engine',\n",
       "       'Gearbox', 'Transmission', 'Clutch', 'Hydraulics', 'Electrical',\n",
       "       '+1 Lap', '+2 Laps', '+3 Laps', '+4 Laps', '+5 Laps', '+6 Laps',\n",
       "       '+7 Laps', '+8 Laps', '+9 Laps', 'Spun off', 'Radiator',\n",
       "       'Suspension', 'Brakes', 'Differential', 'Overheating',\n",
       "       'Mechanical', 'Tyre', 'Driver Seat', 'Puncture', 'Driveshaft',\n",
       "       'Retired', 'Fuel pressure', 'Front wing', 'Water pressure',\n",
       "       'Refuelling', 'Wheel', 'Throttle', 'Steering', 'Technical',\n",
       "       'Electronics', 'Broken wing', 'Heat shield fire', 'Exhaust',\n",
       "       'Oil leak', '+11 Laps', 'Wheel rim', 'Water leak', 'Fuel pump',\n",
       "       'Track rod', '+17 Laps', 'Oil pressure', '+42 Laps', '+13 Laps',\n",
       "       'Withdrew', '+12 Laps', 'Engine fire', 'Engine misfire',\n",
       "       '+26 Laps', 'Tyre puncture', 'Out of fuel', 'Wheel nut',\n",
       "       'Not classified', 'Pneumatics', 'Handling', 'Rear wing', 'Fire',\n",
       "       'Wheel bearing', 'Physical', 'Fuel system', 'Oil line', 'Fuel rig',\n",
       "       'Launch control', 'Injured', 'Fuel', 'Power loss', 'Vibrations',\n",
       "       '107% Rule', 'Safety', 'Drivetrain', 'Ignition', 'Did not qualify',\n",
       "       'Injury', 'Chassis', 'Battery', 'Stalled', 'Halfshaft',\n",
       "       'Crankshaft', '+10 Laps', 'Safety concerns', 'Not restarted',\n",
       "       'Alternator', 'Underweight', 'Safety belt', 'Oil pump',\n",
       "       'Fuel leak', 'Excluded', 'Did not prequalify', 'Injection',\n",
       "       'Distributor', 'Driver unwell', 'Turbo', 'CV joint', 'Water pump',\n",
       "       'Fatal accident', 'Spark plugs', 'Fuel pipe', 'Eye injury',\n",
       "       'Oil pipe', 'Axle', 'Water pipe', '+14 Laps', '+15 Laps',\n",
       "       '+25 Laps', '+18 Laps', '+22 Laps', '+16 Laps', '+24 Laps',\n",
       "       '+29 Laps', '+23 Laps', '+21 Laps', 'Magneto', '+44 Laps',\n",
       "       '+30 Laps', '+19 Laps', '+46 Laps', 'Supercharger', '+20 Laps',\n",
       "       'Collision damage', 'Power Unit', 'ERS', '+49 Laps', '+38 Laps',\n",
       "       'Brake duct', 'Seat', 'Damage', 'Debris', 'Illness', 'Undertray',\n",
       "       'Cooling system'], dtype=object)"
      ]
     },
     "execution_count": 44,
     "metadata": {},
     "output_type": "execute_result"
    }
   ],
   "source": [
    "status_df['status'].unique()"
   ]
  },
  {
   "cell_type": "code",
   "execution_count": 45,
   "id": "2b3a19c6-a752-48b0-8a36-e0148ff51ef4",
   "metadata": {},
   "outputs": [],
   "source": [
    "Collision_damage_result = status_df.loc[status_df['status'] == 'Collision damage', 'statusId']"
   ]
  },
  {
   "cell_type": "code",
   "execution_count": 46,
   "id": "d637d80c-e76f-4cb5-afe3-df946d43cb30",
   "metadata": {},
   "outputs": [
    {
     "data": {
      "text/plain": [
       "127    130\n",
       "Name: statusId, dtype: int64"
      ]
     },
     "execution_count": 46,
     "metadata": {},
     "output_type": "execute_result"
    }
   ],
   "source": [
    "Collision_damage_result"
   ]
  },
  {
   "cell_type": "code",
   "execution_count": 47,
   "id": "48193de8-9a3b-4a1a-b61a-90ea8a039a86",
   "metadata": {},
   "outputs": [],
   "source": [
    "damage_result = status_df.loc[status_df['status'] == 'damage', 'statusId']"
   ]
  },
  {
   "cell_type": "code",
   "execution_count": 48,
   "id": "017519cc-8e5b-467b-aa01-30d6945f1519",
   "metadata": {},
   "outputs": [
    {
     "data": {
      "text/plain": [
       "Series([], Name: statusId, dtype: int64)"
      ]
     },
     "execution_count": 48,
     "metadata": {},
     "output_type": "execute_result"
    }
   ],
   "source": [
    "damage_result"
   ]
  },
  {
   "cell_type": "code",
   "execution_count": null,
   "id": "18c563fa-fcbd-402d-97fa-d369cd1fffbd",
   "metadata": {},
   "outputs": [],
   "source": []
  },
  {
   "cell_type": "code",
   "execution_count": null,
   "id": "20d981c9-2092-4e3c-96f7-eed94779c2b2",
   "metadata": {},
   "outputs": [],
   "source": []
  },
  {
   "cell_type": "code",
   "execution_count": 52,
   "id": "518ea9ad-1461-43af-9bef-2f16ad2e1151",
   "metadata": {},
   "outputs": [
    {
     "ename": "NameError",
     "evalue": "name 'df_numerical' is not defined",
     "output_type": "error",
     "traceback": [
      "\u001b[0;31m---------------------------------------------------------------------------\u001b[0m",
      "\u001b[0;31mNameError\u001b[0m                                 Traceback (most recent call last)",
      "Cell \u001b[0;32mIn[52], line 3\u001b[0m\n\u001b[1;32m      1\u001b[0m \u001b[38;5;66;03m# 1: Qualifying Position/Start of Race Position vs. Final Position\u001b[39;00m\n\u001b[0;32m----> 3\u001b[0m correlation_matrix \u001b[38;5;241m=\u001b[39m df_numerical\u001b[38;5;241m.\u001b[39mcorr()\n\u001b[1;32m      5\u001b[0m \u001b[38;5;66;03m# Setting up the matplotlib figure with an appropriate size\u001b[39;00m\n\u001b[1;32m      6\u001b[0m plt\u001b[38;5;241m.\u001b[39mfigure(figsize\u001b[38;5;241m=\u001b[39m(\u001b[38;5;241m18\u001b[39m, \u001b[38;5;241m15\u001b[39m))\n",
      "\u001b[0;31mNameError\u001b[0m: name 'df_numerical' is not defined"
     ]
    }
   ],
   "source": [
    "# 1: Qualifying Position/Start of Race Position vs. Final Position\n",
    "\n",
    "correlation_matrix = df_numerical.corr()\n",
    "\n",
    "# Setting up the matplotlib figure with an appropriate size\n",
    "plt.figure(figsize=(18, 15))\n",
    "\n",
    "# Drawing the heatmap for the numerical columns\n",
    "sns.heatmap(correlation_matrix, annot=True, cmap=\"coolwarm\")\n",
    "\n",
    "plt.title(\"Correlation Heatmap for Selected Numerical Variables\")\n",
    "plt.show()"
   ]
  },
  {
   "cell_type": "code",
   "execution_count": null,
   "id": "2d5c37e1-bb43-4a73-98f4-a83c49683737",
   "metadata": {},
   "outputs": [],
   "source": [
    "merged_df = pd.merge(qualifying_df, results_df, on =['country','year'])"
   ]
  }
 ],
 "metadata": {
  "kernelspec": {
   "display_name": "Python [conda env:base] *",
   "language": "python",
   "name": "conda-base-py"
  },
  "language_info": {
   "codemirror_mode": {
    "name": "ipython",
    "version": 3
   },
   "file_extension": ".py",
   "mimetype": "text/x-python",
   "name": "python",
   "nbconvert_exporter": "python",
   "pygments_lexer": "ipython3",
   "version": "3.13.5"
  }
 },
 "nbformat": 4,
 "nbformat_minor": 5
}

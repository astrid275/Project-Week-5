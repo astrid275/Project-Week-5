{
 "cells": [
  {
   "cell_type": "code",
   "execution_count": 496,
   "id": "fe4c953a-067a-45b6-a245-a5bc028ea031",
   "metadata": {},
   "outputs": [],
   "source": [
    "import pandas as pd\n",
    "import matplotlib.pyplot as plt\n",
    "import seaborn as sns\n",
    "import numpy as np\n",
    "\n",
    "%matplotlib inline"
   ]
  },
  {
   "cell_type": "code",
   "execution_count": 497,
   "id": "d6f21d1f-667b-460d-94db-e30b2ac1228e",
   "metadata": {},
   "outputs": [],
   "source": [
    "circuits_df = pd.read_csv(r'/Users/astridrestupersonal/Desktop/Ironhack Project Week 5/Project-Week-5/Formula 1 Datasets/circuits.csv')"
   ]
  },
  {
   "cell_type": "code",
   "execution_count": 498,
   "id": "e4bd7ac9-631d-4f3d-b6f9-7b33568663c1",
   "metadata": {},
   "outputs": [],
   "source": [
    "constructor_results_df = pd.read_csv(r'/Users/astridrestupersonal/Desktop/Ironhack Project Week 5/Project-Week-5/Formula 1 Datasets/constructor_results.csv')"
   ]
  },
  {
   "cell_type": "code",
   "execution_count": 499,
   "id": "eacc5638-333f-4a27-8869-b0a8fa35e1f7",
   "metadata": {},
   "outputs": [],
   "source": [
    "constructor_standings_df = pd.read_csv(r'/Users/astridrestupersonal/Desktop/Ironhack Project Week 5/Project-Week-5/Formula 1 Datasets/constructor_standings.csv')"
   ]
  },
  {
   "cell_type": "code",
   "execution_count": 500,
   "id": "13fa369b-0374-4cf4-9bda-0bdbc84ee28c",
   "metadata": {},
   "outputs": [],
   "source": [
    "constructors_df = pd.read_csv(r'/Users/astridrestupersonal/Desktop/Ironhack Project Week 5/Project-Week-5/Formula 1 Datasets/constructors.csv')"
   ]
  },
  {
   "cell_type": "code",
   "execution_count": 501,
   "id": "1c5cacd8-2750-4287-97a8-d5908f40e30f",
   "metadata": {},
   "outputs": [],
   "source": [
    "driver_standings_df = pd.read_csv(r'/Users/astridrestupersonal/Desktop/Ironhack Project Week 5/Project-Week-5/Formula 1 Datasets/driver_standings.csv')"
   ]
  },
  {
   "cell_type": "code",
   "execution_count": 502,
   "id": "160304bc-0a40-4f01-9e8a-b1dddec74fd3",
   "metadata": {},
   "outputs": [],
   "source": [
    "drivers_df = pd.read_csv(r'/Users/astridrestupersonal/Desktop/Ironhack Project Week 5/Project-Week-5/Formula 1 Datasets/drivers.csv')"
   ]
  },
  {
   "cell_type": "code",
   "execution_count": 503,
   "id": "e77087c1-da81-42fb-9547-de9d126276db",
   "metadata": {},
   "outputs": [],
   "source": [
    "lap_times_df = pd.read_csv(r'/Users/astridrestupersonal/Desktop/Ironhack Project Week 5/Project-Week-5/Formula 1 Datasets/lap_times.csv')"
   ]
  },
  {
   "cell_type": "code",
   "execution_count": 504,
   "id": "1f19be25-0ca2-4957-9712-1fa9e3367707",
   "metadata": {},
   "outputs": [],
   "source": [
    "pit_stops_df = pd.read_csv(r'/Users/astridrestupersonal/Desktop/Ironhack Project Week 5/Project-Week-5/Formula 1 Datasets/pit_stops.csv') "
   ]
  },
  {
   "cell_type": "code",
   "execution_count": 505,
   "id": "e1c9e988-70d1-4f4d-95b9-bdec64b25d17",
   "metadata": {},
   "outputs": [],
   "source": [
    "qualifying_df = pd.read_csv(r'/Users/astridrestupersonal/Desktop/Ironhack Project Week 5/Project-Week-5/Formula 1 Datasets/qualifying.csv')"
   ]
  },
  {
   "cell_type": "code",
   "execution_count": 506,
   "id": "ea39f901-cb68-4ee3-bd1f-2d6aa022fe99",
   "metadata": {},
   "outputs": [],
   "source": [
    "races_df = pd.read_csv(r'/Users/astridrestupersonal/Desktop/Ironhack Project Week 5/Project-Week-5/Formula 1 Datasets/races.csv')"
   ]
  },
  {
   "cell_type": "code",
   "execution_count": 507,
   "id": "d6fec7a1-87bd-4e6b-afa5-fb5cadf95481",
   "metadata": {},
   "outputs": [],
   "source": [
    "results_df = pd.read_csv(r'/Users/astridrestupersonal/Desktop/Ironhack Project Week 5/Project-Week-5/Formula 1 Datasets/results.csv')"
   ]
  },
  {
   "cell_type": "code",
   "execution_count": 508,
   "id": "a7dcff16-5fc6-476b-8cbb-4f9ef16b7e73",
   "metadata": {},
   "outputs": [],
   "source": [
    "seasons_df = pd.read_csv(r'/Users/astridrestupersonal/Desktop/Ironhack Project Week 5/Project-Week-5/Formula 1 Datasets/seasons.csv')"
   ]
  },
  {
   "cell_type": "code",
   "execution_count": 509,
   "id": "15b70b99-c0e8-46d8-99b9-e2ee899af614",
   "metadata": {},
   "outputs": [],
   "source": [
    "sprint_results_df = pd.read_csv(r'/Users/astridrestupersonal/Desktop/Ironhack Project Week 5/Project-Week-5/Formula 1 Datasets/sprint_results.csv')"
   ]
  },
  {
   "cell_type": "code",
   "execution_count": 510,
   "id": "f004fd1a-4023-4bc7-b979-656bde934c6c",
   "metadata": {},
   "outputs": [],
   "source": [
    "status_df = pd.read_csv(r'/Users/astridrestupersonal/Desktop/Ironhack Project Week 5/Project-Week-5/Formula 1 Datasets/status.csv')"
   ]
  },
  {
   "cell_type": "code",
   "execution_count": null,
   "id": "8bfdae78-1047-4b7e-9000-2b1da520ce73",
   "metadata": {},
   "outputs": [],
   "source": []
  },
  {
   "cell_type": "code",
   "execution_count": 511,
   "id": "28d50adc-f262-495c-8e5a-554a3bfbe187",
   "metadata": {},
   "outputs": [],
   "source": [
    "from functions import clean_column_names"
   ]
  },
  {
   "cell_type": "code",
   "execution_count": 512,
   "id": "ef212da7-c25b-4cb9-8c44-1072fe82df22",
   "metadata": {},
   "outputs": [],
   "source": [
    "#clean_column_names(dataframe)\n",
    "datasets = [circuits_df, constructor_results_df, constructor_standings_df, constructors_df, driver_standings_df, drivers_df, lap_times_df, pit_stops_df, qualifying_df, races_df, results_df, seasons_df, sprint_results_df, status_df]\n",
    "\n",
    "# Loop through each dataset and clean column names\n",
    "datasets = [clean_column_names(df) for df in datasets]"
   ]
  },
  {
   "cell_type": "code",
   "execution_count": 518,
   "id": "4331e220-4e84-4942-9186-0ec2f3764406",
   "metadata": {},
   "outputs": [],
   "source": [
    "results_df = results_df.rename(columns = {\"grid\":\"starting_grid_position\", \"positionorder\":\"race_result_position\"})"
   ]
  },
  {
   "cell_type": "code",
   "execution_count": 404,
   "id": "dc9a55ba-e217-443e-ad34-be5545ac3858",
   "metadata": {},
   "outputs": [
    {
     "data": {
      "text/plain": [
       "circuitid     0\n",
       "circuitref    0\n",
       "name          0\n",
       "location      0\n",
       "country       0\n",
       "lat           0\n",
       "lng           0\n",
       "alt           0\n",
       "url           0\n",
       "dtype: int64"
      ]
     },
     "execution_count": 404,
     "metadata": {},
     "output_type": "execute_result"
    }
   ],
   "source": [
    "circuits_df.isnull().sum()\n",
    "# no nulls in the data"
   ]
  },
  {
   "cell_type": "code",
   "execution_count": 405,
   "id": "76e12ece-0e00-44ab-9074-70d211d5da43",
   "metadata": {},
   "outputs": [
    {
     "data": {
      "text/plain": [
       "constructorresultsid    0\n",
       "raceid                  0\n",
       "constructorid           0\n",
       "points                  0\n",
       "status                  0\n",
       "dtype: int64"
      ]
     },
     "execution_count": 405,
     "metadata": {},
     "output_type": "execute_result"
    }
   ],
   "source": [
    "constructor_results_df.isnull().sum()"
   ]
  },
  {
   "cell_type": "code",
   "execution_count": 406,
   "id": "44dbc9e1-3ff7-4f6e-9af9-93dcabf0941c",
   "metadata": {},
   "outputs": [
    {
     "data": {
      "text/plain": [
       "constructorstandingsid    0\n",
       "raceid                    0\n",
       "constructorid             0\n",
       "points                    0\n",
       "position                  0\n",
       "positiontext              0\n",
       "wins                      0\n",
       "dtype: int64"
      ]
     },
     "execution_count": 406,
     "metadata": {},
     "output_type": "execute_result"
    }
   ],
   "source": [
    "constructor_standings_df.isnull().sum()"
   ]
  },
  {
   "cell_type": "code",
   "execution_count": 407,
   "id": "7108bbb4-5e54-4d0a-90c2-0b962a0002e4",
   "metadata": {},
   "outputs": [
    {
     "data": {
      "text/plain": [
       "constructorid     0\n",
       "constructorref    0\n",
       "name              0\n",
       "nationality       0\n",
       "url               0\n",
       "dtype: int64"
      ]
     },
     "execution_count": 407,
     "metadata": {},
     "output_type": "execute_result"
    }
   ],
   "source": [
    "constructors_df.isnull().sum()"
   ]
  },
  {
   "cell_type": "code",
   "execution_count": 408,
   "id": "6fff4b6b-367e-4a46-a793-95906e24628e",
   "metadata": {},
   "outputs": [
    {
     "data": {
      "text/plain": [
       "driverstandingsid    0\n",
       "raceid               0\n",
       "driverid             0\n",
       "points               0\n",
       "position             0\n",
       "positiontext         0\n",
       "wins                 0\n",
       "dtype: int64"
      ]
     },
     "execution_count": 408,
     "metadata": {},
     "output_type": "execute_result"
    }
   ],
   "source": [
    "driver_standings_df.isnull().sum()"
   ]
  },
  {
   "cell_type": "code",
   "execution_count": 409,
   "id": "f3f1afc2-cfed-453d-b5b9-308caf83c232",
   "metadata": {},
   "outputs": [
    {
     "data": {
      "text/plain": [
       "driverid       0\n",
       "driverref      0\n",
       "number         0\n",
       "code           0\n",
       "forename       0\n",
       "surname        0\n",
       "dob            0\n",
       "nationality    0\n",
       "url            0\n",
       "dtype: int64"
      ]
     },
     "execution_count": 409,
     "metadata": {},
     "output_type": "execute_result"
    }
   ],
   "source": [
    "drivers_df.isnull().sum()"
   ]
  },
  {
   "cell_type": "code",
   "execution_count": 410,
   "id": "041dbd03-581d-4e6b-92e7-1bec3a38d109",
   "metadata": {},
   "outputs": [
    {
     "data": {
      "text/plain": [
       "raceid          0\n",
       "driverid        0\n",
       "lap             0\n",
       "position        0\n",
       "time            0\n",
       "milliseconds    0\n",
       "dtype: int64"
      ]
     },
     "execution_count": 410,
     "metadata": {},
     "output_type": "execute_result"
    }
   ],
   "source": [
    "lap_times_df.isnull().sum()"
   ]
  },
  {
   "cell_type": "code",
   "execution_count": 411,
   "id": "98760157-945a-426d-9c25-ad1a1679be48",
   "metadata": {},
   "outputs": [
    {
     "data": {
      "text/plain": [
       "raceid          0\n",
       "driverid        0\n",
       "stop            0\n",
       "lap             0\n",
       "time            0\n",
       "duration        0\n",
       "milliseconds    0\n",
       "dtype: int64"
      ]
     },
     "execution_count": 411,
     "metadata": {},
     "output_type": "execute_result"
    }
   ],
   "source": [
    "pit_stops_df.isnull().sum()"
   ]
  },
  {
   "cell_type": "code",
   "execution_count": 412,
   "id": "21cbea62-f56d-492a-a67d-02d4b6be88d9",
   "metadata": {},
   "outputs": [
    {
     "data": {
      "text/plain": [
       "qualifyid         0\n",
       "raceid            0\n",
       "driverid          0\n",
       "constructorid     0\n",
       "number            0\n",
       "position          0\n",
       "q1                0\n",
       "q2               22\n",
       "q3               46\n",
       "dtype: int64"
      ]
     },
     "execution_count": 412,
     "metadata": {},
     "output_type": "execute_result"
    }
   ],
   "source": [
    "qualifying_df.isnull().sum()\n",
    "# null values in 'q2' and 'q3' but not important as those are just times\n",
    "# and the data I need is in the 'position' column"
   ]
  },
  {
   "cell_type": "code",
   "execution_count": 413,
   "id": "26b8d762-727b-4fd4-b748-1f9923078f44",
   "metadata": {},
   "outputs": [
    {
     "data": {
      "text/plain": [
       "raceid         0\n",
       "year           0\n",
       "round          0\n",
       "circuitid      0\n",
       "name           0\n",
       "date           0\n",
       "time           0\n",
       "url            0\n",
       "fp1_date       0\n",
       "fp1_time       0\n",
       "fp2_date       0\n",
       "fp2_time       0\n",
       "fp3_date       0\n",
       "fp3_time       0\n",
       "quali_date     0\n",
       "quali_time     0\n",
       "sprint_date    0\n",
       "sprint_time    0\n",
       "dtype: int64"
      ]
     },
     "execution_count": 413,
     "metadata": {},
     "output_type": "execute_result"
    }
   ],
   "source": [
    "races_df.isnull().sum()"
   ]
  },
  {
   "cell_type": "code",
   "execution_count": 414,
   "id": "c4a42fd3-2719-4b56-bc8d-c7917b501ac8",
   "metadata": {},
   "outputs": [
    {
     "data": {
      "text/plain": [
       "resultid           0\n",
       "raceid             0\n",
       "driverid           0\n",
       "constructorid      0\n",
       "number             0\n",
       "grid               0\n",
       "position           0\n",
       "positiontext       0\n",
       "positionorder      0\n",
       "points             0\n",
       "laps               0\n",
       "time               0\n",
       "milliseconds       0\n",
       "fastestlap         0\n",
       "rank               0\n",
       "fastestlaptime     0\n",
       "fastestlapspeed    0\n",
       "statusid           0\n",
       "dtype: int64"
      ]
     },
     "execution_count": 414,
     "metadata": {},
     "output_type": "execute_result"
    }
   ],
   "source": [
    "results_df.isnull().sum()"
   ]
  },
  {
   "cell_type": "code",
   "execution_count": 415,
   "id": "5a871eee-485d-4754-9b67-77aadd3488d7",
   "metadata": {},
   "outputs": [
    {
     "data": {
      "text/plain": [
       "year    0\n",
       "url     0\n",
       "dtype: int64"
      ]
     },
     "execution_count": 415,
     "metadata": {},
     "output_type": "execute_result"
    }
   ],
   "source": [
    "seasons_df.isnull().sum()"
   ]
  },
  {
   "cell_type": "code",
   "execution_count": 416,
   "id": "aeee638e-5d30-4b1e-a50a-12a2f27abb4d",
   "metadata": {},
   "outputs": [
    {
     "data": {
      "text/plain": [
       "resultid          0\n",
       "raceid            0\n",
       "driverid          0\n",
       "constructorid     0\n",
       "number            0\n",
       "grid              0\n",
       "position          0\n",
       "positiontext      0\n",
       "positionorder     0\n",
       "points            0\n",
       "laps              0\n",
       "time              0\n",
       "milliseconds      0\n",
       "fastestlap        0\n",
       "fastestlaptime    0\n",
       "statusid          0\n",
       "dtype: int64"
      ]
     },
     "execution_count": 416,
     "metadata": {},
     "output_type": "execute_result"
    }
   ],
   "source": [
    "sprint_results_df.isnull().sum()"
   ]
  },
  {
   "cell_type": "code",
   "execution_count": 417,
   "id": "f9c9abb5-bfc7-479e-a902-43e1ef4c3ab5",
   "metadata": {},
   "outputs": [
    {
     "data": {
      "text/plain": [
       "statusid    0\n",
       "status      0\n",
       "dtype: int64"
      ]
     },
     "execution_count": 417,
     "metadata": {},
     "output_type": "execute_result"
    }
   ],
   "source": [
    "status_df.isnull().sum()"
   ]
  },
  {
   "cell_type": "code",
   "execution_count": null,
   "id": "18c563fa-fcbd-402d-97fa-d369cd1fffbd",
   "metadata": {},
   "outputs": [],
   "source": []
  },
  {
   "cell_type": "code",
   "execution_count": null,
   "id": "ad71264b-4327-4c08-a3e9-d6737471e02f",
   "metadata": {},
   "outputs": [],
   "source": []
  },
  {
   "cell_type": "code",
   "execution_count": null,
   "id": "647c3a29-f027-4a4d-9e00-9c92a9737e94",
   "metadata": {},
   "outputs": [],
   "source": [
    "# 1: Qualifying Position/Start of Race as Number 1 Position vs. Final Position in the Race"
   ]
  },
  {
   "cell_type": "code",
   "execution_count": 355,
   "id": "499cf22a-b3f0-41cd-b8cb-5579062f06d4",
   "metadata": {},
   "outputs": [
    {
     "data": {
      "text/html": [
       "<div>\n",
       "<style scoped>\n",
       "    .dataframe tbody tr th:only-of-type {\n",
       "        vertical-align: middle;\n",
       "    }\n",
       "\n",
       "    .dataframe tbody tr th {\n",
       "        vertical-align: top;\n",
       "    }\n",
       "\n",
       "    .dataframe thead th {\n",
       "        text-align: right;\n",
       "    }\n",
       "</style>\n",
       "<table border=\"1\" class=\"dataframe\">\n",
       "  <thead>\n",
       "    <tr style=\"text-align: right;\">\n",
       "      <th></th>\n",
       "      <th>raceid</th>\n",
       "      <th>year</th>\n",
       "      <th>round</th>\n",
       "      <th>circuitid</th>\n",
       "      <th>name</th>\n",
       "      <th>date</th>\n",
       "      <th>time</th>\n",
       "      <th>url</th>\n",
       "      <th>fp1_date</th>\n",
       "      <th>fp1_time</th>\n",
       "      <th>fp2_date</th>\n",
       "      <th>fp2_time</th>\n",
       "      <th>fp3_date</th>\n",
       "      <th>fp3_time</th>\n",
       "      <th>quali_date</th>\n",
       "      <th>quali_time</th>\n",
       "      <th>sprint_date</th>\n",
       "      <th>sprint_time</th>\n",
       "    </tr>\n",
       "  </thead>\n",
       "  <tbody>\n",
       "    <tr>\n",
       "      <th>0</th>\n",
       "      <td>1</td>\n",
       "      <td>2009</td>\n",
       "      <td>1</td>\n",
       "      <td>1</td>\n",
       "      <td>Australian Grand Prix</td>\n",
       "      <td>2009-03-29</td>\n",
       "      <td>06:00:00</td>\n",
       "      <td>http://en.wikipedia.org/wiki/2009_Australian_G...</td>\n",
       "      <td>\\N</td>\n",
       "      <td>\\N</td>\n",
       "      <td>\\N</td>\n",
       "      <td>\\N</td>\n",
       "      <td>\\N</td>\n",
       "      <td>\\N</td>\n",
       "      <td>\\N</td>\n",
       "      <td>\\N</td>\n",
       "      <td>\\N</td>\n",
       "      <td>\\N</td>\n",
       "    </tr>\n",
       "  </tbody>\n",
       "</table>\n",
       "</div>"
      ],
      "text/plain": [
       "   raceid  year  round  circuitid                   name        date  \\\n",
       "0       1  2009      1          1  Australian Grand Prix  2009-03-29   \n",
       "\n",
       "       time                                                url fp1_date  \\\n",
       "0  06:00:00  http://en.wikipedia.org/wiki/2009_Australian_G...       \\N   \n",
       "\n",
       "  fp1_time fp2_date fp2_time fp3_date fp3_time quali_date quali_time  \\\n",
       "0       \\N       \\N       \\N       \\N       \\N         \\N         \\N   \n",
       "\n",
       "  sprint_date sprint_time  \n",
       "0          \\N          \\N  "
      ]
     },
     "execution_count": 355,
     "metadata": {},
     "output_type": "execute_result"
    }
   ],
   "source": [
    "races_df.head(1)"
   ]
  },
  {
   "cell_type": "code",
   "execution_count": 356,
   "id": "8d15b2cf-7924-45cf-85ad-a7b42ddbba44",
   "metadata": {},
   "outputs": [
    {
     "data": {
      "text/html": [
       "<div>\n",
       "<style scoped>\n",
       "    .dataframe tbody tr th:only-of-type {\n",
       "        vertical-align: middle;\n",
       "    }\n",
       "\n",
       "    .dataframe tbody tr th {\n",
       "        vertical-align: top;\n",
       "    }\n",
       "\n",
       "    .dataframe thead th {\n",
       "        text-align: right;\n",
       "    }\n",
       "</style>\n",
       "<table border=\"1\" class=\"dataframe\">\n",
       "  <thead>\n",
       "    <tr style=\"text-align: right;\">\n",
       "      <th></th>\n",
       "      <th>resultid</th>\n",
       "      <th>raceid</th>\n",
       "      <th>driverid</th>\n",
       "      <th>constructorid</th>\n",
       "      <th>number</th>\n",
       "      <th>starting_grid_position</th>\n",
       "      <th>race_result_position</th>\n",
       "      <th>race_result_positiontext</th>\n",
       "      <th>race_result_race_result_position</th>\n",
       "      <th>points</th>\n",
       "      <th>laps</th>\n",
       "      <th>time</th>\n",
       "      <th>milliseconds</th>\n",
       "      <th>fastestlap</th>\n",
       "      <th>rank</th>\n",
       "      <th>fastestlaptime</th>\n",
       "      <th>fastestlapspeed</th>\n",
       "      <th>statusid</th>\n",
       "    </tr>\n",
       "  </thead>\n",
       "  <tbody>\n",
       "    <tr>\n",
       "      <th>0</th>\n",
       "      <td>1</td>\n",
       "      <td>18</td>\n",
       "      <td>1</td>\n",
       "      <td>1</td>\n",
       "      <td>22</td>\n",
       "      <td>1</td>\n",
       "      <td>1</td>\n",
       "      <td>1</td>\n",
       "      <td>1</td>\n",
       "      <td>10.0</td>\n",
       "      <td>58</td>\n",
       "      <td>1:34:50.616</td>\n",
       "      <td>5690616</td>\n",
       "      <td>39</td>\n",
       "      <td>2</td>\n",
       "      <td>1:27.452</td>\n",
       "      <td>218.300</td>\n",
       "      <td>1</td>\n",
       "    </tr>\n",
       "  </tbody>\n",
       "</table>\n",
       "</div>"
      ],
      "text/plain": [
       "   resultid  raceid  driverid  constructorid number  starting_grid_position  \\\n",
       "0         1      18         1              1     22                       1   \n",
       "\n",
       "  race_result_position race_result_positiontext  \\\n",
       "0                    1                        1   \n",
       "\n",
       "   race_result_race_result_position  points  laps         time milliseconds  \\\n",
       "0                                 1    10.0    58  1:34:50.616      5690616   \n",
       "\n",
       "  fastestlap rank fastestlaptime fastestlapspeed  statusid  \n",
       "0         39    2       1:27.452         218.300         1  "
      ]
     },
     "execution_count": 356,
     "metadata": {},
     "output_type": "execute_result"
    }
   ],
   "source": [
    "results_df.head(1)"
   ]
  },
  {
   "cell_type": "code",
   "execution_count": 365,
   "id": "4852549d-e1b1-4347-b281-6b3b487340e0",
   "metadata": {},
   "outputs": [
    {
     "data": {
      "text/plain": [
       "Index(['resultid', 'raceid', 'driverid', 'constructorid', 'number',\n",
       "       'starting_grid_position', 'race_result_position',\n",
       "       'race_result_positiontext', 'race_result_race_result_position',\n",
       "       'points', 'laps', 'time', 'milliseconds', 'fastestlap', 'rank',\n",
       "       'fastestlaptime', 'fastestlapspeed', 'statusid'],\n",
       "      dtype='object')"
      ]
     },
     "execution_count": 365,
     "metadata": {},
     "output_type": "execute_result"
    }
   ],
   "source": [
    "results_df.columns"
   ]
  },
  {
   "cell_type": "code",
   "execution_count": 364,
   "id": "9e01fa1c-2c2a-42ca-b78b-b07a175d85dc",
   "metadata": {},
   "outputs": [
    {
     "data": {
      "text/plain": [
       "Index(['raceid', 'year', 'round', 'circuitid', 'name', 'date', 'time', 'url',\n",
       "       'fp1_date', 'fp1_time', 'fp2_date', 'fp2_time', 'fp3_date', 'fp3_time',\n",
       "       'quali_date', 'quali_time', 'sprint_date', 'sprint_time'],\n",
       "      dtype='object')"
      ]
     },
     "execution_count": 364,
     "metadata": {},
     "output_type": "execute_result"
    }
   ],
   "source": [
    "races_df.columns"
   ]
  },
  {
   "cell_type": "code",
   "execution_count": 428,
   "id": "2d5c37e1-bb43-4a73-98f4-a83c49683737",
   "metadata": {},
   "outputs": [],
   "source": [
    "merged_results_races_df = pd.merge(results_df, races_df, on ='raceid')"
   ]
  },
  {
   "cell_type": "code",
   "execution_count": 429,
   "id": "2a6b9730-eeb7-4e06-b85a-bc2c00107a63",
   "metadata": {},
   "outputs": [
    {
     "data": {
      "text/html": [
       "<div>\n",
       "<style scoped>\n",
       "    .dataframe tbody tr th:only-of-type {\n",
       "        vertical-align: middle;\n",
       "    }\n",
       "\n",
       "    .dataframe tbody tr th {\n",
       "        vertical-align: top;\n",
       "    }\n",
       "\n",
       "    .dataframe thead th {\n",
       "        text-align: right;\n",
       "    }\n",
       "</style>\n",
       "<table border=\"1\" class=\"dataframe\">\n",
       "  <thead>\n",
       "    <tr style=\"text-align: right;\">\n",
       "      <th></th>\n",
       "      <th>resultid</th>\n",
       "      <th>raceid</th>\n",
       "      <th>driverid</th>\n",
       "      <th>constructorid</th>\n",
       "      <th>number</th>\n",
       "      <th>starting_grid_position</th>\n",
       "      <th>position</th>\n",
       "      <th>positiontext</th>\n",
       "      <th>race_result_position</th>\n",
       "      <th>points</th>\n",
       "      <th>...</th>\n",
       "      <th>fp1_date</th>\n",
       "      <th>fp1_time</th>\n",
       "      <th>fp2_date</th>\n",
       "      <th>fp2_time</th>\n",
       "      <th>fp3_date</th>\n",
       "      <th>fp3_time</th>\n",
       "      <th>quali_date</th>\n",
       "      <th>quali_time</th>\n",
       "      <th>sprint_date</th>\n",
       "      <th>sprint_time</th>\n",
       "    </tr>\n",
       "  </thead>\n",
       "  <tbody>\n",
       "    <tr>\n",
       "      <th>0</th>\n",
       "      <td>1</td>\n",
       "      <td>18</td>\n",
       "      <td>1</td>\n",
       "      <td>1</td>\n",
       "      <td>22</td>\n",
       "      <td>1</td>\n",
       "      <td>1</td>\n",
       "      <td>1</td>\n",
       "      <td>1</td>\n",
       "      <td>10.0</td>\n",
       "      <td>...</td>\n",
       "      <td>\\N</td>\n",
       "      <td>\\N</td>\n",
       "      <td>\\N</td>\n",
       "      <td>\\N</td>\n",
       "      <td>\\N</td>\n",
       "      <td>\\N</td>\n",
       "      <td>\\N</td>\n",
       "      <td>\\N</td>\n",
       "      <td>\\N</td>\n",
       "      <td>\\N</td>\n",
       "    </tr>\n",
       "  </tbody>\n",
       "</table>\n",
       "<p>1 rows × 35 columns</p>\n",
       "</div>"
      ],
      "text/plain": [
       "   resultid  raceid  driverid  constructorid number  starting_grid_position  \\\n",
       "0         1      18         1              1     22                       1   \n",
       "\n",
       "  position positiontext  race_result_position  points  ...  fp1_date fp1_time  \\\n",
       "0        1            1                     1    10.0  ...        \\N       \\N   \n",
       "\n",
       "  fp2_date fp2_time fp3_date fp3_time quali_date  quali_time  sprint_date  \\\n",
       "0       \\N       \\N       \\N       \\N         \\N          \\N           \\N   \n",
       "\n",
       "   sprint_time  \n",
       "0           \\N  \n",
       "\n",
       "[1 rows x 35 columns]"
      ]
     },
     "execution_count": 429,
     "metadata": {},
     "output_type": "execute_result"
    }
   ],
   "source": [
    "merged_results_races_df.head(1)"
   ]
  },
  {
   "cell_type": "code",
   "execution_count": 430,
   "id": "99438927-eacf-4a05-ab86-bbf0ded5ba8e",
   "metadata": {},
   "outputs": [
    {
     "data": {
      "text/plain": [
       "Index(['resultid', 'raceid', 'driverid', 'constructorid', 'number',\n",
       "       'starting_grid_position', 'position', 'positiontext',\n",
       "       'race_result_position', 'points', 'laps', 'time_x', 'milliseconds',\n",
       "       'fastestlap', 'rank', 'fastestlaptime', 'fastestlapspeed', 'statusid',\n",
       "       'year', 'round', 'circuitid', 'name', 'date', 'time_y', 'url',\n",
       "       'fp1_date', 'fp1_time', 'fp2_date', 'fp2_time', 'fp3_date', 'fp3_time',\n",
       "       'quali_date', 'quali_time', 'sprint_date', 'sprint_time'],\n",
       "      dtype='object')"
      ]
     },
     "execution_count": 430,
     "metadata": {},
     "output_type": "execute_result"
    }
   ],
   "source": [
    "merged_results_races_df.columns"
   ]
  },
  {
   "cell_type": "code",
   "execution_count": 431,
   "id": "1a9e12d5-27cf-4876-8a7a-22f438c2d02d",
   "metadata": {},
   "outputs": [
    {
     "data": {
      "text/html": [
       "<div>\n",
       "<style scoped>\n",
       "    .dataframe tbody tr th:only-of-type {\n",
       "        vertical-align: middle;\n",
       "    }\n",
       "\n",
       "    .dataframe tbody tr th {\n",
       "        vertical-align: top;\n",
       "    }\n",
       "\n",
       "    .dataframe thead th {\n",
       "        text-align: right;\n",
       "    }\n",
       "</style>\n",
       "<table border=\"1\" class=\"dataframe\">\n",
       "  <thead>\n",
       "    <tr style=\"text-align: right;\">\n",
       "      <th></th>\n",
       "      <th>resultid</th>\n",
       "      <th>raceid</th>\n",
       "      <th>driverid</th>\n",
       "      <th>constructorid</th>\n",
       "      <th>number</th>\n",
       "      <th>starting_grid_position</th>\n",
       "      <th>position</th>\n",
       "      <th>positiontext</th>\n",
       "      <th>race_result_position</th>\n",
       "      <th>points</th>\n",
       "      <th>...</th>\n",
       "      <th>fp1_date</th>\n",
       "      <th>fp1_time</th>\n",
       "      <th>fp2_date</th>\n",
       "      <th>fp2_time</th>\n",
       "      <th>fp3_date</th>\n",
       "      <th>fp3_time</th>\n",
       "      <th>quali_date</th>\n",
       "      <th>quali_time</th>\n",
       "      <th>sprint_date</th>\n",
       "      <th>sprint_time</th>\n",
       "    </tr>\n",
       "  </thead>\n",
       "  <tbody>\n",
       "    <tr>\n",
       "      <th>0</th>\n",
       "      <td>1</td>\n",
       "      <td>18</td>\n",
       "      <td>1</td>\n",
       "      <td>1</td>\n",
       "      <td>22</td>\n",
       "      <td>1</td>\n",
       "      <td>1</td>\n",
       "      <td>1</td>\n",
       "      <td>1</td>\n",
       "      <td>10.0</td>\n",
       "      <td>...</td>\n",
       "      <td>\\N</td>\n",
       "      <td>\\N</td>\n",
       "      <td>\\N</td>\n",
       "      <td>\\N</td>\n",
       "      <td>\\N</td>\n",
       "      <td>\\N</td>\n",
       "      <td>\\N</td>\n",
       "      <td>\\N</td>\n",
       "      <td>\\N</td>\n",
       "      <td>\\N</td>\n",
       "    </tr>\n",
       "    <tr>\n",
       "      <th>40</th>\n",
       "      <td>41</td>\n",
       "      <td>19</td>\n",
       "      <td>13</td>\n",
       "      <td>6</td>\n",
       "      <td>2</td>\n",
       "      <td>1</td>\n",
       "      <td>\\N</td>\n",
       "      <td>R</td>\n",
       "      <td>19</td>\n",
       "      <td>0.0</td>\n",
       "      <td>...</td>\n",
       "      <td>\\N</td>\n",
       "      <td>\\N</td>\n",
       "      <td>\\N</td>\n",
       "      <td>\\N</td>\n",
       "      <td>\\N</td>\n",
       "      <td>\\N</td>\n",
       "      <td>\\N</td>\n",
       "      <td>\\N</td>\n",
       "      <td>\\N</td>\n",
       "      <td>\\N</td>\n",
       "    </tr>\n",
       "    <tr>\n",
       "      <th>46</th>\n",
       "      <td>47</td>\n",
       "      <td>20</td>\n",
       "      <td>9</td>\n",
       "      <td>2</td>\n",
       "      <td>4</td>\n",
       "      <td>1</td>\n",
       "      <td>3</td>\n",
       "      <td>3</td>\n",
       "      <td>3</td>\n",
       "      <td>6.0</td>\n",
       "      <td>...</td>\n",
       "      <td>\\N</td>\n",
       "      <td>\\N</td>\n",
       "      <td>\\N</td>\n",
       "      <td>\\N</td>\n",
       "      <td>\\N</td>\n",
       "      <td>\\N</td>\n",
       "      <td>\\N</td>\n",
       "      <td>\\N</td>\n",
       "      <td>\\N</td>\n",
       "      <td>\\N</td>\n",
       "    </tr>\n",
       "    <tr>\n",
       "      <th>66</th>\n",
       "      <td>67</td>\n",
       "      <td>21</td>\n",
       "      <td>8</td>\n",
       "      <td>6</td>\n",
       "      <td>1</td>\n",
       "      <td>1</td>\n",
       "      <td>1</td>\n",
       "      <td>1</td>\n",
       "      <td>1</td>\n",
       "      <td>10.0</td>\n",
       "      <td>...</td>\n",
       "      <td>\\N</td>\n",
       "      <td>\\N</td>\n",
       "      <td>\\N</td>\n",
       "      <td>\\N</td>\n",
       "      <td>\\N</td>\n",
       "      <td>\\N</td>\n",
       "      <td>\\N</td>\n",
       "      <td>\\N</td>\n",
       "      <td>\\N</td>\n",
       "      <td>\\N</td>\n",
       "    </tr>\n",
       "    <tr>\n",
       "      <th>88</th>\n",
       "      <td>89</td>\n",
       "      <td>22</td>\n",
       "      <td>13</td>\n",
       "      <td>6</td>\n",
       "      <td>2</td>\n",
       "      <td>1</td>\n",
       "      <td>1</td>\n",
       "      <td>1</td>\n",
       "      <td>1</td>\n",
       "      <td>10.0</td>\n",
       "      <td>...</td>\n",
       "      <td>\\N</td>\n",
       "      <td>\\N</td>\n",
       "      <td>\\N</td>\n",
       "      <td>\\N</td>\n",
       "      <td>\\N</td>\n",
       "      <td>\\N</td>\n",
       "      <td>\\N</td>\n",
       "      <td>\\N</td>\n",
       "      <td>\\N</td>\n",
       "      <td>\\N</td>\n",
       "    </tr>\n",
       "  </tbody>\n",
       "</table>\n",
       "<p>5 rows × 35 columns</p>\n",
       "</div>"
      ],
      "text/plain": [
       "    resultid  raceid  driverid  constructorid number  starting_grid_position  \\\n",
       "0          1      18         1              1     22                       1   \n",
       "40        41      19        13              6      2                       1   \n",
       "46        47      20         9              2      4                       1   \n",
       "66        67      21         8              6      1                       1   \n",
       "88        89      22        13              6      2                       1   \n",
       "\n",
       "   position positiontext  race_result_position  points  ...  fp1_date  \\\n",
       "0         1            1                     1    10.0  ...        \\N   \n",
       "40       \\N            R                    19     0.0  ...        \\N   \n",
       "46        3            3                     3     6.0  ...        \\N   \n",
       "66        1            1                     1    10.0  ...        \\N   \n",
       "88        1            1                     1    10.0  ...        \\N   \n",
       "\n",
       "   fp1_time fp2_date fp2_time fp3_date fp3_time quali_date  quali_time  \\\n",
       "0        \\N       \\N       \\N       \\N       \\N         \\N          \\N   \n",
       "40       \\N       \\N       \\N       \\N       \\N         \\N          \\N   \n",
       "46       \\N       \\N       \\N       \\N       \\N         \\N          \\N   \n",
       "66       \\N       \\N       \\N       \\N       \\N         \\N          \\N   \n",
       "88       \\N       \\N       \\N       \\N       \\N         \\N          \\N   \n",
       "\n",
       "    sprint_date  sprint_time  \n",
       "0            \\N           \\N  \n",
       "40           \\N           \\N  \n",
       "46           \\N           \\N  \n",
       "66           \\N           \\N  \n",
       "88           \\N           \\N  \n",
       "\n",
       "[5 rows x 35 columns]"
      ]
     },
     "execution_count": 431,
     "metadata": {},
     "output_type": "execute_result"
    }
   ],
   "source": [
    "filtered_merged_results_grid_position_1_df = merged_results_races_df[merged_results_races_df[\"starting_grid_position\"] == 1]\n",
    "filtered_merged_results_grid_position_1_df.head(5)"
   ]
  },
  {
   "cell_type": "code",
   "execution_count": 436,
   "id": "7d6169e1-419b-42e1-9e3f-983336a8dc6d",
   "metadata": {},
   "outputs": [
    {
     "data": {
      "text/plain": [
       "1136"
      ]
     },
     "execution_count": 436,
     "metadata": {},
     "output_type": "execute_result"
    }
   ],
   "source": [
    "num_of_races = len(filtered_merged_results_grid_position_1_df)\n",
    "num_of_races"
   ]
  },
  {
   "cell_type": "code",
   "execution_count": 459,
   "id": "79507016-aeba-4dd1-8e13-19a33fbce5ab",
   "metadata": {},
   "outputs": [
    {
     "data": {
      "text/plain": [
       "481"
      ]
     },
     "execution_count": 459,
     "metadata": {},
     "output_type": "execute_result"
    }
   ],
   "source": [
    "win_from_p1 = len(filtered_merged_results_grid_position_1_df[filtered_merged_results_grid_position_1_df[\"race_result_position\"] == 1])\n",
    "win_from_p1"
   ]
  },
  {
   "cell_type": "code",
   "execution_count": 566,
   "id": "d9f358e2-9fd8-4112-8791-4863a602d541",
   "metadata": {},
   "outputs": [
    {
     "data": {
      "text/plain": [
       "0.4234154929577465"
      ]
     },
     "execution_count": 566,
     "metadata": {},
     "output_type": "execute_result"
    }
   ],
   "source": [
    "481/1136"
   ]
  },
  {
   "cell_type": "code",
   "execution_count": 463,
   "id": "ef737406-2715-4f6b-a909-5be996f9441c",
   "metadata": {},
   "outputs": [
    {
     "data": {
      "text/plain": [
       "161"
      ]
     },
     "execution_count": 463,
     "metadata": {},
     "output_type": "execute_result"
    }
   ],
   "source": [
    "sec_from_p1 = len(filtered_merged_results_grid_position_1_df[filtered_merged_results_grid_position_1_df[\"race_result_position\"] == 2])\n",
    "sec_from_p1"
   ]
  },
  {
   "cell_type": "code",
   "execution_count": 567,
   "id": "2bb7af9d-f50a-4909-b7ee-834711760bff",
   "metadata": {},
   "outputs": [
    {
     "data": {
      "text/plain": [
       "0.14172535211267606"
      ]
     },
     "execution_count": 567,
     "metadata": {},
     "output_type": "execute_result"
    }
   ],
   "source": [
    "161/1136"
   ]
  },
  {
   "cell_type": "code",
   "execution_count": 464,
   "id": "b69f5b25-a35b-4717-8361-d212e6cc88a8",
   "metadata": {},
   "outputs": [
    {
     "data": {
      "text/plain": [
       "79"
      ]
     },
     "execution_count": 464,
     "metadata": {},
     "output_type": "execute_result"
    }
   ],
   "source": [
    "third_from_p1 = len(filtered_merged_results_grid_position_1_df[filtered_merged_results_grid_position_1_df[\"race_result_position\"] == 3])\n",
    "third_from_p1"
   ]
  },
  {
   "cell_type": "code",
   "execution_count": 568,
   "id": "dadf8728-9026-4f3e-bd42-1f54e47827cb",
   "metadata": {},
   "outputs": [
    {
     "data": {
      "text/plain": [
       "0.06954225352112677"
      ]
     },
     "execution_count": 568,
     "metadata": {},
     "output_type": "execute_result"
    }
   ],
   "source": [
    "79/1136"
   ]
  },
  {
   "cell_type": "code",
   "execution_count": 571,
   "id": "fc92a91a-453b-46c5-b876-8580cfcf275d",
   "metadata": {},
   "outputs": [
    {
     "data": {
      "text/plain": [
       "49"
      ]
     },
     "execution_count": 571,
     "metadata": {},
     "output_type": "execute_result"
    }
   ],
   "source": [
    "fourth_from_p1 = len(filtered_merged_results_grid_position_1_df[filtered_merged_results_grid_position_1_df[\"race_result_position\"] == 4])\n",
    "fourth_from_p1"
   ]
  },
  {
   "cell_type": "code",
   "execution_count": 574,
   "id": "f8dc2756-813a-41c1-8d12-a44a307ad573",
   "metadata": {},
   "outputs": [
    {
     "data": {
      "text/plain": [
       "0.043133802816901406"
      ]
     },
     "execution_count": 574,
     "metadata": {},
     "output_type": "execute_result"
    }
   ],
   "source": [
    "49/1136"
   ]
  },
  {
   "cell_type": "code",
   "execution_count": 572,
   "id": "2a6a0296-602c-452a-9adb-eb107007420a",
   "metadata": {},
   "outputs": [
    {
     "data": {
      "text/plain": [
       "22"
      ]
     },
     "execution_count": 572,
     "metadata": {},
     "output_type": "execute_result"
    }
   ],
   "source": [
    "fifth_from_p1 = len(filtered_merged_results_grid_position_1_df[filtered_merged_results_grid_position_1_df[\"race_result_position\"] == 5])\n",
    "fifth_from_p1"
   ]
  },
  {
   "cell_type": "code",
   "execution_count": 575,
   "id": "74247412-416e-4a63-9538-5ed2db5c0738",
   "metadata": {},
   "outputs": [
    {
     "data": {
      "text/plain": [
       "0.01936619718309859"
      ]
     },
     "execution_count": 575,
     "metadata": {},
     "output_type": "execute_result"
    }
   ],
   "source": [
    "22/1136"
   ]
  },
  {
   "cell_type": "code",
   "execution_count": 573,
   "id": "6e2a9900-c62a-406c-80cd-452918712093",
   "metadata": {},
   "outputs": [
    {
     "data": {
      "text/plain": [
       "20"
      ]
     },
     "execution_count": 573,
     "metadata": {},
     "output_type": "execute_result"
    }
   ],
   "source": [
    "sixth_from_p1 = len(filtered_merged_results_grid_position_1_df[filtered_merged_results_grid_position_1_df[\"race_result_position\"] == 6])\n",
    "sixth_from_p1"
   ]
  },
  {
   "cell_type": "code",
   "execution_count": 576,
   "id": "1da15cb2-984f-48d6-922c-0556f21ed637",
   "metadata": {},
   "outputs": [
    {
     "data": {
      "text/plain": [
       "0.017605633802816902"
      ]
     },
     "execution_count": 576,
     "metadata": {},
     "output_type": "execute_result"
    }
   ],
   "source": [
    "20/1136"
   ]
  },
  {
   "cell_type": "code",
   "execution_count": 570,
   "id": "99bdd9a5-1e27-4f79-a797-3fa32713c6ff",
   "metadata": {},
   "outputs": [
    {
     "data": {
      "image/png": "[encoded data removed]",
      "text/plain": [
       "<Figure size 640x480 with 1 Axes>"
      ]
     },
     "metadata": {},
     "output_type": "display_data"
    }
   ],
   "source": [
    "# Pie chart of proportion race result positions from p1\n",
    "# Variables\n",
    "win_from_p1 = 42\n",
    "sec_from_p1 = 14\n",
    "third_from_p1 = 7\n",
    "other_from_p1 = 37\n",
    "\n",
    "# Labels and values\n",
    "labels = ['Win from P1', 'Second from P1', 'Third from P1', 'Other from P1']\n",
    "values = [win_from_p1, sec_from_p1, third_from_p1, other_from_p1]\n",
    "\n",
    "# Plot\n",
    "plt.pie(values, labels=labels, autopct='%1.1f%%', startangle=90)\n",
    "plt.title('Race Outcomes from P1 Start')\n",
    "plt.axis('equal')  # Makes the pie a circle\n",
    "plt.show()"
   ]
  },
  {
   "cell_type": "code",
   "execution_count": null,
   "id": "082fa42d-ba34-4b40-9f91-1d4f5a5b49bc",
   "metadata": {},
   "outputs": [],
   "source": []
  },
  {
   "cell_type": "code",
   "execution_count": 443,
   "id": "1c7fde4e-5240-4112-92bb-b1e5414b4308",
   "metadata": {},
   "outputs": [
    {
     "data": {
      "text/plain": [
       "np.float64(0.22262024617627793)"
      ]
     },
     "execution_count": 443,
     "metadata": {},
     "output_type": "execute_result"
    }
   ],
   "source": [
    "merged_results_races_df['starting_grid_position'].corr(merged_results_races_df['race_result_position'], method='spearman')"
   ]
  },
  {
   "cell_type": "code",
   "execution_count": 444,
   "id": "5752bb94-2847-417a-a7e4-37d5af10a62b",
   "metadata": {},
   "outputs": [
    {
     "data": {
      "text/plain": [
       "np.float64(0.16509744313008815)"
      ]
     },
     "execution_count": 444,
     "metadata": {},
     "output_type": "execute_result"
    }
   ],
   "source": [
    "merged_results_races_df['starting_grid_position'].corr(merged_results_races_df['race_result_position'], method='pearson')"
   ]
  },
  {
   "cell_type": "code",
   "execution_count": 488,
   "id": "f71386d9-78b8-4f0f-bb0d-7d7363abfb21",
   "metadata": {},
   "outputs": [
    {
     "data": {
      "image/png": "[encoded data removed]",
      "text/plain": [
       "<Figure size 640x480 with 1 Axes>"
      ]
     },
     "metadata": {},
     "output_type": "display_data"
    }
   ],
   "source": [
    "sns.countplot(data=filtered_merged_results_grid_position_1_df, x = 'race_result_position')\n",
    "plt.show()"
   ]
  },
  {
   "cell_type": "code",
   "execution_count": 484,
   "id": "75e8eae8-74b2-4db1-9f00-72846e4728e4",
   "metadata": {},
   "outputs": [
    {
     "data": {
      "image/png": "[encoded data removed]",
      "text/plain": [
       "<Figure size 640x480 with 1 Axes>"
      ]
     },
     "metadata": {},
     "output_type": "display_data"
    }
   ],
   "source": [
    "# Adding a pie chart of the 'race_result_position' column value counts, with percentage labels, \n",
    "# starting at angle 90, and using colors from the \"Set3\" Seaborn palette\n",
    "filtered_merged_results_grid_position_1_df['race_result_position'].value_counts().plot.pie(autopct='%1.1f%%', startangle=90, colors=sns.color_palette(\"Set3\"))\n",
    "plt.show()"
   ]
  },
  {
   "cell_type": "code",
   "execution_count": 489,
   "id": "c1f9fc4e-1933-494a-9928-fdfd20e3cb48",
   "metadata": {},
   "outputs": [],
   "source": []
  },
  {
   "cell_type": "code",
   "execution_count": 465,
   "id": "d60cf8e8-c698-41ca-8a93-4393b4f3c025",
   "metadata": {},
   "outputs": [],
   "source": [
    "# 2a:\n",
    "# How does the starting grid position correlate to the race result position pre and post the introduction of DRS, \n",
    "# which was in the year 2011?"
   ]
  },
  {
   "cell_type": "code",
   "execution_count": 472,
   "id": "b6c1a328-845e-4cc3-b0af-1c4f13144df7",
   "metadata": {},
   "outputs": [],
   "source": [
    "# Pre-DRS\n",
    "drs_before_2011_df = merged_results_races_df[merged_results_races_df['year'] <2011]"
   ]
  },
  {
   "cell_type": "code",
   "execution_count": 479,
   "id": "47773de1-0c2e-451b-a10f-0d196e019c01",
   "metadata": {},
   "outputs": [],
   "source": [
    "# Starting from P1\n",
    "drs_before_2011_df_p1 = drs_before_2011_df[drs_before_2011_df['starting_grid_position']==1]"
   ]
  },
  {
   "cell_type": "code",
   "execution_count": 480,
   "id": "a50c3e2a-dc2b-4416-bca0-100b6b6c9230",
   "metadata": {},
   "outputs": [
    {
     "data": {
      "image/png": "[encoded data removed]",
      "text/plain": [
       "<Figure size 640x480 with 1 Axes>"
      ]
     },
     "metadata": {},
     "output_type": "display_data"
    }
   ],
   "source": [
    "sns.countplot(data=drs_before_2011_df_p1, x = 'race_result_position')\n",
    "plt.show()"
   ]
  },
  {
   "cell_type": "code",
   "execution_count": null,
   "id": "b35f9dbd-7537-4735-815f-8663d1ed8032",
   "metadata": {},
   "outputs": [],
   "source": [
    "# Strong correlation of starting from 1st position and finishing in 1st pre-DRS \n",
    "# (nearly 350 in 1st, just over 100 in 2nd and 50 in 3rd)"
   ]
  },
  {
   "cell_type": "code",
   "execution_count": 546,
   "id": "213e8f22-7809-4299-b69f-9c300deb83ac",
   "metadata": {},
   "outputs": [],
   "source": [
    "# Starting from P2\n",
    "drs_before_2011_df_p2 = drs_before_2011_df[drs_before_2011_df['starting_grid_position']==2]"
   ]
  },
  {
   "cell_type": "code",
   "execution_count": 581,
   "id": "4bee1877-9f07-43c6-af2c-c65dfe5dd2ab",
   "metadata": {},
   "outputs": [
    {
     "data": {
      "image/png": "[encoded data removed]",
      "text/plain": [
       "<Figure size 640x480 with 1 Axes>"
      ]
     },
     "metadata": {},
     "output_type": "display_data"
    }
   ],
   "source": [
    "sns.countplot(data=drs_before_2011_df_p2, x = 'race_result_position')\n",
    "plt.show()"
   ]
  },
  {
   "cell_type": "code",
   "execution_count": null,
   "id": "3a014c15-fe28-4f53-8356-c32b3ab31ee0",
   "metadata": {},
   "outputs": [],
   "source": [
    "# Correlation of starting from 2nd position and finishing in 1st or 2nd \n",
    "# (nearly 200 in 1st, 150 in 2nd and over 80 in 3rd)"
   ]
  },
  {
   "cell_type": "code",
   "execution_count": 549,
   "id": "58ff62ad-c16c-438d-bfc3-da04b38f299e",
   "metadata": {},
   "outputs": [],
   "source": [
    "# Starting from P3\n",
    "drs_before_2011_df_p3 = drs_before_2011_df[drs_before_2011_df['starting_grid_position']==3]"
   ]
  },
  {
   "cell_type": "code",
   "execution_count": 550,
   "id": "f9c0f8c9-0547-4cfa-b73d-76e40921092e",
   "metadata": {},
   "outputs": [
    {
     "data": {
      "image/png": "[encoded data removed]",
      "text/plain": [
       "<Figure size 640x480 with 1 Axes>"
      ]
     },
     "metadata": {},
     "output_type": "display_data"
    }
   ],
   "source": [
    "sns.countplot(data=drs_before_2011_df_p3, x = 'race_result_position')\n",
    "plt.show()"
   ]
  },
  {
   "cell_type": "code",
   "execution_count": null,
   "id": "ee355bd3-4c4f-4d27-813e-e532d278585e",
   "metadata": {},
   "outputs": [],
   "source": [
    "# Correlation of starting from 3rd position and finishing in 2nd position, closely followed by 3rd or 1st \n",
    "# (nearly 160 in 2nd, ~110 in 1st and 3rd)"
   ]
  },
  {
   "cell_type": "code",
   "execution_count": 470,
   "id": "1de66566-59ef-43a3-a7bc-4bf8b46d4339",
   "metadata": {
    "scrolled": true
   },
   "outputs": [],
   "source": [
    "# Post-DRS\n",
    "drs_after_2011_df = merged_results_races_df[merged_results_races_df['year'] >=2011]"
   ]
  },
  {
   "cell_type": "code",
   "execution_count": 477,
   "id": "9846b219-dfe2-4293-92aa-4b4542be5c0a",
   "metadata": {},
   "outputs": [],
   "source": [
    "# Starting from P1\n",
    "drs_after_2011_df_p1 = drs_after_2011_df[drs_after_2011_df['starting_grid_position']==1]"
   ]
  },
  {
   "cell_type": "code",
   "execution_count": 478,
   "id": "3afd8cfc-2150-4c70-acd4-971f744db07e",
   "metadata": {},
   "outputs": [
    {
     "data": {
      "image/png": "[encoded data removed]",
      "text/plain": [
       "<Figure size 640x480 with 1 Axes>"
      ]
     },
     "metadata": {},
     "output_type": "display_data"
    }
   ],
   "source": [
    "sns.countplot(data=drs_after_2011_df_p1, x = 'race_result_position')\n",
    "plt.show()"
   ]
  },
  {
   "cell_type": "code",
   "execution_count": null,
   "id": "3bb92a8a-046e-4875-ad4a-860dfe395694",
   "metadata": {},
   "outputs": [],
   "source": [
    "# Still a strong correlation of starting from 1st position and finishing in 1st post-DRS\n",
    "# but less of a leap from 1st to 2nd\n",
    "# ~ 150 finish in 1st\n",
    "# ~ 60 finish in 2nd \n",
    "# ~ 30 finish in 3rd"
   ]
  },
  {
   "cell_type": "code",
   "execution_count": 551,
   "id": "c7362f1f-d73f-42f2-877e-d85e4e91a9c7",
   "metadata": {},
   "outputs": [],
   "source": [
    "# Starting from P2\n",
    "drs_after_2011_df_p2 = drs_after_2011_df[drs_after_2011_df['starting_grid_position']==2]"
   ]
  },
  {
   "cell_type": "code",
   "execution_count": 552,
   "id": "9a481faa-83e5-485b-8952-be745c9c0aba",
   "metadata": {},
   "outputs": [
    {
     "data": {
      "image/png": "[encoded data removed]",
      "text/plain": [
       "<Figure size 640x480 with 1 Axes>"
      ]
     },
     "metadata": {},
     "output_type": "display_data"
    }
   ],
   "source": [
    "sns.countplot(data=drs_after_2011_df_p2, x = 'race_result_position')\n",
    "plt.show()"
   ]
  },
  {
   "cell_type": "code",
   "execution_count": null,
   "id": "9c47ddd3-5a11-46a6-a953-c92ab23ba17e",
   "metadata": {},
   "outputs": [],
   "source": [
    "# Strong correlation of starting from 2nd position and finishing in 2nd post-DRS (~80)\n",
    "# but very closely followed by 1st (~75)\n",
    "# ~ 40 finish in 3rd\n",
    "# Easier to overtake post DRS"
   ]
  },
  {
   "cell_type": "code",
   "execution_count": 553,
   "id": "de3ba51e-470e-4355-aef9-047809065333",
   "metadata": {},
   "outputs": [],
   "source": [
    "# Starting from P3\n",
    "drs_after_2011_df_p3 = drs_after_2011_df[drs_after_2011_df['starting_grid_position']==3]"
   ]
  },
  {
   "cell_type": "code",
   "execution_count": 554,
   "id": "666b6b1e-885c-4916-b138-35940c3eb896",
   "metadata": {},
   "outputs": [
    {
     "data": {
      "image/png": "[encoded data removed]",
      "text/plain": [
       "<Figure size 640x480 with 1 Axes>"
      ]
     },
     "metadata": {},
     "output_type": "display_data"
    }
   ],
   "source": [
    "sns.countplot(data=drs_after_2011_df_p3, x = 'race_result_position')\n",
    "plt.show()"
   ]
  },
  {
   "cell_type": "code",
   "execution_count": null,
   "id": "f31a7892-6ce1-48a3-81ad-5aad646422bb",
   "metadata": {},
   "outputs": [],
   "source": [
    "# Strong correlation of starting from 3rd position and finishing in 3rd post-DRS (~70)\n",
    "# closely followed by 2nd (~50)\n",
    "# ~ 30 finish in 1st\n",
    "# Easier to overtake post DRS"
   ]
  },
  {
   "cell_type": "code",
   "execution_count": null,
   "id": "54e0730e-7cc4-45e3-ab73-69914c7e5646",
   "metadata": {},
   "outputs": [],
   "source": [
    "# 2b: How does this correlate to overtaking pre and post DRS\n",
    "# Easier to overtake post DRS as the differences between finishing above the start position is less post DRS."
   ]
  },
  {
   "cell_type": "code",
   "execution_count": null,
   "id": "9f5fc1b2-fd84-482e-9e35-be8bbcf66aa1",
   "metadata": {},
   "outputs": [],
   "source": []
  },
  {
   "cell_type": "code",
   "execution_count": null,
   "id": "2a58a04f-f763-414b-8693-cd878463d66b",
   "metadata": {},
   "outputs": [],
   "source": []
  },
  {
   "cell_type": "code",
   "execution_count": null,
   "id": "7f5a3360-93d8-45d6-9776-628a3909c4d2",
   "metadata": {},
   "outputs": [],
   "source": [
    "# 3: \n",
    "# Which tracks allow the drivers to overtake and win no matter in what position you start? \n",
    "# (Reference the Circuit de Monaco street circuit, which is renown for being difficult to overtake - but where else?)\n",
    "# Supposed to be Singapore and Spa-Francorchamps (Belgium), Hungaroring (Hungary) too"
   ]
  },
  {
   "cell_type": "code",
   "execution_count": 318,
   "id": "3e375d2c-3686-453d-98eb-7618a8c40fd7",
   "metadata": {},
   "outputs": [],
   "source": [
    "# Need to merge with circuits df on circuitid\n",
    "# For loop to go through each of the 77 circuits"
   ]
  },
  {
   "cell_type": "code",
   "execution_count": 319,
   "id": "381de768-8ca1-44a5-afa9-a85f95ce6751",
   "metadata": {},
   "outputs": [],
   "source": []
  },
  {
   "cell_type": "code",
   "execution_count": null,
   "id": "171bec42-6ddc-4860-8227-202145a08e2f",
   "metadata": {},
   "outputs": [],
   "source": []
  },
  {
   "cell_type": "code",
   "execution_count": null,
   "id": "b4dedcc8-a057-4dad-acf7-92819d015e5f",
   "metadata": {},
   "outputs": [],
   "source": []
  },
  {
   "cell_type": "code",
   "execution_count": null,
   "id": "cf63feb7-4cb0-46cc-9f8d-ef6499ef283b",
   "metadata": {},
   "outputs": [],
   "source": []
  },
  {
   "cell_type": "code",
   "execution_count": null,
   "id": "d2ae536c-75eb-481c-90f3-780d2fe37e98",
   "metadata": {},
   "outputs": [],
   "source": [
    "# 4: Average Accident Count vs Pre and Post DRS Year 2011 "
   ]
  },
  {
   "cell_type": "code",
   "execution_count": 418,
   "id": "5d0cf951-32cd-4316-b8fe-44906d55507b",
   "metadata": {
    "scrolled": true
   },
   "outputs": [
    {
     "data": {
      "text/html": [
       "<div>\n",
       "<style scoped>\n",
       "    .dataframe tbody tr th:only-of-type {\n",
       "        vertical-align: middle;\n",
       "    }\n",
       "\n",
       "    .dataframe tbody tr th {\n",
       "        vertical-align: top;\n",
       "    }\n",
       "\n",
       "    .dataframe thead th {\n",
       "        text-align: right;\n",
       "    }\n",
       "</style>\n",
       "<table border=\"1\" class=\"dataframe\">\n",
       "  <thead>\n",
       "    <tr style=\"text-align: right;\">\n",
       "      <th></th>\n",
       "      <th>statusid</th>\n",
       "      <th>status</th>\n",
       "    </tr>\n",
       "  </thead>\n",
       "  <tbody>\n",
       "    <tr>\n",
       "      <th>0</th>\n",
       "      <td>1</td>\n",
       "      <td>Finished</td>\n",
       "    </tr>\n",
       "    <tr>\n",
       "      <th>1</th>\n",
       "      <td>2</td>\n",
       "      <td>Disqualified</td>\n",
       "    </tr>\n",
       "    <tr>\n",
       "      <th>2</th>\n",
       "      <td>3</td>\n",
       "      <td>Accident</td>\n",
       "    </tr>\n",
       "    <tr>\n",
       "      <th>3</th>\n",
       "      <td>4</td>\n",
       "      <td>Collision</td>\n",
       "    </tr>\n",
       "    <tr>\n",
       "      <th>4</th>\n",
       "      <td>5</td>\n",
       "      <td>Engine</td>\n",
       "    </tr>\n",
       "  </tbody>\n",
       "</table>\n",
       "</div>"
      ],
      "text/plain": [
       "   statusid        status\n",
       "0         1      Finished\n",
       "1         2  Disqualified\n",
       "2         3      Accident\n",
       "3         4     Collision\n",
       "4         5        Engine"
      ]
     },
     "execution_count": 418,
     "metadata": {},
     "output_type": "execute_result"
    }
   ],
   "source": [
    "status_df.head()"
   ]
  },
  {
   "cell_type": "code",
   "execution_count": 520,
   "id": "b4ade645-4dc7-4c22-b6c8-1067f1a942c8",
   "metadata": {},
   "outputs": [
    {
     "data": {
      "text/plain": [
       "array(['Finished', 'Disqualified', 'Accident', 'Collision', 'Engine',\n",
       "       'Gearbox', 'Transmission', 'Clutch', 'Hydraulics', 'Electrical',\n",
       "       '+1 Lap', '+2 Laps', '+3 Laps', '+4 Laps', '+5 Laps', '+6 Laps',\n",
       "       '+7 Laps', '+8 Laps', '+9 Laps', 'Spun off', 'Radiator',\n",
       "       'Suspension', 'Brakes', 'Differential', 'Overheating',\n",
       "       'Mechanical', 'Tyre', 'Driver Seat', 'Puncture', 'Driveshaft',\n",
       "       'Retired', 'Fuel pressure', 'Front wing', 'Water pressure',\n",
       "       'Refuelling', 'Wheel', 'Throttle', 'Steering', 'Technical',\n",
       "       'Electronics', 'Broken wing', 'Heat shield fire', 'Exhaust',\n",
       "       'Oil leak', '+11 Laps', 'Wheel rim', 'Water leak', 'Fuel pump',\n",
       "       'Track rod', '+17 Laps', 'Oil pressure', '+42 Laps', '+13 Laps',\n",
       "       'Withdrew', '+12 Laps', 'Engine fire', 'Engine misfire',\n",
       "       '+26 Laps', 'Tyre puncture', 'Out of fuel', 'Wheel nut',\n",
       "       'Not classified', 'Pneumatics', 'Handling', 'Rear wing', 'Fire',\n",
       "       'Wheel bearing', 'Physical', 'Fuel system', 'Oil line', 'Fuel rig',\n",
       "       'Launch control', 'Injured', 'Fuel', 'Power loss', 'Vibrations',\n",
       "       '107% Rule', 'Safety', 'Drivetrain', 'Ignition', 'Did not qualify',\n",
       "       'Injury', 'Chassis', 'Battery', 'Stalled', 'Halfshaft',\n",
       "       'Crankshaft', '+10 Laps', 'Safety concerns', 'Not restarted',\n",
       "       'Alternator', 'Underweight', 'Safety belt', 'Oil pump',\n",
       "       'Fuel leak', 'Excluded', 'Did not prequalify', 'Injection',\n",
       "       'Distributor', 'Driver unwell', 'Turbo', 'CV joint', 'Water pump',\n",
       "       'Fatal accident', 'Spark plugs', 'Fuel pipe', 'Eye injury',\n",
       "       'Oil pipe', 'Axle', 'Water pipe', '+14 Laps', '+15 Laps',\n",
       "       '+25 Laps', '+18 Laps', '+22 Laps', '+16 Laps', '+24 Laps',\n",
       "       '+29 Laps', '+23 Laps', '+21 Laps', 'Magneto', '+44 Laps',\n",
       "       '+30 Laps', '+19 Laps', '+46 Laps', 'Supercharger', '+20 Laps',\n",
       "       'Collision damage', 'Power Unit', 'ERS', '+49 Laps', '+38 Laps',\n",
       "       'Brake duct', 'Seat', 'Damage', 'Debris', 'Illness', 'Undertray',\n",
       "       'Cooling system'], dtype=object)"
      ]
     },
     "execution_count": 520,
     "metadata": {},
     "output_type": "execute_result"
    }
   ],
   "source": [
    "status_df['status'].unique()"
   ]
  },
  {
   "cell_type": "code",
   "execution_count": 526,
   "id": "3fa6506a-d1c7-45ba-a9aa-7dec86301378",
   "metadata": {},
   "outputs": [],
   "source": [
    "Accident_result = status_df.loc[status_df['status'] == 'Accident', 'statusid']"
   ]
  },
  {
   "cell_type": "code",
   "execution_count": 527,
   "id": "af1eca2a-510e-4587-b7a3-df9ddab0799e",
   "metadata": {},
   "outputs": [
    {
     "data": {
      "text/plain": [
       "2    3\n",
       "Name: statusid, dtype: int64"
      ]
     },
     "execution_count": 527,
     "metadata": {},
     "output_type": "execute_result"
    }
   ],
   "source": [
    "Accident_result"
   ]
  },
  {
   "cell_type": "code",
   "execution_count": 528,
   "id": "8f934ad0-b472-4f8a-92e5-729f86252f7c",
   "metadata": {},
   "outputs": [],
   "source": [
    "Collision_result = status_df.loc[status_df['status'] == 'Collision', 'statusid']"
   ]
  },
  {
   "cell_type": "code",
   "execution_count": 529,
   "id": "1ba25e2a-5e41-4343-80ed-afc060f3c87d",
   "metadata": {},
   "outputs": [
    {
     "data": {
      "text/plain": [
       "3    4\n",
       "Name: statusid, dtype: int64"
      ]
     },
     "execution_count": 529,
     "metadata": {},
     "output_type": "execute_result"
    }
   ],
   "source": [
    "Collision_result "
   ]
  },
  {
   "cell_type": "code",
   "execution_count": 521,
   "id": "d1dafc4d-d7bd-4987-b3de-a4bee5c8e608",
   "metadata": {},
   "outputs": [],
   "source": [
    "Collision_damage_result = status_df.loc[status_df['status'] == 'Collision damage', 'statusid']"
   ]
  },
  {
   "cell_type": "code",
   "execution_count": 523,
   "id": "a0f9553f-dbb6-4719-a348-e61dfde782c7",
   "metadata": {},
   "outputs": [
    {
     "data": {
      "text/plain": [
       "127    130\n",
       "Name: statusid, dtype: int64"
      ]
     },
     "execution_count": 523,
     "metadata": {},
     "output_type": "execute_result"
    }
   ],
   "source": [
    "Collision_damage_result"
   ]
  },
  {
   "cell_type": "code",
   "execution_count": 524,
   "id": "ae624823-2872-4ad4-b148-0b21f1b5682e",
   "metadata": {},
   "outputs": [],
   "source": [
    "Damage_result = status_df.loc[status_df['status'] == 'Damage', 'statusid']"
   ]
  },
  {
   "cell_type": "code",
   "execution_count": 525,
   "id": "e07af39b-d1aa-4a20-b994-9b6854fa716e",
   "metadata": {},
   "outputs": [
    {
     "data": {
      "text/plain": [
       "134    137\n",
       "Name: statusid, dtype: int64"
      ]
     },
     "execution_count": 525,
     "metadata": {},
     "output_type": "execute_result"
    }
   ],
   "source": [
    "Damage_result"
   ]
  },
  {
   "cell_type": "code",
   "execution_count": 530,
   "id": "78871653-e18b-4bd2-abba-742d2779eacf",
   "metadata": {},
   "outputs": [],
   "source": [
    "# merge status df with results df on status id\n",
    "\n",
    "merged_status_results_df = pd.merge(status_df, results_df, on ='statusid')"
   ]
  },
  {
   "cell_type": "code",
   "execution_count": 532,
   "id": "a45a8a05-655f-46e3-83bc-14cfc4b841b4",
   "metadata": {},
   "outputs": [
    {
     "data": {
      "text/html": [
       "<div>\n",
       "<style scoped>\n",
       "    .dataframe tbody tr th:only-of-type {\n",
       "        vertical-align: middle;\n",
       "    }\n",
       "\n",
       "    .dataframe tbody tr th {\n",
       "        vertical-align: top;\n",
       "    }\n",
       "\n",
       "    .dataframe thead th {\n",
       "        text-align: right;\n",
       "    }\n",
       "</style>\n",
       "<table border=\"1\" class=\"dataframe\">\n",
       "  <thead>\n",
       "    <tr style=\"text-align: right;\">\n",
       "      <th></th>\n",
       "      <th>statusid</th>\n",
       "      <th>status</th>\n",
       "      <th>resultid</th>\n",
       "      <th>raceid</th>\n",
       "      <th>driverid</th>\n",
       "      <th>constructorid</th>\n",
       "      <th>number</th>\n",
       "      <th>starting_grid_position</th>\n",
       "      <th>position</th>\n",
       "      <th>positiontext</th>\n",
       "      <th>race_result_position</th>\n",
       "      <th>points</th>\n",
       "      <th>laps</th>\n",
       "      <th>time</th>\n",
       "      <th>milliseconds</th>\n",
       "      <th>fastestlap</th>\n",
       "      <th>rank</th>\n",
       "      <th>fastestlaptime</th>\n",
       "      <th>fastestlapspeed</th>\n",
       "    </tr>\n",
       "  </thead>\n",
       "  <tbody>\n",
       "    <tr>\n",
       "      <th>0</th>\n",
       "      <td>1</td>\n",
       "      <td>Finished</td>\n",
       "      <td>1</td>\n",
       "      <td>18</td>\n",
       "      <td>1</td>\n",
       "      <td>1</td>\n",
       "      <td>22</td>\n",
       "      <td>1</td>\n",
       "      <td>1</td>\n",
       "      <td>1</td>\n",
       "      <td>1</td>\n",
       "      <td>10.0</td>\n",
       "      <td>58</td>\n",
       "      <td>1:34:50.616</td>\n",
       "      <td>5690616</td>\n",
       "      <td>39</td>\n",
       "      <td>2</td>\n",
       "      <td>1:27.452</td>\n",
       "      <td>218.300</td>\n",
       "    </tr>\n",
       "    <tr>\n",
       "      <th>1</th>\n",
       "      <td>1</td>\n",
       "      <td>Finished</td>\n",
       "      <td>2</td>\n",
       "      <td>18</td>\n",
       "      <td>2</td>\n",
       "      <td>2</td>\n",
       "      <td>3</td>\n",
       "      <td>5</td>\n",
       "      <td>2</td>\n",
       "      <td>2</td>\n",
       "      <td>2</td>\n",
       "      <td>8.0</td>\n",
       "      <td>58</td>\n",
       "      <td>+5.478</td>\n",
       "      <td>5696094</td>\n",
       "      <td>41</td>\n",
       "      <td>3</td>\n",
       "      <td>1:27.739</td>\n",
       "      <td>217.586</td>\n",
       "    </tr>\n",
       "    <tr>\n",
       "      <th>2</th>\n",
       "      <td>1</td>\n",
       "      <td>Finished</td>\n",
       "      <td>3</td>\n",
       "      <td>18</td>\n",
       "      <td>3</td>\n",
       "      <td>3</td>\n",
       "      <td>7</td>\n",
       "      <td>7</td>\n",
       "      <td>3</td>\n",
       "      <td>3</td>\n",
       "      <td>3</td>\n",
       "      <td>6.0</td>\n",
       "      <td>58</td>\n",
       "      <td>+8.163</td>\n",
       "      <td>5698779</td>\n",
       "      <td>41</td>\n",
       "      <td>5</td>\n",
       "      <td>1:28.090</td>\n",
       "      <td>216.719</td>\n",
       "    </tr>\n",
       "    <tr>\n",
       "      <th>3</th>\n",
       "      <td>1</td>\n",
       "      <td>Finished</td>\n",
       "      <td>4</td>\n",
       "      <td>18</td>\n",
       "      <td>4</td>\n",
       "      <td>4</td>\n",
       "      <td>5</td>\n",
       "      <td>11</td>\n",
       "      <td>4</td>\n",
       "      <td>4</td>\n",
       "      <td>4</td>\n",
       "      <td>5.0</td>\n",
       "      <td>58</td>\n",
       "      <td>+17.181</td>\n",
       "      <td>5707797</td>\n",
       "      <td>58</td>\n",
       "      <td>7</td>\n",
       "      <td>1:28.603</td>\n",
       "      <td>215.464</td>\n",
       "    </tr>\n",
       "    <tr>\n",
       "      <th>4</th>\n",
       "      <td>1</td>\n",
       "      <td>Finished</td>\n",
       "      <td>5</td>\n",
       "      <td>18</td>\n",
       "      <td>5</td>\n",
       "      <td>1</td>\n",
       "      <td>23</td>\n",
       "      <td>3</td>\n",
       "      <td>5</td>\n",
       "      <td>5</td>\n",
       "      <td>5</td>\n",
       "      <td>4.0</td>\n",
       "      <td>58</td>\n",
       "      <td>+18.014</td>\n",
       "      <td>5708630</td>\n",
       "      <td>43</td>\n",
       "      <td>1</td>\n",
       "      <td>1:27.418</td>\n",
       "      <td>218.385</td>\n",
       "    </tr>\n",
       "  </tbody>\n",
       "</table>\n",
       "</div>"
      ],
      "text/plain": [
       "   statusid    status  resultid  raceid  driverid  constructorid number  \\\n",
       "0         1  Finished         1      18         1              1     22   \n",
       "1         1  Finished         2      18         2              2      3   \n",
       "2         1  Finished         3      18         3              3      7   \n",
       "3         1  Finished         4      18         4              4      5   \n",
       "4         1  Finished         5      18         5              1     23   \n",
       "\n",
       "   starting_grid_position position positiontext  race_result_position  points  \\\n",
       "0                       1        1            1                     1    10.0   \n",
       "1                       5        2            2                     2     8.0   \n",
       "2                       7        3            3                     3     6.0   \n",
       "3                      11        4            4                     4     5.0   \n",
       "4                       3        5            5                     5     4.0   \n",
       "\n",
       "   laps         time milliseconds fastestlap rank fastestlaptime  \\\n",
       "0    58  1:34:50.616      5690616         39    2       1:27.452   \n",
       "1    58       +5.478      5696094         41    3       1:27.739   \n",
       "2    58       +8.163      5698779         41    5       1:28.090   \n",
       "3    58      +17.181      5707797         58    7       1:28.603   \n",
       "4    58      +18.014      5708630         43    1       1:27.418   \n",
       "\n",
       "  fastestlapspeed  \n",
       "0         218.300  \n",
       "1         217.586  \n",
       "2         216.719  \n",
       "3         215.464  \n",
       "4         218.385  "
      ]
     },
     "execution_count": 532,
     "metadata": {},
     "output_type": "execute_result"
    }
   ],
   "source": [
    "merged_status_results_df.head()"
   ]
  },
  {
   "cell_type": "code",
   "execution_count": 533,
   "id": "8fd605c9-17fc-4859-a9ab-21a9e4ce794e",
   "metadata": {},
   "outputs": [],
   "source": [
    "# merge with races on race id\n",
    "# year column, count accidents in both pre and post DRS. Take average as data will be disproportionate pre-DRS 2011.\n",
    "merged_status_results_year_df = pd.merge(merged_status_results_df, races_df, on ='raceid')"
   ]
  },
  {
   "cell_type": "code",
   "execution_count": 535,
   "id": "1ef9df5e-6ee8-4bdc-902f-b186284c0ad9",
   "metadata": {},
   "outputs": [
    {
     "data": {
      "text/plain": [
       "Index(['statusid', 'status', 'resultid', 'raceid', 'driverid', 'constructorid',\n",
       "       'number', 'starting_grid_position', 'position', 'positiontext',\n",
       "       'race_result_position', 'points', 'laps', 'time_x', 'milliseconds',\n",
       "       'fastestlap', 'rank', 'fastestlaptime', 'fastestlapspeed', 'year',\n",
       "       'round', 'circuitid', 'name', 'date', 'time_y', 'url', 'fp1_date',\n",
       "       'fp1_time', 'fp2_date', 'fp2_time', 'fp3_date', 'fp3_time',\n",
       "       'quali_date', 'quali_time', 'sprint_date', 'sprint_time'],\n",
       "      dtype='object')"
      ]
     },
     "execution_count": 535,
     "metadata": {},
     "output_type": "execute_result"
    }
   ],
   "source": [
    "merged_status_results_year_df.columns"
   ]
  },
  {
   "cell_type": "code",
   "execution_count": 543,
   "id": "f1d113fd-6eb6-4eef-83b4-70b82811b0d2",
   "metadata": {},
   "outputs": [],
   "source": [
    "filtered_merged_accidents_results_df = merged_status_results_year_df[\n",
    "    merged_status_results_year_df['status'].isin(['Accident', 'Collision', 'Collision damage', 'Damage'])\n",
    "]"
   ]
  },
  {
   "cell_type": "code",
   "execution_count": 544,
   "id": "86ae491f-0c45-4184-baa2-854d0b0cfbe7",
   "metadata": {},
   "outputs": [
    {
     "data": {
      "image/png": "[encoded data removed]",
      "text/plain": [
       "<Figure size 640x480 with 1 Axes>"
      ]
     },
     "metadata": {},
     "output_type": "display_data"
    }
   ],
   "source": [
    "# Plotting a grouped bar chart/countplot\n",
    "sns.countplot(data=filtered_merged_accidents_results_df, x='status', hue='year')\n",
    "plt.show()"
   ]
  },
  {
   "cell_type": "code",
   "execution_count": 587,
   "id": "19a19a40-83e3-45d0-9016-14272e9eb95f",
   "metadata": {},
   "outputs": [],
   "source": []
  },
  {
   "cell_type": "code",
   "execution_count": 579,
   "id": "42620ffb-426f-4f2c-b9d5-f82234016aaa",
   "metadata": {},
   "outputs": [
    {
     "data": {
      "text/html": [
       "<div>\n",
       "<style scoped>\n",
       "    .dataframe tbody tr th:only-of-type {\n",
       "        vertical-align: middle;\n",
       "    }\n",
       "\n",
       "    .dataframe tbody tr th {\n",
       "        vertical-align: top;\n",
       "    }\n",
       "\n",
       "    .dataframe thead th {\n",
       "        text-align: right;\n",
       "    }\n",
       "</style>\n",
       "<table border=\"1\" class=\"dataframe\">\n",
       "  <thead>\n",
       "    <tr style=\"text-align: right;\">\n",
       "      <th></th>\n",
       "      <th>resultid</th>\n",
       "      <th>raceid</th>\n",
       "      <th>driverid</th>\n",
       "      <th>constructorid</th>\n",
       "      <th>number</th>\n",
       "      <th>starting_grid_position</th>\n",
       "      <th>position</th>\n",
       "      <th>positiontext</th>\n",
       "      <th>race_result_position</th>\n",
       "      <th>points</th>\n",
       "      <th>...</th>\n",
       "      <th>fp1_date</th>\n",
       "      <th>fp1_time</th>\n",
       "      <th>fp2_date</th>\n",
       "      <th>fp2_time</th>\n",
       "      <th>fp3_date</th>\n",
       "      <th>fp3_time</th>\n",
       "      <th>quali_date</th>\n",
       "      <th>quali_time</th>\n",
       "      <th>sprint_date</th>\n",
       "      <th>sprint_time</th>\n",
       "    </tr>\n",
       "  </thead>\n",
       "  <tbody>\n",
       "    <tr>\n",
       "      <th>0</th>\n",
       "      <td>1</td>\n",
       "      <td>18</td>\n",
       "      <td>1</td>\n",
       "      <td>1</td>\n",
       "      <td>22</td>\n",
       "      <td>1</td>\n",
       "      <td>1</td>\n",
       "      <td>1</td>\n",
       "      <td>1</td>\n",
       "      <td>10.0</td>\n",
       "      <td>...</td>\n",
       "      <td>\\N</td>\n",
       "      <td>\\N</td>\n",
       "      <td>\\N</td>\n",
       "      <td>\\N</td>\n",
       "      <td>\\N</td>\n",
       "      <td>\\N</td>\n",
       "      <td>\\N</td>\n",
       "      <td>\\N</td>\n",
       "      <td>\\N</td>\n",
       "      <td>\\N</td>\n",
       "    </tr>\n",
       "    <tr>\n",
       "      <th>1</th>\n",
       "      <td>2</td>\n",
       "      <td>18</td>\n",
       "      <td>2</td>\n",
       "      <td>2</td>\n",
       "      <td>3</td>\n",
       "      <td>5</td>\n",
       "      <td>2</td>\n",
       "      <td>2</td>\n",
       "      <td>2</td>\n",
       "      <td>8.0</td>\n",
       "      <td>...</td>\n",
       "      <td>\\N</td>\n",
       "      <td>\\N</td>\n",
       "      <td>\\N</td>\n",
       "      <td>\\N</td>\n",
       "      <td>\\N</td>\n",
       "      <td>\\N</td>\n",
       "      <td>\\N</td>\n",
       "      <td>\\N</td>\n",
       "      <td>\\N</td>\n",
       "      <td>\\N</td>\n",
       "    </tr>\n",
       "    <tr>\n",
       "      <th>2</th>\n",
       "      <td>3</td>\n",
       "      <td>18</td>\n",
       "      <td>3</td>\n",
       "      <td>3</td>\n",
       "      <td>7</td>\n",
       "      <td>7</td>\n",
       "      <td>3</td>\n",
       "      <td>3</td>\n",
       "      <td>3</td>\n",
       "      <td>6.0</td>\n",
       "      <td>...</td>\n",
       "      <td>\\N</td>\n",
       "      <td>\\N</td>\n",
       "      <td>\\N</td>\n",
       "      <td>\\N</td>\n",
       "      <td>\\N</td>\n",
       "      <td>\\N</td>\n",
       "      <td>\\N</td>\n",
       "      <td>\\N</td>\n",
       "      <td>\\N</td>\n",
       "      <td>\\N</td>\n",
       "    </tr>\n",
       "    <tr>\n",
       "      <th>3</th>\n",
       "      <td>4</td>\n",
       "      <td>18</td>\n",
       "      <td>4</td>\n",
       "      <td>4</td>\n",
       "      <td>5</td>\n",
       "      <td>11</td>\n",
       "      <td>4</td>\n",
       "      <td>4</td>\n",
       "      <td>4</td>\n",
       "      <td>5.0</td>\n",
       "      <td>...</td>\n",
       "      <td>\\N</td>\n",
       "      <td>\\N</td>\n",
       "      <td>\\N</td>\n",
       "      <td>\\N</td>\n",
       "      <td>\\N</td>\n",
       "      <td>\\N</td>\n",
       "      <td>\\N</td>\n",
       "      <td>\\N</td>\n",
       "      <td>\\N</td>\n",
       "      <td>\\N</td>\n",
       "    </tr>\n",
       "    <tr>\n",
       "      <th>4</th>\n",
       "      <td>5</td>\n",
       "      <td>18</td>\n",
       "      <td>5</td>\n",
       "      <td>1</td>\n",
       "      <td>23</td>\n",
       "      <td>3</td>\n",
       "      <td>5</td>\n",
       "      <td>5</td>\n",
       "      <td>5</td>\n",
       "      <td>4.0</td>\n",
       "      <td>...</td>\n",
       "      <td>\\N</td>\n",
       "      <td>\\N</td>\n",
       "      <td>\\N</td>\n",
       "      <td>\\N</td>\n",
       "      <td>\\N</td>\n",
       "      <td>\\N</td>\n",
       "      <td>\\N</td>\n",
       "      <td>\\N</td>\n",
       "      <td>\\N</td>\n",
       "      <td>\\N</td>\n",
       "    </tr>\n",
       "    <tr>\n",
       "      <th>...</th>\n",
       "      <td>...</td>\n",
       "      <td>...</td>\n",
       "      <td>...</td>\n",
       "      <td>...</td>\n",
       "      <td>...</td>\n",
       "      <td>...</td>\n",
       "      <td>...</td>\n",
       "      <td>...</td>\n",
       "      <td>...</td>\n",
       "      <td>...</td>\n",
       "      <td>...</td>\n",
       "      <td>...</td>\n",
       "      <td>...</td>\n",
       "      <td>...</td>\n",
       "      <td>...</td>\n",
       "      <td>...</td>\n",
       "      <td>...</td>\n",
       "      <td>...</td>\n",
       "      <td>...</td>\n",
       "      <td>...</td>\n",
       "      <td>...</td>\n",
       "    </tr>\n",
       "    <tr>\n",
       "      <th>26754</th>\n",
       "      <td>26760</td>\n",
       "      <td>1144</td>\n",
       "      <td>825</td>\n",
       "      <td>210</td>\n",
       "      <td>20</td>\n",
       "      <td>14</td>\n",
       "      <td>16</td>\n",
       "      <td>16</td>\n",
       "      <td>16</td>\n",
       "      <td>0.0</td>\n",
       "      <td>...</td>\n",
       "      <td>2024-12-06</td>\n",
       "      <td>09:30:00</td>\n",
       "      <td>2024-12-06</td>\n",
       "      <td>13:00:00</td>\n",
       "      <td>2024-12-07</td>\n",
       "      <td>10:30:00</td>\n",
       "      <td>2024-12-07</td>\n",
       "      <td>14:00:00</td>\n",
       "      <td>\\N</td>\n",
       "      <td>\\N</td>\n",
       "    </tr>\n",
       "    <tr>\n",
       "      <th>26755</th>\n",
       "      <td>26761</td>\n",
       "      <td>1144</td>\n",
       "      <td>859</td>\n",
       "      <td>215</td>\n",
       "      <td>30</td>\n",
       "      <td>12</td>\n",
       "      <td>17</td>\n",
       "      <td>17</td>\n",
       "      <td>17</td>\n",
       "      <td>0.0</td>\n",
       "      <td>...</td>\n",
       "      <td>2024-12-06</td>\n",
       "      <td>09:30:00</td>\n",
       "      <td>2024-12-06</td>\n",
       "      <td>13:00:00</td>\n",
       "      <td>2024-12-07</td>\n",
       "      <td>10:30:00</td>\n",
       "      <td>2024-12-07</td>\n",
       "      <td>14:00:00</td>\n",
       "      <td>\\N</td>\n",
       "      <td>\\N</td>\n",
       "    </tr>\n",
       "    <tr>\n",
       "      <th>26756</th>\n",
       "      <td>26762</td>\n",
       "      <td>1144</td>\n",
       "      <td>822</td>\n",
       "      <td>15</td>\n",
       "      <td>77</td>\n",
       "      <td>9</td>\n",
       "      <td>\\N</td>\n",
       "      <td>R</td>\n",
       "      <td>18</td>\n",
       "      <td>0.0</td>\n",
       "      <td>...</td>\n",
       "      <td>2024-12-06</td>\n",
       "      <td>09:30:00</td>\n",
       "      <td>2024-12-06</td>\n",
       "      <td>13:00:00</td>\n",
       "      <td>2024-12-07</td>\n",
       "      <td>10:30:00</td>\n",
       "      <td>2024-12-07</td>\n",
       "      <td>14:00:00</td>\n",
       "      <td>\\N</td>\n",
       "      <td>\\N</td>\n",
       "    </tr>\n",
       "    <tr>\n",
       "      <th>26757</th>\n",
       "      <td>26763</td>\n",
       "      <td>1144</td>\n",
       "      <td>861</td>\n",
       "      <td>3</td>\n",
       "      <td>43</td>\n",
       "      <td>20</td>\n",
       "      <td>\\N</td>\n",
       "      <td>R</td>\n",
       "      <td>19</td>\n",
       "      <td>0.0</td>\n",
       "      <td>...</td>\n",
       "      <td>2024-12-06</td>\n",
       "      <td>09:30:00</td>\n",
       "      <td>2024-12-06</td>\n",
       "      <td>13:00:00</td>\n",
       "      <td>2024-12-07</td>\n",
       "      <td>10:30:00</td>\n",
       "      <td>2024-12-07</td>\n",
       "      <td>14:00:00</td>\n",
       "      <td>\\N</td>\n",
       "      <td>\\N</td>\n",
       "    </tr>\n",
       "    <tr>\n",
       "      <th>26758</th>\n",
       "      <td>26764</td>\n",
       "      <td>1144</td>\n",
       "      <td>815</td>\n",
       "      <td>9</td>\n",
       "      <td>11</td>\n",
       "      <td>10</td>\n",
       "      <td>\\N</td>\n",
       "      <td>R</td>\n",
       "      <td>20</td>\n",
       "      <td>0.0</td>\n",
       "      <td>...</td>\n",
       "      <td>2024-12-06</td>\n",
       "      <td>09:30:00</td>\n",
       "      <td>2024-12-06</td>\n",
       "      <td>13:00:00</td>\n",
       "      <td>2024-12-07</td>\n",
       "      <td>10:30:00</td>\n",
       "      <td>2024-12-07</td>\n",
       "      <td>14:00:00</td>\n",
       "      <td>\\N</td>\n",
       "      <td>\\N</td>\n",
       "    </tr>\n",
       "  </tbody>\n",
       "</table>\n",
       "<p>26759 rows × 35 columns</p>\n",
       "</div>"
      ],
      "text/plain": [
       "       resultid  raceid  driverid  constructorid number  \\\n",
       "0             1      18         1              1     22   \n",
       "1             2      18         2              2      3   \n",
       "2             3      18         3              3      7   \n",
       "3             4      18         4              4      5   \n",
       "4             5      18         5              1     23   \n",
       "...         ...     ...       ...            ...    ...   \n",
       "26754     26760    1144       825            210     20   \n",
       "26755     26761    1144       859            215     30   \n",
       "26756     26762    1144       822             15     77   \n",
       "26757     26763    1144       861              3     43   \n",
       "26758     26764    1144       815              9     11   \n",
       "\n",
       "       starting_grid_position position positiontext  race_result_position  \\\n",
       "0                           1        1            1                     1   \n",
       "1                           5        2            2                     2   \n",
       "2                           7        3            3                     3   \n",
       "3                          11        4            4                     4   \n",
       "4                           3        5            5                     5   \n",
       "...                       ...      ...          ...                   ...   \n",
       "26754                      14       16           16                    16   \n",
       "26755                      12       17           17                    17   \n",
       "26756                       9       \\N            R                    18   \n",
       "26757                      20       \\N            R                    19   \n",
       "26758                      10       \\N            R                    20   \n",
       "\n",
       "       points  ...    fp1_date  fp1_time    fp2_date  fp2_time    fp3_date  \\\n",
       "0        10.0  ...          \\N        \\N          \\N        \\N          \\N   \n",
       "1         8.0  ...          \\N        \\N          \\N        \\N          \\N   \n",
       "2         6.0  ...          \\N        \\N          \\N        \\N          \\N   \n",
       "3         5.0  ...          \\N        \\N          \\N        \\N          \\N   \n",
       "4         4.0  ...          \\N        \\N          \\N        \\N          \\N   \n",
       "...       ...  ...         ...       ...         ...       ...         ...   \n",
       "26754     0.0  ...  2024-12-06  09:30:00  2024-12-06  13:00:00  2024-12-07   \n",
       "26755     0.0  ...  2024-12-06  09:30:00  2024-12-06  13:00:00  2024-12-07   \n",
       "26756     0.0  ...  2024-12-06  09:30:00  2024-12-06  13:00:00  2024-12-07   \n",
       "26757     0.0  ...  2024-12-06  09:30:00  2024-12-06  13:00:00  2024-12-07   \n",
       "26758     0.0  ...  2024-12-06  09:30:00  2024-12-06  13:00:00  2024-12-07   \n",
       "\n",
       "       fp3_time  quali_date  quali_time  sprint_date  sprint_time  \n",
       "0            \\N          \\N          \\N           \\N           \\N  \n",
       "1            \\N          \\N          \\N           \\N           \\N  \n",
       "2            \\N          \\N          \\N           \\N           \\N  \n",
       "3            \\N          \\N          \\N           \\N           \\N  \n",
       "4            \\N          \\N          \\N           \\N           \\N  \n",
       "...         ...         ...         ...          ...          ...  \n",
       "26754  10:30:00  2024-12-07    14:00:00           \\N           \\N  \n",
       "26755  10:30:00  2024-12-07    14:00:00           \\N           \\N  \n",
       "26756  10:30:00  2024-12-07    14:00:00           \\N           \\N  \n",
       "26757  10:30:00  2024-12-07    14:00:00           \\N           \\N  \n",
       "26758  10:30:00  2024-12-07    14:00:00           \\N           \\N  \n",
       "\n",
       "[26759 rows x 35 columns]"
      ]
     },
     "execution_count": 579,
     "metadata": {},
     "output_type": "execute_result"
    }
   ],
   "source": [
    "merged_results_races_df"
   ]
  },
  {
   "cell_type": "code",
   "execution_count": 580,
   "id": "2884efd6-dc8a-4b41-b211-702f998c5b6e",
   "metadata": {},
   "outputs": [
    {
     "data": {
      "text/plain": [
       "Index(['resultid', 'raceid', 'driverid', 'constructorid', 'number',\n",
       "       'starting_grid_position', 'position', 'positiontext',\n",
       "       'race_result_position', 'points', 'laps', 'time_x', 'milliseconds',\n",
       "       'fastestlap', 'rank', 'fastestlaptime', 'fastestlapspeed', 'statusid',\n",
       "       'year', 'round', 'circuitid', 'name', 'date', 'time_y', 'url',\n",
       "       'fp1_date', 'fp1_time', 'fp2_date', 'fp2_time', 'fp3_date', 'fp3_time',\n",
       "       'quali_date', 'quali_time', 'sprint_date', 'sprint_time'],\n",
       "      dtype='object')"
      ]
     },
     "execution_count": 580,
     "metadata": {},
     "output_type": "execute_result"
    }
   ],
   "source": [
    "merged_results_races_df.columns"
   ]
  },
  {
   "cell_type": "code",
   "execution_count": 591,
   "id": "400d0e5e-2327-44e1-8e83-b55aa367a4be",
   "metadata": {},
   "outputs": [],
   "source": [
    "merged_results_races_df.to_excel(r\"/Users/astridrestupersonal/Desktop/Ironhack Project Week 5/Project-Week-5/Sheet1.xlsx\")"
   ]
  },
  {
   "cell_type": "code",
   "execution_count": 592,
   "id": "8bfa3e64-e959-48e4-bc70-b06adba26a0f",
   "metadata": {},
   "outputs": [
    {
     "data": {
      "text/html": [
       "<div>\n",
       "<style scoped>\n",
       "    .dataframe tbody tr th:only-of-type {\n",
       "        vertical-align: middle;\n",
       "    }\n",
       "\n",
       "    .dataframe tbody tr th {\n",
       "        vertical-align: top;\n",
       "    }\n",
       "\n",
       "    .dataframe thead th {\n",
       "        text-align: right;\n",
       "    }\n",
       "</style>\n",
       "<table border=\"1\" class=\"dataframe\">\n",
       "  <thead>\n",
       "    <tr style=\"text-align: right;\">\n",
       "      <th></th>\n",
       "      <th>resultid</th>\n",
       "      <th>raceid</th>\n",
       "      <th>driverid</th>\n",
       "      <th>constructorid</th>\n",
       "      <th>number</th>\n",
       "      <th>starting_grid_position</th>\n",
       "      <th>position</th>\n",
       "      <th>positiontext</th>\n",
       "      <th>race_result_position</th>\n",
       "      <th>points</th>\n",
       "      <th>...</th>\n",
       "      <th>fp1_date</th>\n",
       "      <th>fp1_time</th>\n",
       "      <th>fp2_date</th>\n",
       "      <th>fp2_time</th>\n",
       "      <th>fp3_date</th>\n",
       "      <th>fp3_time</th>\n",
       "      <th>quali_date</th>\n",
       "      <th>quali_time</th>\n",
       "      <th>sprint_date</th>\n",
       "      <th>sprint_time</th>\n",
       "    </tr>\n",
       "  </thead>\n",
       "  <tbody>\n",
       "    <tr>\n",
       "      <th>0</th>\n",
       "      <td>1</td>\n",
       "      <td>18</td>\n",
       "      <td>1</td>\n",
       "      <td>1</td>\n",
       "      <td>22</td>\n",
       "      <td>1</td>\n",
       "      <td>1</td>\n",
       "      <td>1</td>\n",
       "      <td>1</td>\n",
       "      <td>10.0</td>\n",
       "      <td>...</td>\n",
       "      <td>\\N</td>\n",
       "      <td>\\N</td>\n",
       "      <td>\\N</td>\n",
       "      <td>\\N</td>\n",
       "      <td>\\N</td>\n",
       "      <td>\\N</td>\n",
       "      <td>\\N</td>\n",
       "      <td>\\N</td>\n",
       "      <td>\\N</td>\n",
       "      <td>\\N</td>\n",
       "    </tr>\n",
       "    <tr>\n",
       "      <th>1</th>\n",
       "      <td>2</td>\n",
       "      <td>18</td>\n",
       "      <td>2</td>\n",
       "      <td>2</td>\n",
       "      <td>3</td>\n",
       "      <td>5</td>\n",
       "      <td>2</td>\n",
       "      <td>2</td>\n",
       "      <td>2</td>\n",
       "      <td>8.0</td>\n",
       "      <td>...</td>\n",
       "      <td>\\N</td>\n",
       "      <td>\\N</td>\n",
       "      <td>\\N</td>\n",
       "      <td>\\N</td>\n",
       "      <td>\\N</td>\n",
       "      <td>\\N</td>\n",
       "      <td>\\N</td>\n",
       "      <td>\\N</td>\n",
       "      <td>\\N</td>\n",
       "      <td>\\N</td>\n",
       "    </tr>\n",
       "    <tr>\n",
       "      <th>2</th>\n",
       "      <td>3</td>\n",
       "      <td>18</td>\n",
       "      <td>3</td>\n",
       "      <td>3</td>\n",
       "      <td>7</td>\n",
       "      <td>7</td>\n",
       "      <td>3</td>\n",
       "      <td>3</td>\n",
       "      <td>3</td>\n",
       "      <td>6.0</td>\n",
       "      <td>...</td>\n",
       "      <td>\\N</td>\n",
       "      <td>\\N</td>\n",
       "      <td>\\N</td>\n",
       "      <td>\\N</td>\n",
       "      <td>\\N</td>\n",
       "      <td>\\N</td>\n",
       "      <td>\\N</td>\n",
       "      <td>\\N</td>\n",
       "      <td>\\N</td>\n",
       "      <td>\\N</td>\n",
       "    </tr>\n",
       "    <tr>\n",
       "      <th>3</th>\n",
       "      <td>4</td>\n",
       "      <td>18</td>\n",
       "      <td>4</td>\n",
       "      <td>4</td>\n",
       "      <td>5</td>\n",
       "      <td>11</td>\n",
       "      <td>4</td>\n",
       "      <td>4</td>\n",
       "      <td>4</td>\n",
       "      <td>5.0</td>\n",
       "      <td>...</td>\n",
       "      <td>\\N</td>\n",
       "      <td>\\N</td>\n",
       "      <td>\\N</td>\n",
       "      <td>\\N</td>\n",
       "      <td>\\N</td>\n",
       "      <td>\\N</td>\n",
       "      <td>\\N</td>\n",
       "      <td>\\N</td>\n",
       "      <td>\\N</td>\n",
       "      <td>\\N</td>\n",
       "    </tr>\n",
       "    <tr>\n",
       "      <th>4</th>\n",
       "      <td>5</td>\n",
       "      <td>18</td>\n",
       "      <td>5</td>\n",
       "      <td>1</td>\n",
       "      <td>23</td>\n",
       "      <td>3</td>\n",
       "      <td>5</td>\n",
       "      <td>5</td>\n",
       "      <td>5</td>\n",
       "      <td>4.0</td>\n",
       "      <td>...</td>\n",
       "      <td>\\N</td>\n",
       "      <td>\\N</td>\n",
       "      <td>\\N</td>\n",
       "      <td>\\N</td>\n",
       "      <td>\\N</td>\n",
       "      <td>\\N</td>\n",
       "      <td>\\N</td>\n",
       "      <td>\\N</td>\n",
       "      <td>\\N</td>\n",
       "      <td>\\N</td>\n",
       "    </tr>\n",
       "    <tr>\n",
       "      <th>...</th>\n",
       "      <td>...</td>\n",
       "      <td>...</td>\n",
       "      <td>...</td>\n",
       "      <td>...</td>\n",
       "      <td>...</td>\n",
       "      <td>...</td>\n",
       "      <td>...</td>\n",
       "      <td>...</td>\n",
       "      <td>...</td>\n",
       "      <td>...</td>\n",
       "      <td>...</td>\n",
       "      <td>...</td>\n",
       "      <td>...</td>\n",
       "      <td>...</td>\n",
       "      <td>...</td>\n",
       "      <td>...</td>\n",
       "      <td>...</td>\n",
       "      <td>...</td>\n",
       "      <td>...</td>\n",
       "      <td>...</td>\n",
       "      <td>...</td>\n",
       "    </tr>\n",
       "    <tr>\n",
       "      <th>26754</th>\n",
       "      <td>26760</td>\n",
       "      <td>1144</td>\n",
       "      <td>825</td>\n",
       "      <td>210</td>\n",
       "      <td>20</td>\n",
       "      <td>14</td>\n",
       "      <td>16</td>\n",
       "      <td>16</td>\n",
       "      <td>16</td>\n",
       "      <td>0.0</td>\n",
       "      <td>...</td>\n",
       "      <td>2024-12-06</td>\n",
       "      <td>09:30:00</td>\n",
       "      <td>2024-12-06</td>\n",
       "      <td>13:00:00</td>\n",
       "      <td>2024-12-07</td>\n",
       "      <td>10:30:00</td>\n",
       "      <td>2024-12-07</td>\n",
       "      <td>14:00:00</td>\n",
       "      <td>\\N</td>\n",
       "      <td>\\N</td>\n",
       "    </tr>\n",
       "    <tr>\n",
       "      <th>26755</th>\n",
       "      <td>26761</td>\n",
       "      <td>1144</td>\n",
       "      <td>859</td>\n",
       "      <td>215</td>\n",
       "      <td>30</td>\n",
       "      <td>12</td>\n",
       "      <td>17</td>\n",
       "      <td>17</td>\n",
       "      <td>17</td>\n",
       "      <td>0.0</td>\n",
       "      <td>...</td>\n",
       "      <td>2024-12-06</td>\n",
       "      <td>09:30:00</td>\n",
       "      <td>2024-12-06</td>\n",
       "      <td>13:00:00</td>\n",
       "      <td>2024-12-07</td>\n",
       "      <td>10:30:00</td>\n",
       "      <td>2024-12-07</td>\n",
       "      <td>14:00:00</td>\n",
       "      <td>\\N</td>\n",
       "      <td>\\N</td>\n",
       "    </tr>\n",
       "    <tr>\n",
       "      <th>26756</th>\n",
       "      <td>26762</td>\n",
       "      <td>1144</td>\n",
       "      <td>822</td>\n",
       "      <td>15</td>\n",
       "      <td>77</td>\n",
       "      <td>9</td>\n",
       "      <td>\\N</td>\n",
       "      <td>R</td>\n",
       "      <td>18</td>\n",
       "      <td>0.0</td>\n",
       "      <td>...</td>\n",
       "      <td>2024-12-06</td>\n",
       "      <td>09:30:00</td>\n",
       "      <td>2024-12-06</td>\n",
       "      <td>13:00:00</td>\n",
       "      <td>2024-12-07</td>\n",
       "      <td>10:30:00</td>\n",
       "      <td>2024-12-07</td>\n",
       "      <td>14:00:00</td>\n",
       "      <td>\\N</td>\n",
       "      <td>\\N</td>\n",
       "    </tr>\n",
       "    <tr>\n",
       "      <th>26757</th>\n",
       "      <td>26763</td>\n",
       "      <td>1144</td>\n",
       "      <td>861</td>\n",
       "      <td>3</td>\n",
       "      <td>43</td>\n",
       "      <td>20</td>\n",
       "      <td>\\N</td>\n",
       "      <td>R</td>\n",
       "      <td>19</td>\n",
       "      <td>0.0</td>\n",
       "      <td>...</td>\n",
       "      <td>2024-12-06</td>\n",
       "      <td>09:30:00</td>\n",
       "      <td>2024-12-06</td>\n",
       "      <td>13:00:00</td>\n",
       "      <td>2024-12-07</td>\n",
       "      <td>10:30:00</td>\n",
       "      <td>2024-12-07</td>\n",
       "      <td>14:00:00</td>\n",
       "      <td>\\N</td>\n",
       "      <td>\\N</td>\n",
       "    </tr>\n",
       "    <tr>\n",
       "      <th>26758</th>\n",
       "      <td>26764</td>\n",
       "      <td>1144</td>\n",
       "      <td>815</td>\n",
       "      <td>9</td>\n",
       "      <td>11</td>\n",
       "      <td>10</td>\n",
       "      <td>\\N</td>\n",
       "      <td>R</td>\n",
       "      <td>20</td>\n",
       "      <td>0.0</td>\n",
       "      <td>...</td>\n",
       "      <td>2024-12-06</td>\n",
       "      <td>09:30:00</td>\n",
       "      <td>2024-12-06</td>\n",
       "      <td>13:00:00</td>\n",
       "      <td>2024-12-07</td>\n",
       "      <td>10:30:00</td>\n",
       "      <td>2024-12-07</td>\n",
       "      <td>14:00:00</td>\n",
       "      <td>\\N</td>\n",
       "      <td>\\N</td>\n",
       "    </tr>\n",
       "  </tbody>\n",
       "</table>\n",
       "<p>26759 rows × 35 columns</p>\n",
       "</div>"
      ],
      "text/plain": [
       "       resultid  raceid  driverid  constructorid number  \\\n",
       "0             1      18         1              1     22   \n",
       "1             2      18         2              2      3   \n",
       "2             3      18         3              3      7   \n",
       "3             4      18         4              4      5   \n",
       "4             5      18         5              1     23   \n",
       "...         ...     ...       ...            ...    ...   \n",
       "26754     26760    1144       825            210     20   \n",
       "26755     26761    1144       859            215     30   \n",
       "26756     26762    1144       822             15     77   \n",
       "26757     26763    1144       861              3     43   \n",
       "26758     26764    1144       815              9     11   \n",
       "\n",
       "       starting_grid_position position positiontext  race_result_position  \\\n",
       "0                           1        1            1                     1   \n",
       "1                           5        2            2                     2   \n",
       "2                           7        3            3                     3   \n",
       "3                          11        4            4                     4   \n",
       "4                           3        5            5                     5   \n",
       "...                       ...      ...          ...                   ...   \n",
       "26754                      14       16           16                    16   \n",
       "26755                      12       17           17                    17   \n",
       "26756                       9       \\N            R                    18   \n",
       "26757                      20       \\N            R                    19   \n",
       "26758                      10       \\N            R                    20   \n",
       "\n",
       "       points  ...    fp1_date  fp1_time    fp2_date  fp2_time    fp3_date  \\\n",
       "0        10.0  ...          \\N        \\N          \\N        \\N          \\N   \n",
       "1         8.0  ...          \\N        \\N          \\N        \\N          \\N   \n",
       "2         6.0  ...          \\N        \\N          \\N        \\N          \\N   \n",
       "3         5.0  ...          \\N        \\N          \\N        \\N          \\N   \n",
       "4         4.0  ...          \\N        \\N          \\N        \\N          \\N   \n",
       "...       ...  ...         ...       ...         ...       ...         ...   \n",
       "26754     0.0  ...  2024-12-06  09:30:00  2024-12-06  13:00:00  2024-12-07   \n",
       "26755     0.0  ...  2024-12-06  09:30:00  2024-12-06  13:00:00  2024-12-07   \n",
       "26756     0.0  ...  2024-12-06  09:30:00  2024-12-06  13:00:00  2024-12-07   \n",
       "26757     0.0  ...  2024-12-06  09:30:00  2024-12-06  13:00:00  2024-12-07   \n",
       "26758     0.0  ...  2024-12-06  09:30:00  2024-12-06  13:00:00  2024-12-07   \n",
       "\n",
       "       fp3_time  quali_date  quali_time  sprint_date  sprint_time  \n",
       "0            \\N          \\N          \\N           \\N           \\N  \n",
       "1            \\N          \\N          \\N           \\N           \\N  \n",
       "2            \\N          \\N          \\N           \\N           \\N  \n",
       "3            \\N          \\N          \\N           \\N           \\N  \n",
       "4            \\N          \\N          \\N           \\N           \\N  \n",
       "...         ...         ...         ...          ...          ...  \n",
       "26754  10:30:00  2024-12-07    14:00:00           \\N           \\N  \n",
       "26755  10:30:00  2024-12-07    14:00:00           \\N           \\N  \n",
       "26756  10:30:00  2024-12-07    14:00:00           \\N           \\N  \n",
       "26757  10:30:00  2024-12-07    14:00:00           \\N           \\N  \n",
       "26758  10:30:00  2024-12-07    14:00:00           \\N           \\N  \n",
       "\n",
       "[26759 rows x 35 columns]"
      ]
     },
     "execution_count": 592,
     "metadata": {},
     "output_type": "execute_result"
    }
   ],
   "source": [
    "merged_results_races_df"
   ]
  },
  {
   "cell_type": "code",
   "execution_count": 593,
   "id": "6f61162b-8097-4d2d-b55c-15bc370ff17c",
   "metadata": {},
   "outputs": [
    {
     "data": {
      "text/html": [
       "<div>\n",
       "<style scoped>\n",
       "    .dataframe tbody tr th:only-of-type {\n",
       "        vertical-align: middle;\n",
       "    }\n",
       "\n",
       "    .dataframe tbody tr th {\n",
       "        vertical-align: top;\n",
       "    }\n",
       "\n",
       "    .dataframe thead th {\n",
       "        text-align: right;\n",
       "    }\n",
       "</style>\n",
       "<table border=\"1\" class=\"dataframe\">\n",
       "  <thead>\n",
       "    <tr style=\"text-align: right;\">\n",
       "      <th></th>\n",
       "      <th>statusid</th>\n",
       "      <th>status</th>\n",
       "      <th>resultid</th>\n",
       "      <th>raceid</th>\n",
       "      <th>driverid</th>\n",
       "      <th>constructorid</th>\n",
       "      <th>number</th>\n",
       "      <th>starting_grid_position</th>\n",
       "      <th>position</th>\n",
       "      <th>positiontext</th>\n",
       "      <th>...</th>\n",
       "      <th>fp1_date</th>\n",
       "      <th>fp1_time</th>\n",
       "      <th>fp2_date</th>\n",
       "      <th>fp2_time</th>\n",
       "      <th>fp3_date</th>\n",
       "      <th>fp3_time</th>\n",
       "      <th>quali_date</th>\n",
       "      <th>quali_time</th>\n",
       "      <th>sprint_date</th>\n",
       "      <th>sprint_time</th>\n",
       "    </tr>\n",
       "  </thead>\n",
       "  <tbody>\n",
       "    <tr>\n",
       "      <th>0</th>\n",
       "      <td>1</td>\n",
       "      <td>Finished</td>\n",
       "      <td>1</td>\n",
       "      <td>18</td>\n",
       "      <td>1</td>\n",
       "      <td>1</td>\n",
       "      <td>22</td>\n",
       "      <td>1</td>\n",
       "      <td>1</td>\n",
       "      <td>1</td>\n",
       "      <td>...</td>\n",
       "      <td>\\N</td>\n",
       "      <td>\\N</td>\n",
       "      <td>\\N</td>\n",
       "      <td>\\N</td>\n",
       "      <td>\\N</td>\n",
       "      <td>\\N</td>\n",
       "      <td>\\N</td>\n",
       "      <td>\\N</td>\n",
       "      <td>\\N</td>\n",
       "      <td>\\N</td>\n",
       "    </tr>\n",
       "    <tr>\n",
       "      <th>1</th>\n",
       "      <td>1</td>\n",
       "      <td>Finished</td>\n",
       "      <td>2</td>\n",
       "      <td>18</td>\n",
       "      <td>2</td>\n",
       "      <td>2</td>\n",
       "      <td>3</td>\n",
       "      <td>5</td>\n",
       "      <td>2</td>\n",
       "      <td>2</td>\n",
       "      <td>...</td>\n",
       "      <td>\\N</td>\n",
       "      <td>\\N</td>\n",
       "      <td>\\N</td>\n",
       "      <td>\\N</td>\n",
       "      <td>\\N</td>\n",
       "      <td>\\N</td>\n",
       "      <td>\\N</td>\n",
       "      <td>\\N</td>\n",
       "      <td>\\N</td>\n",
       "      <td>\\N</td>\n",
       "    </tr>\n",
       "    <tr>\n",
       "      <th>2</th>\n",
       "      <td>1</td>\n",
       "      <td>Finished</td>\n",
       "      <td>3</td>\n",
       "      <td>18</td>\n",
       "      <td>3</td>\n",
       "      <td>3</td>\n",
       "      <td>7</td>\n",
       "      <td>7</td>\n",
       "      <td>3</td>\n",
       "      <td>3</td>\n",
       "      <td>...</td>\n",
       "      <td>\\N</td>\n",
       "      <td>\\N</td>\n",
       "      <td>\\N</td>\n",
       "      <td>\\N</td>\n",
       "      <td>\\N</td>\n",
       "      <td>\\N</td>\n",
       "      <td>\\N</td>\n",
       "      <td>\\N</td>\n",
       "      <td>\\N</td>\n",
       "      <td>\\N</td>\n",
       "    </tr>\n",
       "    <tr>\n",
       "      <th>3</th>\n",
       "      <td>1</td>\n",
       "      <td>Finished</td>\n",
       "      <td>4</td>\n",
       "      <td>18</td>\n",
       "      <td>4</td>\n",
       "      <td>4</td>\n",
       "      <td>5</td>\n",
       "      <td>11</td>\n",
       "      <td>4</td>\n",
       "      <td>4</td>\n",
       "      <td>...</td>\n",
       "      <td>\\N</td>\n",
       "      <td>\\N</td>\n",
       "      <td>\\N</td>\n",
       "      <td>\\N</td>\n",
       "      <td>\\N</td>\n",
       "      <td>\\N</td>\n",
       "      <td>\\N</td>\n",
       "      <td>\\N</td>\n",
       "      <td>\\N</td>\n",
       "      <td>\\N</td>\n",
       "    </tr>\n",
       "    <tr>\n",
       "      <th>4</th>\n",
       "      <td>1</td>\n",
       "      <td>Finished</td>\n",
       "      <td>5</td>\n",
       "      <td>18</td>\n",
       "      <td>5</td>\n",
       "      <td>1</td>\n",
       "      <td>23</td>\n",
       "      <td>3</td>\n",
       "      <td>5</td>\n",
       "      <td>5</td>\n",
       "      <td>...</td>\n",
       "      <td>\\N</td>\n",
       "      <td>\\N</td>\n",
       "      <td>\\N</td>\n",
       "      <td>\\N</td>\n",
       "      <td>\\N</td>\n",
       "      <td>\\N</td>\n",
       "      <td>\\N</td>\n",
       "      <td>\\N</td>\n",
       "      <td>\\N</td>\n",
       "      <td>\\N</td>\n",
       "    </tr>\n",
       "    <tr>\n",
       "      <th>...</th>\n",
       "      <td>...</td>\n",
       "      <td>...</td>\n",
       "      <td>...</td>\n",
       "      <td>...</td>\n",
       "      <td>...</td>\n",
       "      <td>...</td>\n",
       "      <td>...</td>\n",
       "      <td>...</td>\n",
       "      <td>...</td>\n",
       "      <td>...</td>\n",
       "      <td>...</td>\n",
       "      <td>...</td>\n",
       "      <td>...</td>\n",
       "      <td>...</td>\n",
       "      <td>...</td>\n",
       "      <td>...</td>\n",
       "      <td>...</td>\n",
       "      <td>...</td>\n",
       "      <td>...</td>\n",
       "      <td>...</td>\n",
       "      <td>...</td>\n",
       "    </tr>\n",
       "    <tr>\n",
       "      <th>26754</th>\n",
       "      <td>140</td>\n",
       "      <td>Undertray</td>\n",
       "      <td>25624</td>\n",
       "      <td>1084</td>\n",
       "      <td>849</td>\n",
       "      <td>3</td>\n",
       "      <td>6</td>\n",
       "      <td>17</td>\n",
       "      <td>\\N</td>\n",
       "      <td>R</td>\n",
       "      <td>...</td>\n",
       "      <td>2022-07-08</td>\n",
       "      <td>11:30:00</td>\n",
       "      <td>2022-07-09</td>\n",
       "      <td>10:30:00</td>\n",
       "      <td>\\N</td>\n",
       "      <td>\\N</td>\n",
       "      <td>2022-07-08</td>\n",
       "      <td>15:00:00</td>\n",
       "      <td>2022-07-09</td>\n",
       "      <td>14:30:00</td>\n",
       "    </tr>\n",
       "    <tr>\n",
       "      <th>26755</th>\n",
       "      <td>140</td>\n",
       "      <td>Undertray</td>\n",
       "      <td>25645</td>\n",
       "      <td>1085</td>\n",
       "      <td>852</td>\n",
       "      <td>213</td>\n",
       "      <td>22</td>\n",
       "      <td>8</td>\n",
       "      <td>\\N</td>\n",
       "      <td>R</td>\n",
       "      <td>...</td>\n",
       "      <td>2022-07-22</td>\n",
       "      <td>12:00:00</td>\n",
       "      <td>2022-07-22</td>\n",
       "      <td>15:00:00</td>\n",
       "      <td>2022-07-23</td>\n",
       "      <td>11:00:00</td>\n",
       "      <td>2022-07-23</td>\n",
       "      <td>14:00:00</td>\n",
       "      <td>\\N</td>\n",
       "      <td>\\N</td>\n",
       "    </tr>\n",
       "    <tr>\n",
       "      <th>26756</th>\n",
       "      <td>140</td>\n",
       "      <td>Undertray</td>\n",
       "      <td>26104</td>\n",
       "      <td>1111</td>\n",
       "      <td>844</td>\n",
       "      <td>6</td>\n",
       "      <td>16</td>\n",
       "      <td>9</td>\n",
       "      <td>\\N</td>\n",
       "      <td>R</td>\n",
       "      <td>...</td>\n",
       "      <td>2023-08-25</td>\n",
       "      <td>10:30:00</td>\n",
       "      <td>2023-08-25</td>\n",
       "      <td>14:00:00</td>\n",
       "      <td>2023-08-26</td>\n",
       "      <td>09:30:00</td>\n",
       "      <td>2023-08-26</td>\n",
       "      <td>13:00:00</td>\n",
       "      <td>\\N</td>\n",
       "      <td>\\N</td>\n",
       "    </tr>\n",
       "    <tr>\n",
       "      <th>26757</th>\n",
       "      <td>140</td>\n",
       "      <td>Undertray</td>\n",
       "      <td>26201</td>\n",
       "      <td>1116</td>\n",
       "      <td>4</td>\n",
       "      <td>117</td>\n",
       "      <td>14</td>\n",
       "      <td>0</td>\n",
       "      <td>\\N</td>\n",
       "      <td>R</td>\n",
       "      <td>...</td>\n",
       "      <td>2023-10-20</td>\n",
       "      <td>17:30:00</td>\n",
       "      <td>2023-10-21</td>\n",
       "      <td>18:00:00</td>\n",
       "      <td>\\N</td>\n",
       "      <td>\\N</td>\n",
       "      <td>2023-10-20</td>\n",
       "      <td>21:00:00</td>\n",
       "      <td>2023-10-21</td>\n",
       "      <td>22:00:00</td>\n",
       "    </tr>\n",
       "    <tr>\n",
       "      <th>26758</th>\n",
       "      <td>141</td>\n",
       "      <td>Cooling system</td>\n",
       "      <td>25440</td>\n",
       "      <td>1075</td>\n",
       "      <td>822</td>\n",
       "      <td>51</td>\n",
       "      <td>77</td>\n",
       "      <td>8</td>\n",
       "      <td>\\N</td>\n",
       "      <td>R</td>\n",
       "      <td>...</td>\n",
       "      <td>2022-03-25</td>\n",
       "      <td>14:00:00</td>\n",
       "      <td>2022-03-25</td>\n",
       "      <td>17:00:00</td>\n",
       "      <td>2022-03-26</td>\n",
       "      <td>14:00:00</td>\n",
       "      <td>2022-03-26</td>\n",
       "      <td>17:00:00</td>\n",
       "      <td>\\N</td>\n",
       "      <td>\\N</td>\n",
       "    </tr>\n",
       "  </tbody>\n",
       "</table>\n",
       "<p>26759 rows × 36 columns</p>\n",
       "</div>"
      ],
      "text/plain": [
       "       statusid          status  resultid  raceid  driverid  constructorid  \\\n",
       "0             1        Finished         1      18         1              1   \n",
       "1             1        Finished         2      18         2              2   \n",
       "2             1        Finished         3      18         3              3   \n",
       "3             1        Finished         4      18         4              4   \n",
       "4             1        Finished         5      18         5              1   \n",
       "...         ...             ...       ...     ...       ...            ...   \n",
       "26754       140       Undertray     25624    1084       849              3   \n",
       "26755       140       Undertray     25645    1085       852            213   \n",
       "26756       140       Undertray     26104    1111       844              6   \n",
       "26757       140       Undertray     26201    1116         4            117   \n",
       "26758       141  Cooling system     25440    1075       822             51   \n",
       "\n",
       "      number  starting_grid_position position positiontext  ...    fp1_date  \\\n",
       "0         22                       1        1            1  ...          \\N   \n",
       "1          3                       5        2            2  ...          \\N   \n",
       "2          7                       7        3            3  ...          \\N   \n",
       "3          5                      11        4            4  ...          \\N   \n",
       "4         23                       3        5            5  ...          \\N   \n",
       "...      ...                     ...      ...          ...  ...         ...   \n",
       "26754      6                      17       \\N            R  ...  2022-07-08   \n",
       "26755     22                       8       \\N            R  ...  2022-07-22   \n",
       "26756     16                       9       \\N            R  ...  2023-08-25   \n",
       "26757     14                       0       \\N            R  ...  2023-10-20   \n",
       "26758     77                       8       \\N            R  ...  2022-03-25   \n",
       "\n",
       "       fp1_time    fp2_date  fp2_time    fp3_date  fp3_time  quali_date  \\\n",
       "0            \\N          \\N        \\N          \\N        \\N          \\N   \n",
       "1            \\N          \\N        \\N          \\N        \\N          \\N   \n",
       "2            \\N          \\N        \\N          \\N        \\N          \\N   \n",
       "3            \\N          \\N        \\N          \\N        \\N          \\N   \n",
       "4            \\N          \\N        \\N          \\N        \\N          \\N   \n",
       "...         ...         ...       ...         ...       ...         ...   \n",
       "26754  11:30:00  2022-07-09  10:30:00          \\N        \\N  2022-07-08   \n",
       "26755  12:00:00  2022-07-22  15:00:00  2022-07-23  11:00:00  2022-07-23   \n",
       "26756  10:30:00  2023-08-25  14:00:00  2023-08-26  09:30:00  2023-08-26   \n",
       "26757  17:30:00  2023-10-21  18:00:00          \\N        \\N  2023-10-20   \n",
       "26758  14:00:00  2022-03-25  17:00:00  2022-03-26  14:00:00  2022-03-26   \n",
       "\n",
       "      quali_time sprint_date  sprint_time  \n",
       "0             \\N          \\N           \\N  \n",
       "1             \\N          \\N           \\N  \n",
       "2             \\N          \\N           \\N  \n",
       "3             \\N          \\N           \\N  \n",
       "4             \\N          \\N           \\N  \n",
       "...          ...         ...          ...  \n",
       "26754   15:00:00  2022-07-09     14:30:00  \n",
       "26755   14:00:00          \\N           \\N  \n",
       "26756   13:00:00          \\N           \\N  \n",
       "26757   21:00:00  2023-10-21     22:00:00  \n",
       "26758   17:00:00          \\N           \\N  \n",
       "\n",
       "[26759 rows x 36 columns]"
      ]
     },
     "execution_count": 593,
     "metadata": {},
     "output_type": "execute_result"
    }
   ],
   "source": [
    "merged_status_results_year_df"
   ]
  },
  {
   "cell_type": "code",
   "execution_count": 595,
   "id": "e6237f76-8be8-4866-996c-92a5abee87b2",
   "metadata": {},
   "outputs": [],
   "source": [
    "merged_status_results_year_df.to_excel(r\"/Users/astridrestupersonal/Desktop/Ironhack Project Week 5/Project-Week-5/status_df.xlsx\")"
   ]
  },
  {
   "cell_type": "code",
   "execution_count": null,
   "id": "bcb5682c-72f5-4bdd-aa40-fea13e3bd281",
   "metadata": {},
   "outputs": [],
   "source": []
  }
 ],
 "metadata": {
  "kernelspec": {
   "display_name": "Python [conda env:base] *",
   "language": "python",
   "name": "conda-base-py"
  },
  "language_info": {
   "codemirror_mode": {
    "name": "ipython",
    "version": 3
   },
   "file_extension": ".py",
   "mimetype": "text/x-python",
   "name": "python",
   "nbconvert_exporter": "python",
   "pygments_lexer": "ipython3",
   "version": "3.13.5"
  }
 },
 "nbformat": 4,
 "nbformat_minor": 5
}
